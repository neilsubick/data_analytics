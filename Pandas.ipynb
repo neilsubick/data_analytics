{
  "nbformat": 4,
  "nbformat_minor": 0,
  "metadata": {
    "colab": {
      "name": "Pandas.ipynb",
      "provenance": [],
      "authorship_tag": "ABX9TyMyB6pyzsAXczYbbeCVVpsC",
      "include_colab_link": true
    },
    "kernelspec": {
      "name": "python3",
      "display_name": "Python 3"
    }
  },
  "cells": [
    {
      "cell_type": "markdown",
      "metadata": {
        "id": "view-in-github",
        "colab_type": "text"
      },
      "source": [
        "<a href=\"https://colab.research.google.com/github/neilsubick/data_analytics/blob/main/Pandas.ipynb\" target=\"_parent\"><img src=\"https://colab.research.google.com/assets/colab-badge.svg\" alt=\"Open In Colab\"/></a>"
      ]
    },
    {
      "cell_type": "code",
      "metadata": {
        "id": "hcAaNqaM8MGq"
      },
      "source": [
        "import numpy as np\r\n",
        "import pandas as pd"
      ],
      "execution_count": 1,
      "outputs": []
    },
    {
      "cell_type": "code",
      "metadata": {
        "colab": {
          "base_uri": "https://localhost:8080/"
        },
        "id": "BuLqoHpH8dkB",
        "outputId": "943341e9-20c1-4d9c-83c4-4e5264274962"
      },
      "source": [
        "labels = ['a','b','c']\r\n",
        "my_data = [10,20,30]\r\n",
        "arr = np.array(my_data)\r\n",
        "print(arr)\r\n",
        "\r\n",
        "d = {'a':10, 'b':20, 'c':30} \r\n",
        "print(d)\r\n",
        "\r\n",
        "pd.Series(data= my_data, index=labels)"
      ],
      "execution_count": 3,
      "outputs": [
        {
          "output_type": "stream",
          "text": [
            "[10 20 30]\n",
            "{'a': 10, 'b': 20, 'c': 30}\n"
          ],
          "name": "stdout"
        },
        {
          "output_type": "execute_result",
          "data": {
            "text/plain": [
              "a    10\n",
              "b    20\n",
              "c    30\n",
              "dtype: int64"
            ]
          },
          "metadata": {
            "tags": []
          },
          "execution_count": 3
        }
      ]
    },
    {
      "cell_type": "code",
      "metadata": {
        "colab": {
          "base_uri": "https://localhost:8080/",
          "height": 195
        },
        "id": "gJOi4YeN-eif",
        "outputId": "7bdc764e-6842-423c-abb4-95155b7835f5"
      },
      "source": [
        "from numpy.random import randn\r\n",
        "np.random.seed(123)\r\n",
        "\r\n",
        "df = pd.DataFrame(randn(5,4),['A','B','C','D','E'],['W','X','Y','Z'])\r\n",
        "df\r\n",
        "#df1 = df ['W']\r\n",
        "#df1"
      ],
      "execution_count": 5,
      "outputs": [
        {
          "output_type": "execute_result",
          "data": {
            "text/html": [
              "<div>\n",
              "<style scoped>\n",
              "    .dataframe tbody tr th:only-of-type {\n",
              "        vertical-align: middle;\n",
              "    }\n",
              "\n",
              "    .dataframe tbody tr th {\n",
              "        vertical-align: top;\n",
              "    }\n",
              "\n",
              "    .dataframe thead th {\n",
              "        text-align: right;\n",
              "    }\n",
              "</style>\n",
              "<table border=\"1\" class=\"dataframe\">\n",
              "  <thead>\n",
              "    <tr style=\"text-align: right;\">\n",
              "      <th></th>\n",
              "      <th>W</th>\n",
              "      <th>X</th>\n",
              "      <th>Y</th>\n",
              "      <th>Z</th>\n",
              "    </tr>\n",
              "  </thead>\n",
              "  <tbody>\n",
              "    <tr>\n",
              "      <th>A</th>\n",
              "      <td>-1.085631</td>\n",
              "      <td>0.997345</td>\n",
              "      <td>0.282978</td>\n",
              "      <td>-1.506295</td>\n",
              "    </tr>\n",
              "    <tr>\n",
              "      <th>B</th>\n",
              "      <td>-0.578600</td>\n",
              "      <td>1.651437</td>\n",
              "      <td>-2.426679</td>\n",
              "      <td>-0.428913</td>\n",
              "    </tr>\n",
              "    <tr>\n",
              "      <th>C</th>\n",
              "      <td>1.265936</td>\n",
              "      <td>-0.866740</td>\n",
              "      <td>-0.678886</td>\n",
              "      <td>-0.094709</td>\n",
              "    </tr>\n",
              "    <tr>\n",
              "      <th>D</th>\n",
              "      <td>1.491390</td>\n",
              "      <td>-0.638902</td>\n",
              "      <td>-0.443982</td>\n",
              "      <td>-0.434351</td>\n",
              "    </tr>\n",
              "    <tr>\n",
              "      <th>E</th>\n",
              "      <td>2.205930</td>\n",
              "      <td>2.186786</td>\n",
              "      <td>1.004054</td>\n",
              "      <td>0.386186</td>\n",
              "    </tr>\n",
              "  </tbody>\n",
              "</table>\n",
              "</div>"
            ],
            "text/plain": [
              "          W         X         Y         Z\n",
              "A -1.085631  0.997345  0.282978 -1.506295\n",
              "B -0.578600  1.651437 -2.426679 -0.428913\n",
              "C  1.265936 -0.866740 -0.678886 -0.094709\n",
              "D  1.491390 -0.638902 -0.443982 -0.434351\n",
              "E  2.205930  2.186786  1.004054  0.386186"
            ]
          },
          "metadata": {
            "tags": []
          },
          "execution_count": 5
        }
      ]
    },
    {
      "cell_type": "code",
      "metadata": {
        "colab": {
          "base_uri": "https://localhost:8080/",
          "height": 195
        },
        "id": "sMYMwIa1CVxR",
        "outputId": "80fec367-b16b-43eb-e0e1-750f826397de"
      },
      "source": [
        "df['New'] = df['W'] + df['Y']\r\n",
        "df"
      ],
      "execution_count": 6,
      "outputs": [
        {
          "output_type": "execute_result",
          "data": {
            "text/html": [
              "<div>\n",
              "<style scoped>\n",
              "    .dataframe tbody tr th:only-of-type {\n",
              "        vertical-align: middle;\n",
              "    }\n",
              "\n",
              "    .dataframe tbody tr th {\n",
              "        vertical-align: top;\n",
              "    }\n",
              "\n",
              "    .dataframe thead th {\n",
              "        text-align: right;\n",
              "    }\n",
              "</style>\n",
              "<table border=\"1\" class=\"dataframe\">\n",
              "  <thead>\n",
              "    <tr style=\"text-align: right;\">\n",
              "      <th></th>\n",
              "      <th>W</th>\n",
              "      <th>X</th>\n",
              "      <th>Y</th>\n",
              "      <th>Z</th>\n",
              "      <th>New</th>\n",
              "    </tr>\n",
              "  </thead>\n",
              "  <tbody>\n",
              "    <tr>\n",
              "      <th>A</th>\n",
              "      <td>-1.085631</td>\n",
              "      <td>0.997345</td>\n",
              "      <td>0.282978</td>\n",
              "      <td>-1.506295</td>\n",
              "      <td>-0.802652</td>\n",
              "    </tr>\n",
              "    <tr>\n",
              "      <th>B</th>\n",
              "      <td>-0.578600</td>\n",
              "      <td>1.651437</td>\n",
              "      <td>-2.426679</td>\n",
              "      <td>-0.428913</td>\n",
              "      <td>-3.005279</td>\n",
              "    </tr>\n",
              "    <tr>\n",
              "      <th>C</th>\n",
              "      <td>1.265936</td>\n",
              "      <td>-0.866740</td>\n",
              "      <td>-0.678886</td>\n",
              "      <td>-0.094709</td>\n",
              "      <td>0.587050</td>\n",
              "    </tr>\n",
              "    <tr>\n",
              "      <th>D</th>\n",
              "      <td>1.491390</td>\n",
              "      <td>-0.638902</td>\n",
              "      <td>-0.443982</td>\n",
              "      <td>-0.434351</td>\n",
              "      <td>1.047408</td>\n",
              "    </tr>\n",
              "    <tr>\n",
              "      <th>E</th>\n",
              "      <td>2.205930</td>\n",
              "      <td>2.186786</td>\n",
              "      <td>1.004054</td>\n",
              "      <td>0.386186</td>\n",
              "      <td>3.209984</td>\n",
              "    </tr>\n",
              "  </tbody>\n",
              "</table>\n",
              "</div>"
            ],
            "text/plain": [
              "          W         X         Y         Z       New\n",
              "A -1.085631  0.997345  0.282978 -1.506295 -0.802652\n",
              "B -0.578600  1.651437 -2.426679 -0.428913 -3.005279\n",
              "C  1.265936 -0.866740 -0.678886 -0.094709  0.587050\n",
              "D  1.491390 -0.638902 -0.443982 -0.434351  1.047408\n",
              "E  2.205930  2.186786  1.004054  0.386186  3.209984"
            ]
          },
          "metadata": {
            "tags": []
          },
          "execution_count": 6
        }
      ]
    },
    {
      "cell_type": "code",
      "metadata": {
        "colab": {
          "base_uri": "https://localhost:8080/",
          "height": 195
        },
        "id": "fA4-tAqSCmv4",
        "outputId": "399eaca6-f361-4340-879f-b68917bccb35"
      },
      "source": [
        "df2A = df[['W','X']]\r\n",
        "df2A"
      ],
      "execution_count": 7,
      "outputs": [
        {
          "output_type": "execute_result",
          "data": {
            "text/html": [
              "<div>\n",
              "<style scoped>\n",
              "    .dataframe tbody tr th:only-of-type {\n",
              "        vertical-align: middle;\n",
              "    }\n",
              "\n",
              "    .dataframe tbody tr th {\n",
              "        vertical-align: top;\n",
              "    }\n",
              "\n",
              "    .dataframe thead th {\n",
              "        text-align: right;\n",
              "    }\n",
              "</style>\n",
              "<table border=\"1\" class=\"dataframe\">\n",
              "  <thead>\n",
              "    <tr style=\"text-align: right;\">\n",
              "      <th></th>\n",
              "      <th>W</th>\n",
              "      <th>X</th>\n",
              "    </tr>\n",
              "  </thead>\n",
              "  <tbody>\n",
              "    <tr>\n",
              "      <th>A</th>\n",
              "      <td>-1.085631</td>\n",
              "      <td>0.997345</td>\n",
              "    </tr>\n",
              "    <tr>\n",
              "      <th>B</th>\n",
              "      <td>-0.578600</td>\n",
              "      <td>1.651437</td>\n",
              "    </tr>\n",
              "    <tr>\n",
              "      <th>C</th>\n",
              "      <td>1.265936</td>\n",
              "      <td>-0.866740</td>\n",
              "    </tr>\n",
              "    <tr>\n",
              "      <th>D</th>\n",
              "      <td>1.491390</td>\n",
              "      <td>-0.638902</td>\n",
              "    </tr>\n",
              "    <tr>\n",
              "      <th>E</th>\n",
              "      <td>2.205930</td>\n",
              "      <td>2.186786</td>\n",
              "    </tr>\n",
              "  </tbody>\n",
              "</table>\n",
              "</div>"
            ],
            "text/plain": [
              "          W         X\n",
              "A -1.085631  0.997345\n",
              "B -0.578600  1.651437\n",
              "C  1.265936 -0.866740\n",
              "D  1.491390 -0.638902\n",
              "E  2.205930  2.186786"
            ]
          },
          "metadata": {
            "tags": []
          },
          "execution_count": 7
        }
      ]
    },
    {
      "cell_type": "code",
      "metadata": {
        "colab": {
          "base_uri": "https://localhost:8080/",
          "height": 195
        },
        "id": "MSDIbYIHC9jl",
        "outputId": "70877a96-0e50-4ea2-a4b7-843779fc923b"
      },
      "source": [
        "df3 = df.drop('E', axis=0)\r\n",
        "df3\r\n",
        "df3a = df.drop('W', axis=1)\r\n",
        "df3a"
      ],
      "execution_count": 9,
      "outputs": [
        {
          "output_type": "execute_result",
          "data": {
            "text/html": [
              "<div>\n",
              "<style scoped>\n",
              "    .dataframe tbody tr th:only-of-type {\n",
              "        vertical-align: middle;\n",
              "    }\n",
              "\n",
              "    .dataframe tbody tr th {\n",
              "        vertical-align: top;\n",
              "    }\n",
              "\n",
              "    .dataframe thead th {\n",
              "        text-align: right;\n",
              "    }\n",
              "</style>\n",
              "<table border=\"1\" class=\"dataframe\">\n",
              "  <thead>\n",
              "    <tr style=\"text-align: right;\">\n",
              "      <th></th>\n",
              "      <th>X</th>\n",
              "      <th>Y</th>\n",
              "      <th>Z</th>\n",
              "      <th>New</th>\n",
              "    </tr>\n",
              "  </thead>\n",
              "  <tbody>\n",
              "    <tr>\n",
              "      <th>A</th>\n",
              "      <td>0.997345</td>\n",
              "      <td>0.282978</td>\n",
              "      <td>-1.506295</td>\n",
              "      <td>-0.802652</td>\n",
              "    </tr>\n",
              "    <tr>\n",
              "      <th>B</th>\n",
              "      <td>1.651437</td>\n",
              "      <td>-2.426679</td>\n",
              "      <td>-0.428913</td>\n",
              "      <td>-3.005279</td>\n",
              "    </tr>\n",
              "    <tr>\n",
              "      <th>C</th>\n",
              "      <td>-0.866740</td>\n",
              "      <td>-0.678886</td>\n",
              "      <td>-0.094709</td>\n",
              "      <td>0.587050</td>\n",
              "    </tr>\n",
              "    <tr>\n",
              "      <th>D</th>\n",
              "      <td>-0.638902</td>\n",
              "      <td>-0.443982</td>\n",
              "      <td>-0.434351</td>\n",
              "      <td>1.047408</td>\n",
              "    </tr>\n",
              "    <tr>\n",
              "      <th>E</th>\n",
              "      <td>2.186786</td>\n",
              "      <td>1.004054</td>\n",
              "      <td>0.386186</td>\n",
              "      <td>3.209984</td>\n",
              "    </tr>\n",
              "  </tbody>\n",
              "</table>\n",
              "</div>"
            ],
            "text/plain": [
              "          X         Y         Z       New\n",
              "A  0.997345  0.282978 -1.506295 -0.802652\n",
              "B  1.651437 -2.426679 -0.428913 -3.005279\n",
              "C -0.866740 -0.678886 -0.094709  0.587050\n",
              "D -0.638902 -0.443982 -0.434351  1.047408\n",
              "E  2.186786  1.004054  0.386186  3.209984"
            ]
          },
          "metadata": {
            "tags": []
          },
          "execution_count": 9
        }
      ]
    },
    {
      "cell_type": "code",
      "metadata": {
        "colab": {
          "base_uri": "https://localhost:8080/"
        },
        "id": "fbAIdascDwCI",
        "outputId": "3412d350-d59c-4305-b035-f2f5abcb2037"
      },
      "source": [
        "df4 = df.loc['C']\r\n",
        "df4\r\n",
        "df5 = df.iloc[2]\r\n",
        "df5"
      ],
      "execution_count": 11,
      "outputs": [
        {
          "output_type": "execute_result",
          "data": {
            "text/plain": [
              "W      1.265936\n",
              "X     -0.866740\n",
              "Y     -0.678886\n",
              "Z     -0.094709\n",
              "New    0.587050\n",
              "Name: C, dtype: float64"
            ]
          },
          "metadata": {
            "tags": []
          },
          "execution_count": 11
        }
      ]
    },
    {
      "cell_type": "code",
      "metadata": {
        "colab": {
          "base_uri": "https://localhost:8080/",
          "height": 195
        },
        "id": "-QmsqU3nEJvM",
        "outputId": "1c91076f-9041-4312-f958-bb14ffacf500"
      },
      "source": [
        "df\r\n",
        "df>0\r\n",
        "booldf = df>0 #assignment a variable to our condition\r\n",
        "booldf\r\n"
      ],
      "execution_count": 14,
      "outputs": [
        {
          "output_type": "execute_result",
          "data": {
            "text/html": [
              "<div>\n",
              "<style scoped>\n",
              "    .dataframe tbody tr th:only-of-type {\n",
              "        vertical-align: middle;\n",
              "    }\n",
              "\n",
              "    .dataframe tbody tr th {\n",
              "        vertical-align: top;\n",
              "    }\n",
              "\n",
              "    .dataframe thead th {\n",
              "        text-align: right;\n",
              "    }\n",
              "</style>\n",
              "<table border=\"1\" class=\"dataframe\">\n",
              "  <thead>\n",
              "    <tr style=\"text-align: right;\">\n",
              "      <th></th>\n",
              "      <th>W</th>\n",
              "      <th>X</th>\n",
              "      <th>Y</th>\n",
              "      <th>Z</th>\n",
              "      <th>New</th>\n",
              "    </tr>\n",
              "  </thead>\n",
              "  <tbody>\n",
              "    <tr>\n",
              "      <th>A</th>\n",
              "      <td>False</td>\n",
              "      <td>True</td>\n",
              "      <td>True</td>\n",
              "      <td>False</td>\n",
              "      <td>False</td>\n",
              "    </tr>\n",
              "    <tr>\n",
              "      <th>B</th>\n",
              "      <td>False</td>\n",
              "      <td>True</td>\n",
              "      <td>False</td>\n",
              "      <td>False</td>\n",
              "      <td>False</td>\n",
              "    </tr>\n",
              "    <tr>\n",
              "      <th>C</th>\n",
              "      <td>True</td>\n",
              "      <td>False</td>\n",
              "      <td>False</td>\n",
              "      <td>False</td>\n",
              "      <td>True</td>\n",
              "    </tr>\n",
              "    <tr>\n",
              "      <th>D</th>\n",
              "      <td>True</td>\n",
              "      <td>False</td>\n",
              "      <td>False</td>\n",
              "      <td>False</td>\n",
              "      <td>True</td>\n",
              "    </tr>\n",
              "    <tr>\n",
              "      <th>E</th>\n",
              "      <td>True</td>\n",
              "      <td>True</td>\n",
              "      <td>True</td>\n",
              "      <td>True</td>\n",
              "      <td>True</td>\n",
              "    </tr>\n",
              "  </tbody>\n",
              "</table>\n",
              "</div>"
            ],
            "text/plain": [
              "       W      X      Y      Z    New\n",
              "A  False   True   True  False  False\n",
              "B  False   True  False  False  False\n",
              "C   True  False  False  False   True\n",
              "D   True  False  False  False   True\n",
              "E   True   True   True   True   True"
            ]
          },
          "metadata": {
            "tags": []
          },
          "execution_count": 14
        }
      ]
    },
    {
      "cell_type": "code",
      "metadata": {
        "colab": {
          "base_uri": "https://localhost:8080/",
          "height": 195
        },
        "id": "cAbdEs1pEbSr",
        "outputId": "800bf9d5-5a83-495a-d6ae-4a54e4a49262"
      },
      "source": [
        "df6 = df[booldf]\r\n",
        "df6\r\n",
        "df7 = df[df>0]\r\n",
        "df7"
      ],
      "execution_count": 15,
      "outputs": [
        {
          "output_type": "execute_result",
          "data": {
            "text/html": [
              "<div>\n",
              "<style scoped>\n",
              "    .dataframe tbody tr th:only-of-type {\n",
              "        vertical-align: middle;\n",
              "    }\n",
              "\n",
              "    .dataframe tbody tr th {\n",
              "        vertical-align: top;\n",
              "    }\n",
              "\n",
              "    .dataframe thead th {\n",
              "        text-align: right;\n",
              "    }\n",
              "</style>\n",
              "<table border=\"1\" class=\"dataframe\">\n",
              "  <thead>\n",
              "    <tr style=\"text-align: right;\">\n",
              "      <th></th>\n",
              "      <th>W</th>\n",
              "      <th>X</th>\n",
              "      <th>Y</th>\n",
              "      <th>Z</th>\n",
              "      <th>New</th>\n",
              "    </tr>\n",
              "  </thead>\n",
              "  <tbody>\n",
              "    <tr>\n",
              "      <th>A</th>\n",
              "      <td>NaN</td>\n",
              "      <td>0.997345</td>\n",
              "      <td>0.282978</td>\n",
              "      <td>NaN</td>\n",
              "      <td>NaN</td>\n",
              "    </tr>\n",
              "    <tr>\n",
              "      <th>B</th>\n",
              "      <td>NaN</td>\n",
              "      <td>1.651437</td>\n",
              "      <td>NaN</td>\n",
              "      <td>NaN</td>\n",
              "      <td>NaN</td>\n",
              "    </tr>\n",
              "    <tr>\n",
              "      <th>C</th>\n",
              "      <td>1.265936</td>\n",
              "      <td>NaN</td>\n",
              "      <td>NaN</td>\n",
              "      <td>NaN</td>\n",
              "      <td>0.587050</td>\n",
              "    </tr>\n",
              "    <tr>\n",
              "      <th>D</th>\n",
              "      <td>1.491390</td>\n",
              "      <td>NaN</td>\n",
              "      <td>NaN</td>\n",
              "      <td>NaN</td>\n",
              "      <td>1.047408</td>\n",
              "    </tr>\n",
              "    <tr>\n",
              "      <th>E</th>\n",
              "      <td>2.205930</td>\n",
              "      <td>2.186786</td>\n",
              "      <td>1.004054</td>\n",
              "      <td>0.386186</td>\n",
              "      <td>3.209984</td>\n",
              "    </tr>\n",
              "  </tbody>\n",
              "</table>\n",
              "</div>"
            ],
            "text/plain": [
              "          W         X         Y         Z       New\n",
              "A       NaN  0.997345  0.282978       NaN       NaN\n",
              "B       NaN  1.651437       NaN       NaN       NaN\n",
              "C  1.265936       NaN       NaN       NaN  0.587050\n",
              "D  1.491390       NaN       NaN       NaN  1.047408\n",
              "E  2.205930  2.186786  1.004054  0.386186  3.209984"
            ]
          },
          "metadata": {
            "tags": []
          },
          "execution_count": 15
        }
      ]
    },
    {
      "cell_type": "code",
      "metadata": {
        "colab": {
          "base_uri": "https://localhost:8080/"
        },
        "id": "MQNMbYx5E11I",
        "outputId": "bc537f0c-242c-4081-a1cb-d0aff58a442d"
      },
      "source": [
        "df8 = df['Z']>0\r\n",
        "df8\r\n",
        "df9 = df['W']>0\r\n",
        "df9"
      ],
      "execution_count": 38,
      "outputs": [
        {
          "output_type": "execute_result",
          "data": {
            "text/plain": [
              "A    False\n",
              "B    False\n",
              "C     True\n",
              "D     True\n",
              "E     True\n",
              "Name: W, dtype: bool"
            ]
          },
          "metadata": {
            "tags": []
          },
          "execution_count": 38
        }
      ]
    },
    {
      "cell_type": "code",
      "metadata": {
        "colab": {
          "base_uri": "https://localhost:8080/",
          "height": 195
        },
        "id": "QGYLLObSFL0U",
        "outputId": "855196ed-dcc5-4a15-b77a-41a608297021"
      },
      "source": [
        "#df = df.rename(columns={Unname:0': 'newName1', 'oldName2: 'newName2'})\r\n",
        "df10 = df.rename(columns={'W':'WW'}, inplace=False)\r\n",
        "df10"
      ],
      "execution_count": 36,
      "outputs": [
        {
          "output_type": "execute_result",
          "data": {
            "text/html": [
              "<div>\n",
              "<style scoped>\n",
              "    .dataframe tbody tr th:only-of-type {\n",
              "        vertical-align: middle;\n",
              "    }\n",
              "\n",
              "    .dataframe tbody tr th {\n",
              "        vertical-align: top;\n",
              "    }\n",
              "\n",
              "    .dataframe thead th {\n",
              "        text-align: right;\n",
              "    }\n",
              "</style>\n",
              "<table border=\"1\" class=\"dataframe\">\n",
              "  <thead>\n",
              "    <tr style=\"text-align: right;\">\n",
              "      <th></th>\n",
              "      <th>WW</th>\n",
              "      <th>X</th>\n",
              "      <th>Y</th>\n",
              "      <th>Z</th>\n",
              "      <th>New</th>\n",
              "    </tr>\n",
              "  </thead>\n",
              "  <tbody>\n",
              "    <tr>\n",
              "      <th>A</th>\n",
              "      <td>-1.085631</td>\n",
              "      <td>0.997345</td>\n",
              "      <td>0.282978</td>\n",
              "      <td>-1.506295</td>\n",
              "      <td>-0.802652</td>\n",
              "    </tr>\n",
              "    <tr>\n",
              "      <th>B</th>\n",
              "      <td>-0.578600</td>\n",
              "      <td>1.651437</td>\n",
              "      <td>-2.426679</td>\n",
              "      <td>-0.428913</td>\n",
              "      <td>-3.005279</td>\n",
              "    </tr>\n",
              "    <tr>\n",
              "      <th>C</th>\n",
              "      <td>1.265936</td>\n",
              "      <td>-0.866740</td>\n",
              "      <td>-0.678886</td>\n",
              "      <td>-0.094709</td>\n",
              "      <td>0.587050</td>\n",
              "    </tr>\n",
              "    <tr>\n",
              "      <th>D</th>\n",
              "      <td>1.491390</td>\n",
              "      <td>-0.638902</td>\n",
              "      <td>-0.443982</td>\n",
              "      <td>-0.434351</td>\n",
              "      <td>1.047408</td>\n",
              "    </tr>\n",
              "    <tr>\n",
              "      <th>E</th>\n",
              "      <td>2.205930</td>\n",
              "      <td>2.186786</td>\n",
              "      <td>1.004054</td>\n",
              "      <td>0.386186</td>\n",
              "      <td>3.209984</td>\n",
              "    </tr>\n",
              "  </tbody>\n",
              "</table>\n",
              "</div>"
            ],
            "text/plain": [
              "         WW         X         Y         Z       New\n",
              "A -1.085631  0.997345  0.282978 -1.506295 -0.802652\n",
              "B -0.578600  1.651437 -2.426679 -0.428913 -3.005279\n",
              "C  1.265936 -0.866740 -0.678886 -0.094709  0.587050\n",
              "D  1.491390 -0.638902 -0.443982 -0.434351  1.047408\n",
              "E  2.205930  2.186786  1.004054  0.386186  3.209984"
            ]
          },
          "metadata": {
            "tags": []
          },
          "execution_count": 36
        }
      ]
    },
    {
      "cell_type": "code",
      "metadata": {
        "id": "rsx9ZbWWICvX"
      },
      "source": [
        "import pandas as pd\r\n",
        "import matplotlib.pyplot as plt\r\n",
        "\r\n",
        "df11 = pd.read_csv('https://rawgithubusercontent.com/CUNYLaGuardiaDataAnalytics/datasets/master/faithful.csv', index_col=0)"
      ],
      "execution_count": 28,
      "outputs": []
    },
    {
      "cell_type": "code",
      "metadata": {
        "colab": {
          "base_uri": "https://localhost:8080/",
          "height": 284
        },
        "id": "zj9teexRJuqO",
        "outputId": "80fe07ad-a6d6-4c08-b44b-e96aec8a17df"
      },
      "source": [
        "#df11.head()\r\n",
        "#df11.tail()\r\n",
        "\r\n",
        "df11.head(10)\r\n",
        "\r\n",
        "df11.count()\r\n",
        "df11.max()\r\n",
        "df11.min\r\n",
        "df11.mean()\r\n",
        "df11.median()\r\n",
        "df11.describe()\r\n"
      ],
      "execution_count": 31,
      "outputs": [
        {
          "output_type": "execute_result",
          "data": {
            "text/html": [
              "<div>\n",
              "<style scoped>\n",
              "    .dataframe tbody tr th:only-of-type {\n",
              "        vertical-align: middle;\n",
              "    }\n",
              "\n",
              "    .dataframe tbody tr th {\n",
              "        vertical-align: top;\n",
              "    }\n",
              "\n",
              "    .dataframe thead th {\n",
              "        text-align: right;\n",
              "    }\n",
              "</style>\n",
              "<table border=\"1\" class=\"dataframe\">\n",
              "  <thead>\n",
              "    <tr style=\"text-align: right;\">\n",
              "      <th></th>\n",
              "      <th>maximum-scale=1.0</th>\n",
              "      <th>user-scalable=0\"&gt;&lt;meta name=\"description\" content=\" \"&gt;&lt;link</th>\n",
              "    </tr>\n",
              "  </thead>\n",
              "  <tbody>\n",
              "    <tr>\n",
              "      <th>count</th>\n",
              "      <td>0.0</td>\n",
              "      <td>0.0</td>\n",
              "    </tr>\n",
              "    <tr>\n",
              "      <th>mean</th>\n",
              "      <td>NaN</td>\n",
              "      <td>NaN</td>\n",
              "    </tr>\n",
              "    <tr>\n",
              "      <th>std</th>\n",
              "      <td>NaN</td>\n",
              "      <td>NaN</td>\n",
              "    </tr>\n",
              "    <tr>\n",
              "      <th>min</th>\n",
              "      <td>NaN</td>\n",
              "      <td>NaN</td>\n",
              "    </tr>\n",
              "    <tr>\n",
              "      <th>25%</th>\n",
              "      <td>NaN</td>\n",
              "      <td>NaN</td>\n",
              "    </tr>\n",
              "    <tr>\n",
              "      <th>50%</th>\n",
              "      <td>NaN</td>\n",
              "      <td>NaN</td>\n",
              "    </tr>\n",
              "    <tr>\n",
              "      <th>75%</th>\n",
              "      <td>NaN</td>\n",
              "      <td>NaN</td>\n",
              "    </tr>\n",
              "    <tr>\n",
              "      <th>max</th>\n",
              "      <td>NaN</td>\n",
              "      <td>NaN</td>\n",
              "    </tr>\n",
              "  </tbody>\n",
              "</table>\n",
              "</div>"
            ],
            "text/plain": [
              "       maximum-scale=1.0  user-scalable=0\"><meta name=\"description\" content=\" \"><link\n",
              "count                0.0                                                0.0          \n",
              "mean                 NaN                                                NaN          \n",
              "std                  NaN                                                NaN          \n",
              "min                  NaN                                                NaN          \n",
              "25%                  NaN                                                NaN          \n",
              "50%                  NaN                                                NaN          \n",
              "75%                  NaN                                                NaN          \n",
              "max                  NaN                                                NaN          "
            ]
          },
          "metadata": {
            "tags": []
          },
          "execution_count": 31
        }
      ]
    },
    {
      "cell_type": "code",
      "metadata": {
        "colab": {
          "base_uri": "https://localhost:8080/",
          "height": 794
        },
        "id": "QuvAy5KEJueV",
        "outputId": "0680ebb6-f6dd-49b3-abab-70efd7a39717"
      },
      "source": [
        "%matplotlib inline\r\n",
        "df3\r\n",
        "df3.hist()\r\n",
        "df3.plot()\r\n",
        "df3.plot(kind='hist')"
      ],
      "execution_count": 33,
      "outputs": [
        {
          "output_type": "execute_result",
          "data": {
            "text/plain": [
              "<matplotlib.axes._subplots.AxesSubplot at 0x7f310c33f0b8>"
            ]
          },
          "metadata": {
            "tags": []
          },
          "execution_count": 33
        },
        {
          "output_type": "display_data",
          "data": {
            "image/png": "[encoded data removed]",
            "text/plain": [
              "<Figure size 432x288 with 6 Axes>"
            ]
          },
          "metadata": {
            "tags": [],
            "needs_background": "light"
          }
        },
        {
          "output_type": "display_data",
          "data": {
            "image/png": "[encoded data removed]",
            "text/plain": [
              "<Figure size 432x288 with 1 Axes>"
            ]
          },
          "metadata": {
            "tags": [],
            "needs_background": "light"
          }
        },
        {
          "output_type": "display_data",
          "data": {
            "image/png": "[encoded data removed]",
            "text/plain": [
              "<Figure size 432x288 with 1 Axes>"
            ]
          },
          "metadata": {
            "tags": [],
            "needs_background": "light"
          }
        }
      ]
    },
    {
      "cell_type": "code",
      "metadata": {
        "colab": {
          "base_uri": "https://localhost:8080/",
          "height": 635
        },
        "id": "hFMRiHDSNkXO",
        "outputId": "2929b9aa-a2ce-461e-de4a-311ab1e7d459"
      },
      "source": [
        "df12 = pd.read_csv('https://raw.githubusercontent.com/CunyLaguardiaDataAnalytics/datasets/master/311_Service_Requests_from_2019May.csv')\r\n",
        "df12.describe()\r\n",
        "df12.head()"
      ],
      "execution_count": 34,
      "outputs": [
        {
          "output_type": "stream",
          "text": [
            "/usr/local/lib/python3.6/dist-packages/IPython/core/interactiveshell.py:2718: DtypeWarning: Columns (6) have mixed types.Specify dtype option on import or set low_memory=False.\n",
            "  interactivity=interactivity, compiler=compiler, result=result)\n"
          ],
          "name": "stderr"
        },
        {
          "output_type": "execute_result",
          "data": {
            "text/html": [
              "<div>\n",
              "<style scoped>\n",
              "    .dataframe tbody tr th:only-of-type {\n",
              "        vertical-align: middle;\n",
              "    }\n",
              "\n",
              "    .dataframe tbody tr th {\n",
              "        vertical-align: top;\n",
              "    }\n",
              "\n",
              "    .dataframe thead th {\n",
              "        text-align: right;\n",
              "    }\n",
              "</style>\n",
              "<table border=\"1\" class=\"dataframe\">\n",
              "  <thead>\n",
              "    <tr style=\"text-align: right;\">\n",
              "      <th></th>\n",
              "      <th>Unique Key</th>\n",
              "      <th>Created Date</th>\n",
              "      <th>Closed Date</th>\n",
              "      <th>Agency</th>\n",
              "      <th>Complaint Type</th>\n",
              "      <th>Location Type</th>\n",
              "      <th>Incident Zip</th>\n",
              "      <th>Incident Address</th>\n",
              "      <th>Street Name</th>\n",
              "      <th>Address Type</th>\n",
              "      <th>City</th>\n",
              "      <th>Landmark</th>\n",
              "      <th>Facility Type</th>\n",
              "      <th>Status</th>\n",
              "      <th>Due Date</th>\n",
              "      <th>Resolution Description</th>\n",
              "      <th>BBL</th>\n",
              "      <th>Borough</th>\n",
              "      <th>Latitude</th>\n",
              "      <th>Longitude</th>\n",
              "      <th>Location</th>\n",
              "    </tr>\n",
              "  </thead>\n",
              "  <tbody>\n",
              "    <tr>\n",
              "      <th>0</th>\n",
              "      <td>42680103</td>\n",
              "      <td>5/1/2019 0:00</td>\n",
              "      <td>5/16/2019 21:45</td>\n",
              "      <td>DEP</td>\n",
              "      <td>Water System</td>\n",
              "      <td>NaN</td>\n",
              "      <td>11420</td>\n",
              "      <td>127-16 111 AVENUE</td>\n",
              "      <td>111 AVENUE</td>\n",
              "      <td>ADDRESS</td>\n",
              "      <td>South Ozone Park</td>\n",
              "      <td>NaN</td>\n",
              "      <td>NaN</td>\n",
              "      <td>Closed</td>\n",
              "      <td>NaN</td>\n",
              "      <td>The Department of Environment Protection inspe...</td>\n",
              "      <td>4.116320e+09</td>\n",
              "      <td>QUEENS</td>\n",
              "      <td>40.682565</td>\n",
              "      <td>-73.814060</td>\n",
              "      <td>(40.682565064146196, -73.81406015056832)</td>\n",
              "    </tr>\n",
              "    <tr>\n",
              "      <th>1</th>\n",
              "      <td>42530481</td>\n",
              "      <td>5/1/2019 0:00</td>\n",
              "      <td>5/2/2019 0:00</td>\n",
              "      <td>DOHMH</td>\n",
              "      <td>Food Poisoning</td>\n",
              "      <td>Restaurant/Bar/Deli/Bakery</td>\n",
              "      <td>10011</td>\n",
              "      <td>207 WEST   14 STREET</td>\n",
              "      <td>WEST   14 STREET</td>\n",
              "      <td>ADDRESS</td>\n",
              "      <td>NEW YORK</td>\n",
              "      <td>NaN</td>\n",
              "      <td>NaN</td>\n",
              "      <td>Closed</td>\n",
              "      <td>5/15/2019 22:17</td>\n",
              "      <td>Callers should contact the DOHMH Foodborne Ill...</td>\n",
              "      <td>1.007640e+09</td>\n",
              "      <td>MANHATTAN</td>\n",
              "      <td>40.738791</td>\n",
              "      <td>-74.000224</td>\n",
              "      <td>(40.738790792032844, -74.00022373020307)</td>\n",
              "    </tr>\n",
              "    <tr>\n",
              "      <th>2</th>\n",
              "      <td>42527619</td>\n",
              "      <td>5/1/2019 0:00</td>\n",
              "      <td>5/13/2019 0:00</td>\n",
              "      <td>DOHMH</td>\n",
              "      <td>Food Poisoning</td>\n",
              "      <td>Restaurant/Bar/Deli/Bakery</td>\n",
              "      <td>10025</td>\n",
              "      <td>2664 BROADWAY</td>\n",
              "      <td>BROADWAY</td>\n",
              "      <td>ADDRESS</td>\n",
              "      <td>NEW YORK</td>\n",
              "      <td>NaN</td>\n",
              "      <td>NaN</td>\n",
              "      <td>Closed</td>\n",
              "      <td>5/15/2019 10:04</td>\n",
              "      <td>The Department of Health and Mental Hygiene wi...</td>\n",
              "      <td>1.018730e+09</td>\n",
              "      <td>MANHATTAN</td>\n",
              "      <td>40.798040</td>\n",
              "      <td>-73.969300</td>\n",
              "      <td>(40.79804015465285, -73.96930001020544)</td>\n",
              "    </tr>\n",
              "    <tr>\n",
              "      <th>3</th>\n",
              "      <td>42526597</td>\n",
              "      <td>5/1/2019 0:00</td>\n",
              "      <td>5/2/2019 0:00</td>\n",
              "      <td>DOHMH</td>\n",
              "      <td>Food Poisoning</td>\n",
              "      <td>Restaurant/Bar/Deli/Bakery</td>\n",
              "      <td>11208</td>\n",
              "      <td>624 SOUTH CONDUIT BOULEVARD</td>\n",
              "      <td>SOUTH CONDUIT BOULEVARD</td>\n",
              "      <td>ADDRESS</td>\n",
              "      <td>BROOKLYN</td>\n",
              "      <td>NaN</td>\n",
              "      <td>NaN</td>\n",
              "      <td>Closed</td>\n",
              "      <td>5/15/2019 17:27</td>\n",
              "      <td>The Department of Health and Mental Hygiene wi...</td>\n",
              "      <td>3.042380e+09</td>\n",
              "      <td>BROOKLYN</td>\n",
              "      <td>40.675905</td>\n",
              "      <td>-73.866660</td>\n",
              "      <td>(40.67590510222738, -73.86665990579837)</td>\n",
              "    </tr>\n",
              "    <tr>\n",
              "      <th>4</th>\n",
              "      <td>42526595</td>\n",
              "      <td>5/1/2019 0:00</td>\n",
              "      <td>5/2/2019 0:00</td>\n",
              "      <td>DOHMH</td>\n",
              "      <td>Food Poisoning</td>\n",
              "      <td>Restaurant/Bar/Deli/Bakery</td>\n",
              "      <td>11106</td>\n",
              "      <td>31-91 21 STREET</td>\n",
              "      <td>21 STREET</td>\n",
              "      <td>ADDRESS</td>\n",
              "      <td>Astoria</td>\n",
              "      <td>NaN</td>\n",
              "      <td>NaN</td>\n",
              "      <td>Closed</td>\n",
              "      <td>5/15/2019 17:12</td>\n",
              "      <td>The Department of Health and Mental Hygiene wi...</td>\n",
              "      <td>4.005540e+09</td>\n",
              "      <td>QUEENS</td>\n",
              "      <td>40.765367</td>\n",
              "      <td>-73.931540</td>\n",
              "      <td>(40.76536704921336, -73.93154011254339)</td>\n",
              "    </tr>\n",
              "  </tbody>\n",
              "</table>\n",
              "</div>"
            ],
            "text/plain": [
              "   Unique Key  ...                                  Location\n",
              "0    42680103  ...  (40.682565064146196, -73.81406015056832)\n",
              "1    42530481  ...  (40.738790792032844, -74.00022373020307)\n",
              "2    42527619  ...   (40.79804015465285, -73.96930001020544)\n",
              "3    42526597  ...   (40.67590510222738, -73.86665990579837)\n",
              "4    42526595  ...   (40.76536704921336, -73.93154011254339)\n",
              "\n",
              "[5 rows x 21 columns]"
            ]
          },
          "metadata": {
            "tags": []
          },
          "execution_count": 34
        }
      ]
    },
    {
      "cell_type": "code",
      "metadata": {
        "colab": {
          "base_uri": "https://localhost:8080/",
          "height": 248
        },
        "id": "5WD_0rZlP1pi",
        "outputId": "63096725-5714-41ee-cf84-a4c3f7f8d397"
      },
      "source": [
        "# df.groupby(['column you want to be grouped])['column you want to count'].count()\r\n",
        "# NYC population demographic dataset - column to be grouped - Borough, column to be counted - Gender\r\n",
        "\r\n",
        "df12.head()\r\n",
        "df12.groupby(['Borough'])['Unique Key'].count()\r\n",
        "df12.groupby(['Borough'])['Unique Key'].count().sort_values(ascending=False)\r\n",
        "df12.groupby(['Borough'])['Unique Key'].count().plot(kind='pie')\r\n",
        "df12.head()\r\n",
        "df13 = df12['Complaint Type'].str.contains('Noise')"
      ],
      "execution_count": 42,
      "outputs": [
        {
          "output_type": "display_data",
          "data": {
            "image/png": "[encoded data removed]",
            "text/plain": [
              "<Figure size 432x288 with 1 Axes>"
            ]
          },
          "metadata": {
            "tags": []
          }
        }
      ]
    },
    {
      "cell_type": "code",
      "metadata": {
        "colab": {
          "base_uri": "https://localhost:8080/"
        },
        "id": "M0LqXcySVqAx",
        "outputId": "aa95ffb6-4720-4b5c-b210-1044828d8dba"
      },
      "source": [
        "df51 = {'A':[1,2, np.nan], 'B':[3, np.nan, np.nan]}\r\n",
        "df14 = pd.DataFrame(df51)\r\n",
        "\r\n",
        "df14\r\n",
        "df14.isnull()\r\n",
        "df14.isnull().sum()\r\n",
        "df14.isnull().sum().sum()"
      ],
      "execution_count": 46,
      "outputs": [
        {
          "output_type": "execute_result",
          "data": {
            "text/plain": [
              "3"
            ]
          },
          "metadata": {
            "tags": []
          },
          "execution_count": 46
        }
      ]
    },
    {
      "cell_type": "code",
      "metadata": {
        "colab": {
          "base_uri": "https://localhost:8080/",
          "height": 136
        },
        "id": "pr-jPTioWypH",
        "outputId": "34ac0448-5af8-42cf-87e6-4d6fd3982bc7"
      },
      "source": [
        "df14"
      ],
      "execution_count": 47,
      "outputs": [
        {
          "output_type": "execute_result",
          "data": {
            "text/html": [
              "<div>\n",
              "<style scoped>\n",
              "    .dataframe tbody tr th:only-of-type {\n",
              "        vertical-align: middle;\n",
              "    }\n",
              "\n",
              "    .dataframe tbody tr th {\n",
              "        vertical-align: top;\n",
              "    }\n",
              "\n",
              "    .dataframe thead th {\n",
              "        text-align: right;\n",
              "    }\n",
              "</style>\n",
              "<table border=\"1\" class=\"dataframe\">\n",
              "  <thead>\n",
              "    <tr style=\"text-align: right;\">\n",
              "      <th></th>\n",
              "      <th>A</th>\n",
              "      <th>B</th>\n",
              "    </tr>\n",
              "  </thead>\n",
              "  <tbody>\n",
              "    <tr>\n",
              "      <th>0</th>\n",
              "      <td>1.0</td>\n",
              "      <td>3.0</td>\n",
              "    </tr>\n",
              "    <tr>\n",
              "      <th>1</th>\n",
              "      <td>2.0</td>\n",
              "      <td>NaN</td>\n",
              "    </tr>\n",
              "    <tr>\n",
              "      <th>2</th>\n",
              "      <td>NaN</td>\n",
              "      <td>NaN</td>\n",
              "    </tr>\n",
              "  </tbody>\n",
              "</table>\n",
              "</div>"
            ],
            "text/plain": [
              "     A    B\n",
              "0  1.0  3.0\n",
              "1  2.0  NaN\n",
              "2  NaN  NaN"
            ]
          },
          "metadata": {
            "tags": []
          },
          "execution_count": 47
        }
      ]
    },
    {
      "cell_type": "code",
      "metadata": {
        "colab": {
          "base_uri": "https://localhost:8080/",
          "height": 77
        },
        "id": "TMVL1lGHWjNN",
        "outputId": "e594318f-cd8e-4055-8f04-a127236847d3"
      },
      "source": [
        "df51\r\n",
        "df15 = pd.DataFrame(df51)\r\n",
        "df15\r\n",
        "df16 = df15.dropna()\r\n",
        "df16\r\n",
        "df17 = df15.dropna(axis=1)\r\n",
        "#df17, df15\r\n",
        "df177 = df15.dropna(axis=0)\r\n",
        "df17\r\n",
        "df18 = df15.dropna(thresh=2)\r\n",
        "df18"
      ],
      "execution_count": 52,
      "outputs": [
        {
          "output_type": "execute_result",
          "data": {
            "text/html": [
              "<div>\n",
              "<style scoped>\n",
              "    .dataframe tbody tr th:only-of-type {\n",
              "        vertical-align: middle;\n",
              "    }\n",
              "\n",
              "    .dataframe tbody tr th {\n",
              "        vertical-align: top;\n",
              "    }\n",
              "\n",
              "    .dataframe thead th {\n",
              "        text-align: right;\n",
              "    }\n",
              "</style>\n",
              "<table border=\"1\" class=\"dataframe\">\n",
              "  <thead>\n",
              "    <tr style=\"text-align: right;\">\n",
              "      <th></th>\n",
              "      <th>A</th>\n",
              "      <th>B</th>\n",
              "    </tr>\n",
              "  </thead>\n",
              "  <tbody>\n",
              "    <tr>\n",
              "      <th>0</th>\n",
              "      <td>1.0</td>\n",
              "      <td>3.0</td>\n",
              "    </tr>\n",
              "  </tbody>\n",
              "</table>\n",
              "</div>"
            ],
            "text/plain": [
              "     A    B\n",
              "0  1.0  3.0"
            ]
          },
          "metadata": {
            "tags": []
          },
          "execution_count": 52
        }
      ]
    },
    {
      "cell_type": "code",
      "metadata": {
        "colab": {
          "base_uri": "https://localhost:8080/",
          "height": 136
        },
        "id": "R5BLp70IX_kN",
        "outputId": "ea8e2f0f-5c05-45ab-a5f3-1c9ea2c3c75f"
      },
      "source": [
        "df19 = df15.fillna(value=0)\r\n",
        "df19"
      ],
      "execution_count": 51,
      "outputs": [
        {
          "output_type": "execute_result",
          "data": {
            "text/html": [
              "<div>\n",
              "<style scoped>\n",
              "    .dataframe tbody tr th:only-of-type {\n",
              "        vertical-align: middle;\n",
              "    }\n",
              "\n",
              "    .dataframe tbody tr th {\n",
              "        vertical-align: top;\n",
              "    }\n",
              "\n",
              "    .dataframe thead th {\n",
              "        text-align: right;\n",
              "    }\n",
              "</style>\n",
              "<table border=\"1\" class=\"dataframe\">\n",
              "  <thead>\n",
              "    <tr style=\"text-align: right;\">\n",
              "      <th></th>\n",
              "      <th>A</th>\n",
              "      <th>B</th>\n",
              "    </tr>\n",
              "  </thead>\n",
              "  <tbody>\n",
              "    <tr>\n",
              "      <th>0</th>\n",
              "      <td>1.0</td>\n",
              "      <td>3.0</td>\n",
              "    </tr>\n",
              "    <tr>\n",
              "      <th>1</th>\n",
              "      <td>2.0</td>\n",
              "      <td>0.0</td>\n",
              "    </tr>\n",
              "    <tr>\n",
              "      <th>2</th>\n",
              "      <td>0.0</td>\n",
              "      <td>0.0</td>\n",
              "    </tr>\n",
              "  </tbody>\n",
              "</table>\n",
              "</div>"
            ],
            "text/plain": [
              "     A    B\n",
              "0  1.0  3.0\n",
              "1  2.0  0.0\n",
              "2  0.0  0.0"
            ]
          },
          "metadata": {
            "tags": []
          },
          "execution_count": 51
        }
      ]
    },
    {
      "cell_type": "code",
      "metadata": {
        "colab": {
          "base_uri": "https://localhost:8080/"
        },
        "id": "4j8_4FEfZnyX",
        "outputId": "3970255f-776e-4311-e1eb-207586853bc9"
      },
      "source": [
        "df12.head()\r\n",
        "\r\n",
        "df20 =df12.groupby(['Borough'])['Unique Key'].count()\r\n",
        "df20\r\n",
        "df21 = df12.groupby(['Borough'])['Unique Key'].count()\r\n",
        "df22 = df12.groupby(['Borough'])['Unique Key'].max()\r\n",
        "df23 = df12.groupby(['Borough'])['Unique Key'].min()\r\n",
        "df23"
      ],
      "execution_count": 57,
      "outputs": [
        {
          "output_type": "execute_result",
          "data": {
            "text/plain": [
              "Borough\n",
              "BRONX            42513284\n",
              "BROOKLYN         42512785\n",
              "MANHATTAN        42513060\n",
              "QUEENS           42513458\n",
              "STATEN ISLAND    42517366\n",
              "Unspecified      42523113\n",
              "Name: Unique Key, dtype: int64"
            ]
          },
          "metadata": {
            "tags": []
          },
          "execution_count": 57
        }
      ]
    }
  ]
}