{
  "nbformat": 4,
  "nbformat_minor": 0,
  "metadata": {
    "colab": {
      "name": "Untitled0.ipynb",
      "provenance": [],
      "authorship_tag": "ABX9TyPUNdFmGBLEJYIed4f4jq/u",
      "include_colab_link": true
    },
    "kernelspec": {
      "name": "python3",
      "display_name": "Python 3"
    }
  },
  "cells": [
    {
      "cell_type": "markdown",
      "metadata": {
        "id": "view-in-github",
        "colab_type": "text"
      },
      "source": [
        "<a href=\"https://colab.research.google.com/github/neilsubick/data_analytics/blob/main/Untitled0.ipynb\" target=\"_parent\"><img src=\"https://colab.research.google.com/assets/colab-badge.svg\" alt=\"Open In Colab\"/></a>"
      ]
    },
    {
      "cell_type": "code",
      "metadata": {
        "colab": {
          "base_uri": "https://localhost:8080/",
          "height": 214
        },
        "id": "bfxRvsj_Ho5p",
        "outputId": "088f114f-e8b6-4301-8220-947491fddd62"
      },
      "source": [
        "\"Hello World\"\r\n",
        "# Learning to code in python\r\n",
        "#print(\"Hello World!\")\r\n",
        "Print(\"Hello World!\")\r\n",
        "\r\n"
      ],
      "execution_count": 7,
      "outputs": [
        {
          "output_type": "error",
          "ename": "NameError",
          "evalue": "ignored",
          "traceback": [
            "\u001b[0;31m---------------------------------------------------------------------------\u001b[0m",
            "\u001b[0;31mNameError\u001b[0m                                 Traceback (most recent call last)",
            "\u001b[0;32m<ipython-input-7-3e96f9034ad2>\u001b[0m in \u001b[0;36m<module>\u001b[0;34m()\u001b[0m\n\u001b[1;32m      2\u001b[0m \u001b[0;31m# Learning to code in python\u001b[0m\u001b[0;34m\u001b[0m\u001b[0;34m\u001b[0m\u001b[0;34m\u001b[0m\u001b[0m\n\u001b[1;32m      3\u001b[0m \u001b[0;31m#print(\"Hello World!\")\u001b[0m\u001b[0;34m\u001b[0m\u001b[0;34m\u001b[0m\u001b[0;34m\u001b[0m\u001b[0m\n\u001b[0;32m----> 4\u001b[0;31m \u001b[0mPrint\u001b[0m\u001b[0;34m(\u001b[0m\u001b[0;34m\"Hello World!\"\u001b[0m\u001b[0;34m)\u001b[0m\u001b[0;34m\u001b[0m\u001b[0;34m\u001b[0m\u001b[0m\n\u001b[0m\u001b[1;32m      5\u001b[0m \u001b[0;34m\u001b[0m\u001b[0m\n",
            "\u001b[0;31mNameError\u001b[0m: name 'Print' is not defined"
          ]
        }
      ]
    },
    {
      "cell_type": "code",
      "metadata": {
        "colab": {
          "base_uri": "https://localhost:8080/"
        },
        "id": "dHHWEULYJ5Oa",
        "outputId": "f1c5103e-ca73-4019-f9af-4b59aed45628"
      },
      "source": [
        "variableA = \"Hello World\"\r\n",
        "print(variableA)"
      ],
      "execution_count": 6,
      "outputs": [
        {
          "output_type": "stream",
          "text": [
            "Hello World\n"
          ],
          "name": "stdout"
        }
      ]
    },
    {
      "cell_type": "code",
      "metadata": {
        "colab": {
          "base_uri": "https://localhost:8080/"
        },
        "id": "ldI_H48KMAPk",
        "outputId": "1b7796ce-967f-4315-949f-409e44c77c30"
      },
      "source": [
        "variableB = \"Greetings!\"\r\n",
        "print(variableB)"
      ],
      "execution_count": 8,
      "outputs": [
        {
          "output_type": "stream",
          "text": [
            "Greetings!\n"
          ],
          "name": "stdout"
        }
      ]
    },
    {
      "cell_type": "code",
      "metadata": {
        "colab": {
          "base_uri": "https://localhost:8080/"
        },
        "id": "LmYN0a7lOAnv",
        "outputId": "45c97bca-f686-444a-9a01-ed9cbb6a326f"
      },
      "source": [
        "school = \"cuny laguardia\"\r\n",
        "print(school.upper())\r\n",
        "print(school.lower())"
      ],
      "execution_count": 9,
      "outputs": [
        {
          "output_type": "stream",
          "text": [
            "CUNY LAGUARDIA\n",
            "cuny laguardia\n"
          ],
          "name": "stdout"
        }
      ]
    },
    {
      "cell_type": "code",
      "metadata": {
        "colab": {
          "base_uri": "https://localhost:8080/"
        },
        "id": "Rs2usQPdPfI5",
        "outputId": "9500383c-ad54-4cfa-d28b-ee06dc236c35"
      },
      "source": [
        "firstname = \"Mary\"\r\n",
        "lastname = \"Smith\"\r\n",
        "numberX = \"1\"\r\n",
        "PersonName = firstname +\" \"+ lastname + \" \" + numberX\r\n",
        "print(PersonName)\r\n",
        "\r\n",
        "print(\"Mary\")\r\n",
        "print(\"\\tSmith\")\r\n",
        "print(\"\\nSmith\")"
      ],
      "execution_count": 15,
      "outputs": [
        {
          "output_type": "stream",
          "text": [
            "Mary Smith 1\n",
            "Mary\n",
            "\tSmith\n",
            "\n",
            "Smith\n"
          ],
          "name": "stdout"
        }
      ]
    },
    {
      "cell_type": "code",
      "metadata": {
        "colab": {
          "base_uri": "https://localhost:8080/"
        },
        "id": "vZcZHOkcQy89",
        "outputId": "3377947a-0b07-426b-f6da-a0784336240f"
      },
      "source": [
        "Individual_Name = \"Mary Smith    \"\r\n",
        "print(Individual_Name)"
      ],
      "execution_count": 17,
      "outputs": [
        {
          "output_type": "stream",
          "text": [
            "Mary Smith    \n"
          ],
          "name": "stdout"
        }
      ]
    },
    {
      "cell_type": "code",
      "metadata": {
        "colab": {
          "base_uri": "https://localhost:8080/"
        },
        "id": "Z6xsyH1FUN8l",
        "outputId": "e71268da-b2e0-4072-8750-84848944b728"
      },
      "source": [
        "name = \"John\"\r\n",
        "todays_message = \"Hello\" + \" \" + name + \", what are you doing after class?\"\r\n",
        "print(todays_message)\r\n",
        "print(name.upper())\r\n",
        "print(name.lower())\r\n",
        "print(\"\\tJohn\")\r\n",
        "print(\"\\tJohn\".lstrip())"
      ],
      "execution_count": 20,
      "outputs": [
        {
          "output_type": "stream",
          "text": [
            "Hello John, what are you doing after class?\n",
            "JOHN\n",
            "john\n",
            "\tJohn\n",
            "John\n"
          ],
          "name": "stdout"
        }
      ]
    },
    {
      "cell_type": "code",
      "metadata": {
        "colab": {
          "base_uri": "https://localhost:8080/"
        },
        "id": "vo1gdNNGYPKZ",
        "outputId": "dcbf674b-360b-4033-dcd0-4d6afb188660"
      },
      "source": [
        "age = 27\r\n",
        "message = \"Happy \" + str(age) + \"th Birthday!\"\r\n",
        "print(message)"
      ],
      "execution_count": 24,
      "outputs": [
        {
          "output_type": "stream",
          "text": [
            "Happy 27th Birthday!\n"
          ],
          "name": "stdout"
        }
      ]
    },
    {
      "cell_type": "code",
      "metadata": {
        "colab": {
          "base_uri": "https://localhost:8080/"
        },
        "id": "gdLmQu8aaE6u",
        "outputId": "d598688f-7a9b-476f-ce5a-30c239f2fef5"
      },
      "source": [
        "age = \"27\"\r\n",
        "message = \"Happy \" + \" \"+ age + \"th Birthday!\"\r\n",
        "print(message)"
      ],
      "execution_count": 28,
      "outputs": [
        {
          "output_type": "stream",
          "text": [
            "Happy  27th Birthday!\n"
          ],
          "name": "stdout"
        }
      ]
    }
  ]
}