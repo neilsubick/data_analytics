{
  "nbformat": 4,
  "nbformat_minor": 0,
  "metadata": {
    "colab": {
      "name": "Numpy",
      "provenance": [],
      "authorship_tag": "ABX9TyMB8WW5VMhe8gEhU7kG2wAy",
      "include_colab_link": true
    },
    "kernelspec": {
      "name": "python3",
      "display_name": "Python 3"
    }
  },
  "cells": [
    {
      "cell_type": "markdown",
      "metadata": {
        "id": "view-in-github",
        "colab_type": "text"
      },
      "source": [
        "<a href=\"https://colab.research.google.com/github/neilsubick/data_analytics/blob/main/Numpy.ipynb\" target=\"_parent\"><img src=\"https://colab.research.google.com/assets/colab-badge.svg\" alt=\"Open In Colab\"/></a>"
      ]
    },
    {
      "cell_type": "code",
      "metadata": {
        "colab": {
          "base_uri": "https://localhost:8080/"
        },
        "id": "OtRid4ZZljb4",
        "outputId": "135ba891-8a75-4d51-8f49-a2e2d170aff7"
      },
      "source": [
        "np_city = np.array (['NYC','LA','Houston','Miami'])\r\n",
        "np_city.ndim\r\n",
        "np_city.shape\r\n",
        "np_city.size\r\n",
        "#np_city.dtype"
      ],
      "execution_count": 8,
      "outputs": [
        {
          "output_type": "execute_result",
          "data": {
            "text/plain": [
              "4"
            ]
          },
          "metadata": {
            "tags": []
          },
          "execution_count": 8
        }
      ]
    },
    {
      "cell_type": "code",
      "metadata": {
        "colab": {
          "base_uri": "https://localhost:8080/"
        },
        "id": "ebU2tOH2klza",
        "outputId": "bfe35037-92c8-4423-b110-54dca399af80"
      },
      "source": [
        "import numpy as np\r\n",
        "\r\n",
        "np_city_with_state = np_city = np.array ([['NYC','LA','Houston','Miami'], ['NY','CA','TX','FL']])\r\n",
        "np_city_with_state.ndim\r\n",
        "np_city_with_state.shape\r\n",
        "#np_city_with_state.size\r\n",
        "#np_city_with_state.dtype"
      ],
      "execution_count": 1,
      "outputs": [
        {
          "output_type": "execute_result",
          "data": {
            "text/plain": [
              "(2, 4)"
            ]
          },
          "metadata": {
            "tags": []
          },
          "execution_count": 1
        }
      ]
    },
    {
      "cell_type": "code",
      "metadata": {
        "colab": {
          "base_uri": "https://localhost:8080/"
        },
        "id": "VcihAZQNn1JN",
        "outputId": "b2c8deaf-5d6b-453c-8f3c-61a811e9e09b"
      },
      "source": [
        "first_trial_cyclist = [10,15,17,26]\r\n",
        "second_trial_cyclist =[12,11,21,24]\r\n",
        "\r\n",
        "np_ftc = np.array(first_trial_cyclist)\r\n",
        "np_stc = np.array(second_trial_cyclist)\r\n",
        "\r\n",
        "np_ftc + np_stc"
      ],
      "execution_count": 6,
      "outputs": [
        {
          "output_type": "execute_result",
          "data": {
            "text/plain": [
              "array([22, 26, 38, 50])"
            ]
          },
          "metadata": {
            "tags": []
          },
          "execution_count": 6
        }
      ]
    },
    {
      "cell_type": "code",
      "metadata": {
        "colab": {
          "base_uri": "https://localhost:8080/"
        },
        "id": "pVmiVnJaqllk",
        "outputId": "b535e376-583e-4631-b64b-a03e94c0ee92"
      },
      "source": [
        "first_trial_cyclist = [10,15,17,26]\r\n",
        "second_trial_cyclist =[12,11,21,24]\r\n",
        "cyclist_time = np.array([[10,15,17,26],[12,11,21,24]])\r\n",
        "ftc_time = cyclist_time[0]\r\n",
        "ftc_times =cyclist_time[0,0]\r\n",
        "stc_time = cyclist_time[1]\r\n",
        "stc_times = cyclist_time[1,0]\r\n",
        "print(ftc_time)\r\n",
        "print(ftc_times)\r\n",
        "print(stc_time)\r\n",
        "print(stc_times)"
      ],
      "execution_count": 9,
      "outputs": [
        {
          "output_type": "stream",
          "text": [
            "[10 15 17 26]\n",
            "10\n",
            "[12 11 21 24]\n",
            "12\n"
          ],
          "name": "stdout"
        }
      ]
    },
    {
      "cell_type": "code",
      "metadata": {
        "colab": {
          "base_uri": "https://localhost:8080/"
        },
        "id": "lLtSqGiztzD-",
        "outputId": "6401495c-6b91-475b-ab03-939b90cca8e1"
      },
      "source": [
        "test_score = np.array([[81,71,57,63],[54,61,87,45]])\r\n",
        "passing_score = test_score >60\r\n",
        "passing_score\r\n",
        "test_score[passing_score]"
      ],
      "execution_count": 10,
      "outputs": [
        {
          "output_type": "execute_result",
          "data": {
            "text/plain": [
              "array([81, 71, 63, 61, 87])"
            ]
          },
          "metadata": {
            "tags": []
          },
          "execution_count": 10
        }
      ]
    },
    {
      "cell_type": "code",
      "metadata": {
        "colab": {
          "base_uri": "https://localhost:8080/",
          "height": 35
        },
        "id": "LpUsBTGHuu6l",
        "outputId": "1b518e93-fd6d-440d-b8ee-5ae19182de51"
      },
      "source": [
        "NYC_Borough = np.array(['Manhattan','Queens','Brooklyn','Staten Island','Bronx'])  #original dataset\r\n",
        "NYC_Borough\r\n",
        "\r\n",
        "Boroughs_NYC = NYC_Borough\r\n",
        "Boroughs_NYC\r\n",
        "Boroughs_in_NYC = Boroughs_NYC.view()\r\n",
        "Boroughs_in_NYC\r\n",
        "Boroughs_in_NYC is NYC_Borough\r\n",
        "NYC_Borough is Boroughs_NYC\r\n",
        "len(Boroughs_in_NYC)\r\n",
        "Boroughs_in_NYC[3]"
      ],
      "execution_count": 13,
      "outputs": [
        {
          "output_type": "execute_result",
          "data": {
            "application/vnd.google.colaboratory.intrinsic+json": {
              "type": "string"
            },
            "text/plain": [
              "'Staten Island'"
            ]
          },
          "metadata": {
            "tags": []
          },
          "execution_count": 13
        }
      ]
    },
    {
      "cell_type": "code",
      "metadata": {
        "colab": {
          "base_uri": "https://localhost:8080/"
        },
        "id": "hMoqadI3zRwF",
        "outputId": "2fb9c59e-d1f7-4070-fb35-555f68a991f1"
      },
      "source": [
        "np_sqrt = np.sqrt([2,4,9,16])\r\n",
        "np_sqrt\r\n",
        "\r\n",
        "from numpy import pi\r\n",
        "np.cos(0)\r\n",
        "#np.sin(pi/2)\r\n",
        "#np.cos(pi)\r\n",
        "#np.floor([1.5,1.6,2.7,3.3,1.1,-0.3,-1.4])\r\n",
        "#np.exp([0,1,5])"
      ],
      "execution_count": 17,
      "outputs": [
        {
          "output_type": "execute_result",
          "data": {
            "text/plain": [
              "1.0"
            ]
          },
          "metadata": {
            "tags": []
          },
          "execution_count": 17
        }
      ]
    },
    {
      "cell_type": "code",
      "metadata": {
        "colab": {
          "base_uri": "https://localhost:8080/"
        },
        "id": "1SUd52_z2dEr",
        "outputId": "a3c7e08e-5744-44a2-e7e6-58ff6fffead8"
      },
      "source": [
        "array_a = np.array([2,3,5,9])\r\n",
        "array_b = np.array([0.3,0.3,0.3,0.3])\r\n",
        "\r\n",
        "#multiply\r\n",
        "array_a * array_b\r\n",
        "\r\n",
        "#variable with scalar view\r\n",
        "scalar_c = 0.3\r\n",
        "array_a * scalar_c"
      ],
      "execution_count": 18,
      "outputs": [
        {
          "output_type": "execute_result",
          "data": {
            "text/plain": [
              "array([0.6, 0.9, 1.5, 2.7])"
            ]
          },
          "metadata": {
            "tags": []
          },
          "execution_count": 18
        }
      ]
    },
    {
      "cell_type": "code",
      "metadata": {
        "colab": {
          "base_uri": "https://localhost:8080/"
        },
        "id": "c8g7OTEd3pKE",
        "outputId": "9cf755b1-318a-4812-fa8c-9e64be655ebe"
      },
      "source": [
        "inverse_array = np.array([[10,20],[15,25]])\r\n",
        "np.linalg.inv(inverse_array)"
      ],
      "execution_count": 19,
      "outputs": [
        {
          "output_type": "execute_result",
          "data": {
            "text/plain": [
              "array([[-0.5,  0.4],\n",
              "       [ 0.3, -0.2]])"
            ]
          },
          "metadata": {
            "tags": []
          },
          "execution_count": 19
        }
      ]
    },
    {
      "cell_type": "code",
      "metadata": {
        "colab": {
          "base_uri": "https://localhost:8080/"
        },
        "id": "85ahT9Fs4Qe6",
        "outputId": "a1b573d0-7ea4-4d88-e3e1-baa2d5e3a710"
      },
      "source": [
        "trace_array = np.array([[10,20],[22,31]])\r\n",
        "np.trace(trace_array)"
      ],
      "execution_count": 20,
      "outputs": [
        {
          "output_type": "execute_result",
          "data": {
            "text/plain": [
              "41"
            ]
          },
          "metadata": {
            "tags": []
          },
          "execution_count": 20
        }
      ]
    }
  ]
}