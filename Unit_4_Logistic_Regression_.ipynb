{
  "nbformat": 4,
  "nbformat_minor": 0,
  "metadata": {
    "colab": {
      "name": "Unit 4 -Logistic Regression  .ipynb",
      "provenance": [],
      "collapsed_sections": [],
      "include_colab_link": true
    },
    "kernelspec": {
      "name": "python3",
      "display_name": "Python 3"
    }
  },
  "cells": [
    {
      "cell_type": "markdown",
      "metadata": {
        "id": "view-in-github",
        "colab_type": "text"
      },
      "source": [
        "<a href=\"https://colab.research.google.com/github/neilsubick/data_analytics/blob/main/Unit_4_Logistic_Regression_.ipynb\" target=\"_parent\"><img src=\"https://colab.research.google.com/assets/colab-badge.svg\" alt=\"Open In Colab\"/></a>"
      ]
    },
    {
      "cell_type": "markdown",
      "metadata": {
        "id": "oiuAiFMuk9of"
      },
      "source": [
        "# Titanic Dataset Analysis"
      ]
    },
    {
      "cell_type": "markdown",
      "metadata": {
        "id": "yPgKf9Jh9PhJ"
      },
      "source": [
        "From Kaggle: The sinking of the Titanic is one of the most infamous shipwrecks in history.\r\n",
        "\r\n",
        "On April 15, 1912, during her maiden voyage, the widely considered “unsinkable” RMS Titanic sank after colliding with an iceberg. Unfortunately, there weren’t enough lifeboats for everyone onboard, resulting in the death of 1502 out of 2224 passengers and crew.\r\n",
        "\r\n",
        "While there was some element of luck involved in surviving, it seems some groups of people were more likely to survive than others.\r\n",
        "\r\n",
        "In this challenge, we ask you to build a predictive model that answers the question: “what sorts of people were more likely to survive?” using passenger data (ie name, age, gender, socio-economic class, etc)."
      ]
    },
    {
      "cell_type": "markdown",
      "metadata": {
        "id": "wSyoLZURmeDE"
      },
      "source": [
        "# Tasks:\r\n",
        "\r\n",
        "\r\n",
        "\r\n",
        "1.   Every step must have an explanation\r\n",
        "2.   Every plot/ chart must have an iterpretation\r\n",
        "3.   Add your observations for each section\r\n",
        "4.   Draw clear conclusions (at least 5 conclusions)\r\n",
        "\r\n"
      ]
    },
    {
      "cell_type": "markdown",
      "metadata": {
        "id": "NwsQjGxPt__j"
      },
      "source": [
        "#Dataset Description\r\n",
        "\r\n",
        "*  survival - Survival (0 = No; 1 = Yes)\r\n",
        "*  class - Passenger Class (1 = 1st; 2 = 2nd; 3 = 3rd)\r\n",
        "*  name - Name\r\n",
        "*  sex - Sex\r\n",
        "*  age - Age\r\n",
        "*  sibsp - Number of Siblings/Spouses Aboard\r\n",
        "*  parch - Number of Parents/Children Aboard\r\n",
        "*  ticket - Ticket Number\r\n",
        "*  fare - Passenger Fare\r\n",
        "*  cabin - Cabin\r\n",
        "*  embarked - Port of Embarkation (C = Cherbourg; Q = Queenstown; S = Southampton)\r\n",
        "*  boat - Lifeboat (if survived)\r\n",
        "*  body - Body number (if did not survive and body was recovered)\r\n",
        "\r\n",
        "\r\n",
        "\r\n"
      ]
    },
    {
      "cell_type": "markdown",
      "metadata": {
        "id": "RQkiqy_StCNX"
      },
      "source": [
        "#1. Data Acquisition & Analysis"
      ]
    },
    {
      "cell_type": "code",
      "metadata": {
        "id": "915t5E4hkX-8"
      },
      "source": [
        "import pandas as pd"
      ],
      "execution_count": 36,
      "outputs": []
    },
    {
      "cell_type": "code",
      "metadata": {
        "id": "21FuwO2OlDll"
      },
      "source": [
        "train = pd.read_csv('https://raw.githubusercontent.com/niteen11/cuny_lagcc_micro_credential_data_analytics/main/Track%20A/Unit%204%20-%20Machine%20Learning%20and%20Modeling%20Techniques/Dataset/titanic_train.csv')"
      ],
      "execution_count": 37,
      "outputs": []
    },
    {
      "cell_type": "markdown",
      "metadata": {
        "id": "CjKaX9PW3HaX"
      },
      "source": [
        "Review the top and bottom part of the dataset"
      ]
    },
    {
      "cell_type": "code",
      "metadata": {
        "id": "qNm25xMulMBn",
        "outputId": "ebda6bf0-8ab3-4065-db98-c5da15b061f4",
        "colab": {
          "base_uri": "https://localhost:8080/",
          "height": 198
        }
      },
      "source": [
        "train.head()\r\n",
        "train.tail()"
      ],
      "execution_count": 38,
      "outputs": [
        {
          "output_type": "execute_result",
          "data": {
            "text/html": [
              "<div>\n",
              "<style scoped>\n",
              "    .dataframe tbody tr th:only-of-type {\n",
              "        vertical-align: middle;\n",
              "    }\n",
              "\n",
              "    .dataframe tbody tr th {\n",
              "        vertical-align: top;\n",
              "    }\n",
              "\n",
              "    .dataframe thead th {\n",
              "        text-align: right;\n",
              "    }\n",
              "</style>\n",
              "<table border=\"1\" class=\"dataframe\">\n",
              "  <thead>\n",
              "    <tr style=\"text-align: right;\">\n",
              "      <th></th>\n",
              "      <th>PassengerId</th>\n",
              "      <th>Survived</th>\n",
              "      <th>Pclass</th>\n",
              "      <th>Name</th>\n",
              "      <th>Sex</th>\n",
              "      <th>Age</th>\n",
              "      <th>SibSp</th>\n",
              "      <th>Parch</th>\n",
              "      <th>Ticket</th>\n",
              "      <th>Fare</th>\n",
              "      <th>Cabin</th>\n",
              "      <th>Embarked</th>\n",
              "    </tr>\n",
              "  </thead>\n",
              "  <tbody>\n",
              "    <tr>\n",
              "      <th>886</th>\n",
              "      <td>887</td>\n",
              "      <td>0</td>\n",
              "      <td>2</td>\n",
              "      <td>Montvila, Rev. Juozas</td>\n",
              "      <td>male</td>\n",
              "      <td>27.0</td>\n",
              "      <td>0</td>\n",
              "      <td>0</td>\n",
              "      <td>211536</td>\n",
              "      <td>13.00</td>\n",
              "      <td>NaN</td>\n",
              "      <td>S</td>\n",
              "    </tr>\n",
              "    <tr>\n",
              "      <th>887</th>\n",
              "      <td>888</td>\n",
              "      <td>1</td>\n",
              "      <td>1</td>\n",
              "      <td>Graham, Miss. Margaret Edith</td>\n",
              "      <td>female</td>\n",
              "      <td>19.0</td>\n",
              "      <td>0</td>\n",
              "      <td>0</td>\n",
              "      <td>112053</td>\n",
              "      <td>30.00</td>\n",
              "      <td>B42</td>\n",
              "      <td>S</td>\n",
              "    </tr>\n",
              "    <tr>\n",
              "      <th>888</th>\n",
              "      <td>889</td>\n",
              "      <td>0</td>\n",
              "      <td>3</td>\n",
              "      <td>Johnston, Miss. Catherine Helen \"Carrie\"</td>\n",
              "      <td>female</td>\n",
              "      <td>NaN</td>\n",
              "      <td>1</td>\n",
              "      <td>2</td>\n",
              "      <td>W./C. 6607</td>\n",
              "      <td>23.45</td>\n",
              "      <td>NaN</td>\n",
              "      <td>S</td>\n",
              "    </tr>\n",
              "    <tr>\n",
              "      <th>889</th>\n",
              "      <td>890</td>\n",
              "      <td>1</td>\n",
              "      <td>1</td>\n",
              "      <td>Behr, Mr. Karl Howell</td>\n",
              "      <td>male</td>\n",
              "      <td>26.0</td>\n",
              "      <td>0</td>\n",
              "      <td>0</td>\n",
              "      <td>111369</td>\n",
              "      <td>30.00</td>\n",
              "      <td>C148</td>\n",
              "      <td>C</td>\n",
              "    </tr>\n",
              "    <tr>\n",
              "      <th>890</th>\n",
              "      <td>891</td>\n",
              "      <td>0</td>\n",
              "      <td>3</td>\n",
              "      <td>Dooley, Mr. Patrick</td>\n",
              "      <td>male</td>\n",
              "      <td>32.0</td>\n",
              "      <td>0</td>\n",
              "      <td>0</td>\n",
              "      <td>370376</td>\n",
              "      <td>7.75</td>\n",
              "      <td>NaN</td>\n",
              "      <td>Q</td>\n",
              "    </tr>\n",
              "  </tbody>\n",
              "</table>\n",
              "</div>"
            ],
            "text/plain": [
              "     PassengerId  Survived  Pclass  ...   Fare Cabin  Embarked\n",
              "886          887         0       2  ...  13.00   NaN         S\n",
              "887          888         1       1  ...  30.00   B42         S\n",
              "888          889         0       3  ...  23.45   NaN         S\n",
              "889          890         1       1  ...  30.00  C148         C\n",
              "890          891         0       3  ...   7.75   NaN         Q\n",
              "\n",
              "[5 rows x 12 columns]"
            ]
          },
          "metadata": {
            "tags": []
          },
          "execution_count": 38
        }
      ]
    },
    {
      "cell_type": "markdown",
      "metadata": {
        "id": "oIMjFMz2mWOQ"
      },
      "source": [
        "# EDA (Exploratory Data Analysis)"
      ]
    },
    {
      "cell_type": "code",
      "metadata": {
        "id": "e3Fqs-ndlOET"
      },
      "source": [
        "import seaborn as sns"
      ],
      "execution_count": 39,
      "outputs": []
    },
    {
      "cell_type": "code",
      "metadata": {
        "id": "15HXDFa5lRGp"
      },
      "source": [
        "%matplotlib inline\r\n",
        "import matplotlib.pyplot as plt"
      ],
      "execution_count": 40,
      "outputs": []
    },
    {
      "cell_type": "markdown",
      "metadata": {
        "id": "ZuZ89i9Lq6zj"
      },
      "source": [
        "Create a heatmap of missing data in seaborn"
      ]
    },
    {
      "cell_type": "code",
      "metadata": {
        "id": "RFjARLn0lUtA",
        "outputId": "4bdf51f0-f6b5-492e-ad38-ce48a5d83114",
        "colab": {
          "base_uri": "https://localhost:8080/",
          "height": 553
        }
      },
      "source": [
        "sns.heatmap(train.isnull(), yticklabels=False, cbar=False, cmap='Blues')\r\n",
        "train.isnull().sum()"
      ],
      "execution_count": 41,
      "outputs": [
        {
          "output_type": "execute_result",
          "data": {
            "text/plain": [
              "PassengerId      0\n",
              "Survived         0\n",
              "Pclass           0\n",
              "Name             0\n",
              "Sex              0\n",
              "Age            177\n",
              "SibSp            0\n",
              "Parch            0\n",
              "Ticket           0\n",
              "Fare             0\n",
              "Cabin          687\n",
              "Embarked         2\n",
              "dtype: int64"
            ]
          },
          "metadata": {
            "tags": []
          },
          "execution_count": 41
        },
        {
          "output_type": "display_data",
          "data": {
            "image/png": "[encoded data removed]",
            "text/plain": [
              "<Figure size 432x288 with 1 Axes>"
            ]
          },
          "metadata": {
            "tags": [],
            "needs_background": "light"
          }
        }
      ]
    },
    {
      "cell_type": "markdown",
      "metadata": {
        "id": "aVrCyvC-rJCR"
      },
      "source": [
        "#Observations"
      ]
    },
    {
      "cell_type": "markdown",
      "metadata": {
        "id": "yq1BazJarNiW"
      },
      "source": [
        "\r\n",
        "\r\n",
        "\r\n"
      ]
    },
    {
      "cell_type": "markdown",
      "metadata": {
        "id": "9WFI374knAwF"
      },
      "source": [
        "## Class\r\n"
      ]
    },
    {
      "cell_type": "markdown",
      "metadata": {
        "id": "J732VtBF3S3j"
      },
      "source": [
        "Plot a CountPlot with the Survived datapoint and set the plot style to whitegrid"
      ]
    },
    {
      "cell_type": "code",
      "metadata": {
        "id": "fJm2pNqUldSa",
        "outputId": "fc65d84d-228f-4afa-bb72-3eddc2af0159",
        "colab": {
          "base_uri": "https://localhost:8080/",
          "height": 297
        }
      },
      "source": [
        "sns.set_style('whitegrid')\r\n",
        "sns.countplot(x='Survived', data=train)"
      ],
      "execution_count": 42,
      "outputs": [
        {
          "output_type": "execute_result",
          "data": {
            "text/plain": [
              "<matplotlib.axes._subplots.AxesSubplot at 0x7fb3923d1208>"
            ]
          },
          "metadata": {
            "tags": []
          },
          "execution_count": 42
        },
        {
          "output_type": "display_data",
          "data": {
            "image/png": "[encoded data removed]",
            "text/plain": [
              "<Figure size 432x288 with 1 Axes>"
            ]
          },
          "metadata": {
            "tags": []
          }
        }
      ]
    },
    {
      "cell_type": "markdown",
      "metadata": {
        "id": "qc88H51knGOf"
      },
      "source": [
        "## Survived"
      ]
    },
    {
      "cell_type": "markdown",
      "metadata": {
        "id": "vy4U4vvV3ff6"
      },
      "source": [
        "Seperate the data in the above plot by sex."
      ]
    },
    {
      "cell_type": "code",
      "metadata": {
        "id": "fU-n7WUOl1AC",
        "outputId": "1dbf67dd-5467-42ec-b19a-d329dbad7f6f",
        "colab": {
          "base_uri": "https://localhost:8080/",
          "height": 297
        }
      },
      "source": [
        "#sns.set_style('whitegrid')\r\n",
        "sns.countplot(x='Survived', hue='Sex', data=train)"
      ],
      "execution_count": 43,
      "outputs": [
        {
          "output_type": "execute_result",
          "data": {
            "text/plain": [
              "<matplotlib.axes._subplots.AxesSubplot at 0x7fb38de2dda0>"
            ]
          },
          "metadata": {
            "tags": []
          },
          "execution_count": 43
        },
        {
          "output_type": "display_data",
          "data": {
            "image/png": "[encoded data removed]",
            "text/plain": [
              "<Figure size 432x288 with 1 Axes>"
            ]
          },
          "metadata": {
            "tags": []
          }
        }
      ]
    },
    {
      "cell_type": "markdown",
      "metadata": {
        "id": "wzIqiM7M4Aew"
      },
      "source": [
        "Seperate the survived plot by PClass"
      ]
    },
    {
      "cell_type": "code",
      "metadata": {
        "id": "bHSnFWHtl8cH"
      },
      "source": [
        ""
      ],
      "execution_count": null,
      "outputs": []
    },
    {
      "cell_type": "markdown",
      "metadata": {
        "id": "v4KdznzFnKiX"
      },
      "source": [
        "## Age"
      ]
    },
    {
      "cell_type": "markdown",
      "metadata": {
        "id": "CDttBclT4NE-"
      },
      "source": [
        "Create a Distribution Plot for Age and remove the missing age values with 30 bins."
      ]
    },
    {
      "cell_type": "code",
      "metadata": {
        "id": "625zq71qmDq3",
        "outputId": "70592b87-16df-4e8d-de7d-e3589ad9cdf9",
        "colab": {
          "base_uri": "https://localhost:8080/",
          "height": 354
        }
      },
      "source": [
        "sns.distplot(train['Age'].dropna(), kde=False, bins=30)"
      ],
      "execution_count": 44,
      "outputs": [
        {
          "output_type": "stream",
          "text": [
            "/usr/local/lib/python3.6/dist-packages/seaborn/distributions.py:2557: FutureWarning: `distplot` is a deprecated function and will be removed in a future version. Please adapt your code to use either `displot` (a figure-level function with similar flexibility) or `histplot` (an axes-level function for histograms).\n",
            "  warnings.warn(msg, FutureWarning)\n"
          ],
          "name": "stderr"
        },
        {
          "output_type": "execute_result",
          "data": {
            "text/plain": [
              "<matplotlib.axes._subplots.AxesSubplot at 0x7fb38de0a0b8>"
            ]
          },
          "metadata": {
            "tags": []
          },
          "execution_count": 44
        },
        {
          "output_type": "display_data",
          "data": {
            "image/png": "[encoded data removed]",
            "text/plain": [
              "<Figure size 432x288 with 1 Axes>"
            ]
          },
          "metadata": {
            "tags": []
          }
        }
      ]
    },
    {
      "cell_type": "markdown",
      "metadata": {
        "id": "fE9CM1-GnT8H"
      },
      "source": [
        "## Siblings"
      ]
    },
    {
      "cell_type": "markdown",
      "metadata": {
        "id": "eCrrOZ__44gU"
      },
      "source": [
        "Create a count plot for Siblings"
      ]
    },
    {
      "cell_type": "code",
      "metadata": {
        "id": "TH9bdKk_mQgu",
        "outputId": "b523bce4-b93e-4946-ef49-bf9000f9ab69",
        "colab": {
          "base_uri": "https://localhost:8080/",
          "height": 297
        }
      },
      "source": [
        "sns.countplot(x='SibSp', data=train)"
      ],
      "execution_count": 45,
      "outputs": [
        {
          "output_type": "execute_result",
          "data": {
            "text/plain": [
              "<matplotlib.axes._subplots.AxesSubplot at 0x7fb38de0a908>"
            ]
          },
          "metadata": {
            "tags": []
          },
          "execution_count": 45
        },
        {
          "output_type": "display_data",
          "data": {
            "image/png": "[encoded data removed]",
            "text/plain": [
              "<Figure size 432x288 with 1 Axes>"
            ]
          },
          "metadata": {
            "tags": []
          }
        }
      ]
    },
    {
      "cell_type": "markdown",
      "metadata": {
        "id": "l9wkhQr3nl8i"
      },
      "source": [
        "# 2. Data Cleaning and Data Pre - Processing"
      ]
    },
    {
      "cell_type": "markdown",
      "metadata": {
        "id": "kUUVzrA_vYid"
      },
      "source": [
        "For our logistic model to work \r\n",
        "*   we need to convert all non-numeric variables to numeric\r\n",
        "*   drop columns that are not needed \r\n",
        "\r\n"
      ]
    },
    {
      "cell_type": "markdown",
      "metadata": {
        "id": "-rz2BgCI5WAT"
      },
      "source": [
        "Drop the Cabin column from the train dataset but do not print the data"
      ]
    },
    {
      "cell_type": "code",
      "metadata": {
        "id": "FnkGV6agon2G",
        "outputId": "9d63ba5b-6934-4308-d8a4-69eb14c97c12",
        "colab": {
          "base_uri": "https://localhost:8080/",
          "height": 322
        }
      },
      "source": [
        "train.drop('Cabin', axis=1, inplace=True)"
      ],
      "execution_count": 58,
      "outputs": [
        {
          "output_type": "error",
          "ename": "KeyError",
          "evalue": "ignored",
          "traceback": [
            "\u001b[0;31m---------------------------------------------------------------------------\u001b[0m",
            "\u001b[0;31mKeyError\u001b[0m                                  Traceback (most recent call last)",
            "\u001b[0;32m<ipython-input-58-c3cf97248fb4>\u001b[0m in \u001b[0;36m<module>\u001b[0;34m()\u001b[0m\n\u001b[0;32m----> 1\u001b[0;31m \u001b[0mtrain\u001b[0m\u001b[0;34m.\u001b[0m\u001b[0mdrop\u001b[0m\u001b[0;34m(\u001b[0m\u001b[0;34m'Cabin'\u001b[0m\u001b[0;34m,\u001b[0m \u001b[0maxis\u001b[0m\u001b[0;34m=\u001b[0m\u001b[0;36m1\u001b[0m\u001b[0;34m,\u001b[0m \u001b[0minplace\u001b[0m\u001b[0;34m=\u001b[0m\u001b[0;32mTrue\u001b[0m\u001b[0;34m)\u001b[0m\u001b[0;34m\u001b[0m\u001b[0;34m\u001b[0m\u001b[0m\n\u001b[0m",
            "\u001b[0;32m/usr/local/lib/python3.6/dist-packages/pandas/core/frame.py\u001b[0m in \u001b[0;36mdrop\u001b[0;34m(self, labels, axis, index, columns, level, inplace, errors)\u001b[0m\n\u001b[1;32m   4172\u001b[0m             \u001b[0mlevel\u001b[0m\u001b[0;34m=\u001b[0m\u001b[0mlevel\u001b[0m\u001b[0;34m,\u001b[0m\u001b[0;34m\u001b[0m\u001b[0;34m\u001b[0m\u001b[0m\n\u001b[1;32m   4173\u001b[0m             \u001b[0minplace\u001b[0m\u001b[0;34m=\u001b[0m\u001b[0minplace\u001b[0m\u001b[0;34m,\u001b[0m\u001b[0;34m\u001b[0m\u001b[0;34m\u001b[0m\u001b[0m\n\u001b[0;32m-> 4174\u001b[0;31m             \u001b[0merrors\u001b[0m\u001b[0;34m=\u001b[0m\u001b[0merrors\u001b[0m\u001b[0;34m,\u001b[0m\u001b[0;34m\u001b[0m\u001b[0;34m\u001b[0m\u001b[0m\n\u001b[0m\u001b[1;32m   4175\u001b[0m         )\n\u001b[1;32m   4176\u001b[0m \u001b[0;34m\u001b[0m\u001b[0m\n",
            "\u001b[0;32m/usr/local/lib/python3.6/dist-packages/pandas/core/generic.py\u001b[0m in \u001b[0;36mdrop\u001b[0;34m(self, labels, axis, index, columns, level, inplace, errors)\u001b[0m\n\u001b[1;32m   3887\u001b[0m         \u001b[0;32mfor\u001b[0m \u001b[0maxis\u001b[0m\u001b[0;34m,\u001b[0m \u001b[0mlabels\u001b[0m \u001b[0;32min\u001b[0m \u001b[0maxes\u001b[0m\u001b[0;34m.\u001b[0m\u001b[0mitems\u001b[0m\u001b[0;34m(\u001b[0m\u001b[0;34m)\u001b[0m\u001b[0;34m:\u001b[0m\u001b[0;34m\u001b[0m\u001b[0;34m\u001b[0m\u001b[0m\n\u001b[1;32m   3888\u001b[0m             \u001b[0;32mif\u001b[0m \u001b[0mlabels\u001b[0m \u001b[0;32mis\u001b[0m \u001b[0;32mnot\u001b[0m \u001b[0;32mNone\u001b[0m\u001b[0;34m:\u001b[0m\u001b[0;34m\u001b[0m\u001b[0;34m\u001b[0m\u001b[0m\n\u001b[0;32m-> 3889\u001b[0;31m                 \u001b[0mobj\u001b[0m \u001b[0;34m=\u001b[0m \u001b[0mobj\u001b[0m\u001b[0;34m.\u001b[0m\u001b[0m_drop_axis\u001b[0m\u001b[0;34m(\u001b[0m\u001b[0mlabels\u001b[0m\u001b[0;34m,\u001b[0m \u001b[0maxis\u001b[0m\u001b[0;34m,\u001b[0m \u001b[0mlevel\u001b[0m\u001b[0;34m=\u001b[0m\u001b[0mlevel\u001b[0m\u001b[0;34m,\u001b[0m \u001b[0merrors\u001b[0m\u001b[0;34m=\u001b[0m\u001b[0merrors\u001b[0m\u001b[0;34m)\u001b[0m\u001b[0;34m\u001b[0m\u001b[0;34m\u001b[0m\u001b[0m\n\u001b[0m\u001b[1;32m   3890\u001b[0m \u001b[0;34m\u001b[0m\u001b[0m\n\u001b[1;32m   3891\u001b[0m         \u001b[0;32mif\u001b[0m \u001b[0minplace\u001b[0m\u001b[0;34m:\u001b[0m\u001b[0;34m\u001b[0m\u001b[0;34m\u001b[0m\u001b[0m\n",
            "\u001b[0;32m/usr/local/lib/python3.6/dist-packages/pandas/core/generic.py\u001b[0m in \u001b[0;36m_drop_axis\u001b[0;34m(self, labels, axis, level, errors)\u001b[0m\n\u001b[1;32m   3921\u001b[0m                 \u001b[0mnew_axis\u001b[0m \u001b[0;34m=\u001b[0m \u001b[0maxis\u001b[0m\u001b[0;34m.\u001b[0m\u001b[0mdrop\u001b[0m\u001b[0;34m(\u001b[0m\u001b[0mlabels\u001b[0m\u001b[0;34m,\u001b[0m \u001b[0mlevel\u001b[0m\u001b[0;34m=\u001b[0m\u001b[0mlevel\u001b[0m\u001b[0;34m,\u001b[0m \u001b[0merrors\u001b[0m\u001b[0;34m=\u001b[0m\u001b[0merrors\u001b[0m\u001b[0;34m)\u001b[0m\u001b[0;34m\u001b[0m\u001b[0;34m\u001b[0m\u001b[0m\n\u001b[1;32m   3922\u001b[0m             \u001b[0;32melse\u001b[0m\u001b[0;34m:\u001b[0m\u001b[0;34m\u001b[0m\u001b[0;34m\u001b[0m\u001b[0m\n\u001b[0;32m-> 3923\u001b[0;31m                 \u001b[0mnew_axis\u001b[0m \u001b[0;34m=\u001b[0m \u001b[0maxis\u001b[0m\u001b[0;34m.\u001b[0m\u001b[0mdrop\u001b[0m\u001b[0;34m(\u001b[0m\u001b[0mlabels\u001b[0m\u001b[0;34m,\u001b[0m \u001b[0merrors\u001b[0m\u001b[0;34m=\u001b[0m\u001b[0merrors\u001b[0m\u001b[0;34m)\u001b[0m\u001b[0;34m\u001b[0m\u001b[0;34m\u001b[0m\u001b[0m\n\u001b[0m\u001b[1;32m   3924\u001b[0m             \u001b[0mresult\u001b[0m \u001b[0;34m=\u001b[0m \u001b[0mself\u001b[0m\u001b[0;34m.\u001b[0m\u001b[0mreindex\u001b[0m\u001b[0;34m(\u001b[0m\u001b[0;34m**\u001b[0m\u001b[0;34m{\u001b[0m\u001b[0maxis_name\u001b[0m\u001b[0;34m:\u001b[0m \u001b[0mnew_axis\u001b[0m\u001b[0;34m}\u001b[0m\u001b[0;34m)\u001b[0m\u001b[0;34m\u001b[0m\u001b[0;34m\u001b[0m\u001b[0m\n\u001b[1;32m   3925\u001b[0m \u001b[0;34m\u001b[0m\u001b[0m\n",
            "\u001b[0;32m/usr/local/lib/python3.6/dist-packages/pandas/core/indexes/base.py\u001b[0m in \u001b[0;36mdrop\u001b[0;34m(self, labels, errors)\u001b[0m\n\u001b[1;32m   5285\u001b[0m         \u001b[0;32mif\u001b[0m \u001b[0mmask\u001b[0m\u001b[0;34m.\u001b[0m\u001b[0many\u001b[0m\u001b[0;34m(\u001b[0m\u001b[0;34m)\u001b[0m\u001b[0;34m:\u001b[0m\u001b[0;34m\u001b[0m\u001b[0;34m\u001b[0m\u001b[0m\n\u001b[1;32m   5286\u001b[0m             \u001b[0;32mif\u001b[0m \u001b[0merrors\u001b[0m \u001b[0;34m!=\u001b[0m \u001b[0;34m\"ignore\"\u001b[0m\u001b[0;34m:\u001b[0m\u001b[0;34m\u001b[0m\u001b[0;34m\u001b[0m\u001b[0m\n\u001b[0;32m-> 5287\u001b[0;31m                 \u001b[0;32mraise\u001b[0m \u001b[0mKeyError\u001b[0m\u001b[0;34m(\u001b[0m\u001b[0;34mf\"{labels[mask]} not found in axis\"\u001b[0m\u001b[0;34m)\u001b[0m\u001b[0;34m\u001b[0m\u001b[0;34m\u001b[0m\u001b[0m\n\u001b[0m\u001b[1;32m   5288\u001b[0m             \u001b[0mindexer\u001b[0m \u001b[0;34m=\u001b[0m \u001b[0mindexer\u001b[0m\u001b[0;34m[\u001b[0m\u001b[0;34m~\u001b[0m\u001b[0mmask\u001b[0m\u001b[0;34m]\u001b[0m\u001b[0;34m\u001b[0m\u001b[0;34m\u001b[0m\u001b[0m\n\u001b[1;32m   5289\u001b[0m         \u001b[0;32mreturn\u001b[0m \u001b[0mself\u001b[0m\u001b[0;34m.\u001b[0m\u001b[0mdelete\u001b[0m\u001b[0;34m(\u001b[0m\u001b[0mindexer\u001b[0m\u001b[0;34m)\u001b[0m\u001b[0;34m\u001b[0m\u001b[0;34m\u001b[0m\u001b[0m\n",
            "\u001b[0;31mKeyError\u001b[0m: \"['Cabin'] not found in axis\""
          ]
        }
      ]
    },
    {
      "cell_type": "markdown",
      "metadata": {
        "id": "wN3y7ynB5xXI"
      },
      "source": [
        "Remove all Null/NaN value from the dataset and do not print the dataset"
      ]
    },
    {
      "cell_type": "code",
      "metadata": {
        "id": "khGexyrOraZH"
      },
      "source": [
        "train.dropna(inplace=True)"
      ],
      "execution_count": 59,
      "outputs": []
    },
    {
      "cell_type": "markdown",
      "metadata": {
        "id": "YbyJfrfe6bSb"
      },
      "source": [
        "For our logistic model to work, we need to convert all non-numeric variables to numeric and drop columns that we do not need."
      ]
    },
    {
      "cell_type": "code",
      "metadata": {
        "id": "ppUxwwaPnpKx",
        "outputId": "22b8325f-fc30-4a50-a59e-8ad8960647db",
        "colab": {
          "base_uri": "https://localhost:8080/",
          "height": 595
        }
      },
      "source": [
        "sex= pd.get_dummies(train['Sex'], drop_first=True)\r\n",
        "embark = pd.get_dummies(train['Embarked'], drop_first=True)"
      ],
      "execution_count": 60,
      "outputs": [
        {
          "output_type": "error",
          "ename": "KeyError",
          "evalue": "ignored",
          "traceback": [
            "\u001b[0;31m---------------------------------------------------------------------------\u001b[0m",
            "\u001b[0;31mKeyError\u001b[0m                                  Traceback (most recent call last)",
            "\u001b[0;32m/usr/local/lib/python3.6/dist-packages/pandas/core/indexes/base.py\u001b[0m in \u001b[0;36mget_loc\u001b[0;34m(self, key, method, tolerance)\u001b[0m\n\u001b[1;32m   2897\u001b[0m             \u001b[0;32mtry\u001b[0m\u001b[0;34m:\u001b[0m\u001b[0;34m\u001b[0m\u001b[0;34m\u001b[0m\u001b[0m\n\u001b[0;32m-> 2898\u001b[0;31m                 \u001b[0;32mreturn\u001b[0m \u001b[0mself\u001b[0m\u001b[0;34m.\u001b[0m\u001b[0m_engine\u001b[0m\u001b[0;34m.\u001b[0m\u001b[0mget_loc\u001b[0m\u001b[0;34m(\u001b[0m\u001b[0mcasted_key\u001b[0m\u001b[0;34m)\u001b[0m\u001b[0;34m\u001b[0m\u001b[0;34m\u001b[0m\u001b[0m\n\u001b[0m\u001b[1;32m   2899\u001b[0m             \u001b[0;32mexcept\u001b[0m \u001b[0mKeyError\u001b[0m \u001b[0;32mas\u001b[0m \u001b[0merr\u001b[0m\u001b[0;34m:\u001b[0m\u001b[0;34m\u001b[0m\u001b[0;34m\u001b[0m\u001b[0m\n",
            "\u001b[0;32mpandas/_libs/index.pyx\u001b[0m in \u001b[0;36mpandas._libs.index.IndexEngine.get_loc\u001b[0;34m()\u001b[0m\n",
            "\u001b[0;32mpandas/_libs/index.pyx\u001b[0m in \u001b[0;36mpandas._libs.index.IndexEngine.get_loc\u001b[0;34m()\u001b[0m\n",
            "\u001b[0;32mpandas/_libs/hashtable_class_helper.pxi\u001b[0m in \u001b[0;36mpandas._libs.hashtable.PyObjectHashTable.get_item\u001b[0;34m()\u001b[0m\n",
            "\u001b[0;32mpandas/_libs/hashtable_class_helper.pxi\u001b[0m in \u001b[0;36mpandas._libs.hashtable.PyObjectHashTable.get_item\u001b[0;34m()\u001b[0m\n",
            "\u001b[0;31mKeyError\u001b[0m: 'Sex'",
            "\nThe above exception was the direct cause of the following exception:\n",
            "\u001b[0;31mKeyError\u001b[0m                                  Traceback (most recent call last)",
            "\u001b[0;32m<ipython-input-60-256251c32645>\u001b[0m in \u001b[0;36m<module>\u001b[0;34m()\u001b[0m\n\u001b[0;32m----> 1\u001b[0;31m \u001b[0msex\u001b[0m\u001b[0;34m=\u001b[0m \u001b[0mpd\u001b[0m\u001b[0;34m.\u001b[0m\u001b[0mget_dummies\u001b[0m\u001b[0;34m(\u001b[0m\u001b[0mtrain\u001b[0m\u001b[0;34m[\u001b[0m\u001b[0;34m'Sex'\u001b[0m\u001b[0;34m]\u001b[0m\u001b[0;34m,\u001b[0m \u001b[0mdrop_first\u001b[0m\u001b[0;34m=\u001b[0m\u001b[0;32mTrue\u001b[0m\u001b[0;34m)\u001b[0m\u001b[0;34m\u001b[0m\u001b[0;34m\u001b[0m\u001b[0m\n\u001b[0m\u001b[1;32m      2\u001b[0m \u001b[0membark\u001b[0m \u001b[0;34m=\u001b[0m \u001b[0mpd\u001b[0m\u001b[0;34m.\u001b[0m\u001b[0mget_dummies\u001b[0m\u001b[0;34m(\u001b[0m\u001b[0mtrain\u001b[0m\u001b[0;34m[\u001b[0m\u001b[0;34m'Embarked'\u001b[0m\u001b[0;34m]\u001b[0m\u001b[0;34m,\u001b[0m \u001b[0mdrop_first\u001b[0m\u001b[0;34m=\u001b[0m\u001b[0;32mTrue\u001b[0m\u001b[0;34m)\u001b[0m\u001b[0;34m\u001b[0m\u001b[0;34m\u001b[0m\u001b[0m\n",
            "\u001b[0;32m/usr/local/lib/python3.6/dist-packages/pandas/core/frame.py\u001b[0m in \u001b[0;36m__getitem__\u001b[0;34m(self, key)\u001b[0m\n\u001b[1;32m   2904\u001b[0m             \u001b[0;32mif\u001b[0m \u001b[0mself\u001b[0m\u001b[0;34m.\u001b[0m\u001b[0mcolumns\u001b[0m\u001b[0;34m.\u001b[0m\u001b[0mnlevels\u001b[0m \u001b[0;34m>\u001b[0m \u001b[0;36m1\u001b[0m\u001b[0;34m:\u001b[0m\u001b[0;34m\u001b[0m\u001b[0;34m\u001b[0m\u001b[0m\n\u001b[1;32m   2905\u001b[0m                 \u001b[0;32mreturn\u001b[0m \u001b[0mself\u001b[0m\u001b[0;34m.\u001b[0m\u001b[0m_getitem_multilevel\u001b[0m\u001b[0;34m(\u001b[0m\u001b[0mkey\u001b[0m\u001b[0;34m)\u001b[0m\u001b[0;34m\u001b[0m\u001b[0;34m\u001b[0m\u001b[0m\n\u001b[0;32m-> 2906\u001b[0;31m             \u001b[0mindexer\u001b[0m \u001b[0;34m=\u001b[0m \u001b[0mself\u001b[0m\u001b[0;34m.\u001b[0m\u001b[0mcolumns\u001b[0m\u001b[0;34m.\u001b[0m\u001b[0mget_loc\u001b[0m\u001b[0;34m(\u001b[0m\u001b[0mkey\u001b[0m\u001b[0;34m)\u001b[0m\u001b[0;34m\u001b[0m\u001b[0;34m\u001b[0m\u001b[0m\n\u001b[0m\u001b[1;32m   2907\u001b[0m             \u001b[0;32mif\u001b[0m \u001b[0mis_integer\u001b[0m\u001b[0;34m(\u001b[0m\u001b[0mindexer\u001b[0m\u001b[0;34m)\u001b[0m\u001b[0;34m:\u001b[0m\u001b[0;34m\u001b[0m\u001b[0;34m\u001b[0m\u001b[0m\n\u001b[1;32m   2908\u001b[0m                 \u001b[0mindexer\u001b[0m \u001b[0;34m=\u001b[0m \u001b[0;34m[\u001b[0m\u001b[0mindexer\u001b[0m\u001b[0;34m]\u001b[0m\u001b[0;34m\u001b[0m\u001b[0;34m\u001b[0m\u001b[0m\n",
            "\u001b[0;32m/usr/local/lib/python3.6/dist-packages/pandas/core/indexes/base.py\u001b[0m in \u001b[0;36mget_loc\u001b[0;34m(self, key, method, tolerance)\u001b[0m\n\u001b[1;32m   2898\u001b[0m                 \u001b[0;32mreturn\u001b[0m \u001b[0mself\u001b[0m\u001b[0;34m.\u001b[0m\u001b[0m_engine\u001b[0m\u001b[0;34m.\u001b[0m\u001b[0mget_loc\u001b[0m\u001b[0;34m(\u001b[0m\u001b[0mcasted_key\u001b[0m\u001b[0;34m)\u001b[0m\u001b[0;34m\u001b[0m\u001b[0;34m\u001b[0m\u001b[0m\n\u001b[1;32m   2899\u001b[0m             \u001b[0;32mexcept\u001b[0m \u001b[0mKeyError\u001b[0m \u001b[0;32mas\u001b[0m \u001b[0merr\u001b[0m\u001b[0;34m:\u001b[0m\u001b[0;34m\u001b[0m\u001b[0;34m\u001b[0m\u001b[0m\n\u001b[0;32m-> 2900\u001b[0;31m                 \u001b[0;32mraise\u001b[0m \u001b[0mKeyError\u001b[0m\u001b[0;34m(\u001b[0m\u001b[0mkey\u001b[0m\u001b[0;34m)\u001b[0m \u001b[0;32mfrom\u001b[0m \u001b[0merr\u001b[0m\u001b[0;34m\u001b[0m\u001b[0;34m\u001b[0m\u001b[0m\n\u001b[0m\u001b[1;32m   2901\u001b[0m \u001b[0;34m\u001b[0m\u001b[0m\n\u001b[1;32m   2902\u001b[0m         \u001b[0;32mif\u001b[0m \u001b[0mtolerance\u001b[0m \u001b[0;32mis\u001b[0m \u001b[0;32mnot\u001b[0m \u001b[0;32mNone\u001b[0m\u001b[0;34m:\u001b[0m\u001b[0;34m\u001b[0m\u001b[0;34m\u001b[0m\u001b[0m\n",
            "\u001b[0;31mKeyError\u001b[0m: 'Sex'"
          ]
        }
      ]
    },
    {
      "cell_type": "markdown",
      "metadata": {
        "id": "HEpteIez7xgN"
      },
      "source": [
        "Drop Sex, Embarked, Name, Ticket columns from the dataset"
      ]
    },
    {
      "cell_type": "code",
      "metadata": {
        "id": "0t8QlTh0oAgZ",
        "outputId": "784688ec-5456-49bd-92d9-59bcbf55686d",
        "colab": {
          "base_uri": "https://localhost:8080/",
          "height": 322
        }
      },
      "source": [
        "train.drop(['Sex','Embarked','Name','Ticket'], axis=1, inplace=True)"
      ],
      "execution_count": 61,
      "outputs": [
        {
          "output_type": "error",
          "ename": "KeyError",
          "evalue": "ignored",
          "traceback": [
            "\u001b[0;31m---------------------------------------------------------------------------\u001b[0m",
            "\u001b[0;31mKeyError\u001b[0m                                  Traceback (most recent call last)",
            "\u001b[0;32m<ipython-input-61-926d501f47cf>\u001b[0m in \u001b[0;36m<module>\u001b[0;34m()\u001b[0m\n\u001b[0;32m----> 1\u001b[0;31m \u001b[0mtrain\u001b[0m\u001b[0;34m.\u001b[0m\u001b[0mdrop\u001b[0m\u001b[0;34m(\u001b[0m\u001b[0;34m[\u001b[0m\u001b[0;34m'Sex'\u001b[0m\u001b[0;34m,\u001b[0m\u001b[0;34m'Embarked'\u001b[0m\u001b[0;34m,\u001b[0m\u001b[0;34m'Name'\u001b[0m\u001b[0;34m,\u001b[0m\u001b[0;34m'Ticket'\u001b[0m\u001b[0;34m]\u001b[0m\u001b[0;34m,\u001b[0m \u001b[0maxis\u001b[0m\u001b[0;34m=\u001b[0m\u001b[0;36m1\u001b[0m\u001b[0;34m,\u001b[0m \u001b[0minplace\u001b[0m\u001b[0;34m=\u001b[0m\u001b[0;32mTrue\u001b[0m\u001b[0;34m)\u001b[0m\u001b[0;34m\u001b[0m\u001b[0;34m\u001b[0m\u001b[0m\n\u001b[0m",
            "\u001b[0;32m/usr/local/lib/python3.6/dist-packages/pandas/core/frame.py\u001b[0m in \u001b[0;36mdrop\u001b[0;34m(self, labels, axis, index, columns, level, inplace, errors)\u001b[0m\n\u001b[1;32m   4172\u001b[0m             \u001b[0mlevel\u001b[0m\u001b[0;34m=\u001b[0m\u001b[0mlevel\u001b[0m\u001b[0;34m,\u001b[0m\u001b[0;34m\u001b[0m\u001b[0;34m\u001b[0m\u001b[0m\n\u001b[1;32m   4173\u001b[0m             \u001b[0minplace\u001b[0m\u001b[0;34m=\u001b[0m\u001b[0minplace\u001b[0m\u001b[0;34m,\u001b[0m\u001b[0;34m\u001b[0m\u001b[0;34m\u001b[0m\u001b[0m\n\u001b[0;32m-> 4174\u001b[0;31m             \u001b[0merrors\u001b[0m\u001b[0;34m=\u001b[0m\u001b[0merrors\u001b[0m\u001b[0;34m,\u001b[0m\u001b[0;34m\u001b[0m\u001b[0;34m\u001b[0m\u001b[0m\n\u001b[0m\u001b[1;32m   4175\u001b[0m         )\n\u001b[1;32m   4176\u001b[0m \u001b[0;34m\u001b[0m\u001b[0m\n",
            "\u001b[0;32m/usr/local/lib/python3.6/dist-packages/pandas/core/generic.py\u001b[0m in \u001b[0;36mdrop\u001b[0;34m(self, labels, axis, index, columns, level, inplace, errors)\u001b[0m\n\u001b[1;32m   3887\u001b[0m         \u001b[0;32mfor\u001b[0m \u001b[0maxis\u001b[0m\u001b[0;34m,\u001b[0m \u001b[0mlabels\u001b[0m \u001b[0;32min\u001b[0m \u001b[0maxes\u001b[0m\u001b[0;34m.\u001b[0m\u001b[0mitems\u001b[0m\u001b[0;34m(\u001b[0m\u001b[0;34m)\u001b[0m\u001b[0;34m:\u001b[0m\u001b[0;34m\u001b[0m\u001b[0;34m\u001b[0m\u001b[0m\n\u001b[1;32m   3888\u001b[0m             \u001b[0;32mif\u001b[0m \u001b[0mlabels\u001b[0m \u001b[0;32mis\u001b[0m \u001b[0;32mnot\u001b[0m \u001b[0;32mNone\u001b[0m\u001b[0;34m:\u001b[0m\u001b[0;34m\u001b[0m\u001b[0;34m\u001b[0m\u001b[0m\n\u001b[0;32m-> 3889\u001b[0;31m                 \u001b[0mobj\u001b[0m \u001b[0;34m=\u001b[0m \u001b[0mobj\u001b[0m\u001b[0;34m.\u001b[0m\u001b[0m_drop_axis\u001b[0m\u001b[0;34m(\u001b[0m\u001b[0mlabels\u001b[0m\u001b[0;34m,\u001b[0m \u001b[0maxis\u001b[0m\u001b[0;34m,\u001b[0m \u001b[0mlevel\u001b[0m\u001b[0;34m=\u001b[0m\u001b[0mlevel\u001b[0m\u001b[0;34m,\u001b[0m \u001b[0merrors\u001b[0m\u001b[0;34m=\u001b[0m\u001b[0merrors\u001b[0m\u001b[0;34m)\u001b[0m\u001b[0;34m\u001b[0m\u001b[0;34m\u001b[0m\u001b[0m\n\u001b[0m\u001b[1;32m   3890\u001b[0m \u001b[0;34m\u001b[0m\u001b[0m\n\u001b[1;32m   3891\u001b[0m         \u001b[0;32mif\u001b[0m \u001b[0minplace\u001b[0m\u001b[0;34m:\u001b[0m\u001b[0;34m\u001b[0m\u001b[0;34m\u001b[0m\u001b[0m\n",
            "\u001b[0;32m/usr/local/lib/python3.6/dist-packages/pandas/core/generic.py\u001b[0m in \u001b[0;36m_drop_axis\u001b[0;34m(self, labels, axis, level, errors)\u001b[0m\n\u001b[1;32m   3921\u001b[0m                 \u001b[0mnew_axis\u001b[0m \u001b[0;34m=\u001b[0m \u001b[0maxis\u001b[0m\u001b[0;34m.\u001b[0m\u001b[0mdrop\u001b[0m\u001b[0;34m(\u001b[0m\u001b[0mlabels\u001b[0m\u001b[0;34m,\u001b[0m \u001b[0mlevel\u001b[0m\u001b[0;34m=\u001b[0m\u001b[0mlevel\u001b[0m\u001b[0;34m,\u001b[0m \u001b[0merrors\u001b[0m\u001b[0;34m=\u001b[0m\u001b[0merrors\u001b[0m\u001b[0;34m)\u001b[0m\u001b[0;34m\u001b[0m\u001b[0;34m\u001b[0m\u001b[0m\n\u001b[1;32m   3922\u001b[0m             \u001b[0;32melse\u001b[0m\u001b[0;34m:\u001b[0m\u001b[0;34m\u001b[0m\u001b[0;34m\u001b[0m\u001b[0m\n\u001b[0;32m-> 3923\u001b[0;31m                 \u001b[0mnew_axis\u001b[0m \u001b[0;34m=\u001b[0m \u001b[0maxis\u001b[0m\u001b[0;34m.\u001b[0m\u001b[0mdrop\u001b[0m\u001b[0;34m(\u001b[0m\u001b[0mlabels\u001b[0m\u001b[0;34m,\u001b[0m \u001b[0merrors\u001b[0m\u001b[0;34m=\u001b[0m\u001b[0merrors\u001b[0m\u001b[0;34m)\u001b[0m\u001b[0;34m\u001b[0m\u001b[0;34m\u001b[0m\u001b[0m\n\u001b[0m\u001b[1;32m   3924\u001b[0m             \u001b[0mresult\u001b[0m \u001b[0;34m=\u001b[0m \u001b[0mself\u001b[0m\u001b[0;34m.\u001b[0m\u001b[0mreindex\u001b[0m\u001b[0;34m(\u001b[0m\u001b[0;34m**\u001b[0m\u001b[0;34m{\u001b[0m\u001b[0maxis_name\u001b[0m\u001b[0;34m:\u001b[0m \u001b[0mnew_axis\u001b[0m\u001b[0;34m}\u001b[0m\u001b[0;34m)\u001b[0m\u001b[0;34m\u001b[0m\u001b[0;34m\u001b[0m\u001b[0m\n\u001b[1;32m   3925\u001b[0m \u001b[0;34m\u001b[0m\u001b[0m\n",
            "\u001b[0;32m/usr/local/lib/python3.6/dist-packages/pandas/core/indexes/base.py\u001b[0m in \u001b[0;36mdrop\u001b[0;34m(self, labels, errors)\u001b[0m\n\u001b[1;32m   5285\u001b[0m         \u001b[0;32mif\u001b[0m \u001b[0mmask\u001b[0m\u001b[0;34m.\u001b[0m\u001b[0many\u001b[0m\u001b[0;34m(\u001b[0m\u001b[0;34m)\u001b[0m\u001b[0;34m:\u001b[0m\u001b[0;34m\u001b[0m\u001b[0;34m\u001b[0m\u001b[0m\n\u001b[1;32m   5286\u001b[0m             \u001b[0;32mif\u001b[0m \u001b[0merrors\u001b[0m \u001b[0;34m!=\u001b[0m \u001b[0;34m\"ignore\"\u001b[0m\u001b[0;34m:\u001b[0m\u001b[0;34m\u001b[0m\u001b[0;34m\u001b[0m\u001b[0m\n\u001b[0;32m-> 5287\u001b[0;31m                 \u001b[0;32mraise\u001b[0m \u001b[0mKeyError\u001b[0m\u001b[0;34m(\u001b[0m\u001b[0;34mf\"{labels[mask]} not found in axis\"\u001b[0m\u001b[0;34m)\u001b[0m\u001b[0;34m\u001b[0m\u001b[0;34m\u001b[0m\u001b[0m\n\u001b[0m\u001b[1;32m   5288\u001b[0m             \u001b[0mindexer\u001b[0m \u001b[0;34m=\u001b[0m \u001b[0mindexer\u001b[0m\u001b[0;34m[\u001b[0m\u001b[0;34m~\u001b[0m\u001b[0mmask\u001b[0m\u001b[0;34m]\u001b[0m\u001b[0;34m\u001b[0m\u001b[0;34m\u001b[0m\u001b[0m\n\u001b[1;32m   5289\u001b[0m         \u001b[0;32mreturn\u001b[0m \u001b[0mself\u001b[0m\u001b[0;34m.\u001b[0m\u001b[0mdelete\u001b[0m\u001b[0;34m(\u001b[0m\u001b[0mindexer\u001b[0m\u001b[0;34m)\u001b[0m\u001b[0;34m\u001b[0m\u001b[0;34m\u001b[0m\u001b[0m\n",
            "\u001b[0;31mKeyError\u001b[0m: \"['Sex' 'Embarked' 'Name' 'Ticket'] not found in axis\""
          ]
        }
      ]
    },
    {
      "cell_type": "markdown",
      "metadata": {
        "id": "Z5Rqfe9I79XI"
      },
      "source": [
        "Review the top and bottom part of the dataset"
      ]
    },
    {
      "cell_type": "code",
      "metadata": {
        "id": "il2zymEwobeS",
        "outputId": "8934734d-647e-47cb-946c-1c5ce23acf97",
        "colab": {
          "base_uri": "https://localhost:8080/",
          "height": 198
        }
      },
      "source": [
        "train.head()"
      ],
      "execution_count": 62,
      "outputs": [
        {
          "output_type": "execute_result",
          "data": {
            "text/html": [
              "<div>\n",
              "<style scoped>\n",
              "    .dataframe tbody tr th:only-of-type {\n",
              "        vertical-align: middle;\n",
              "    }\n",
              "\n",
              "    .dataframe tbody tr th {\n",
              "        vertical-align: top;\n",
              "    }\n",
              "\n",
              "    .dataframe thead th {\n",
              "        text-align: right;\n",
              "    }\n",
              "</style>\n",
              "<table border=\"1\" class=\"dataframe\">\n",
              "  <thead>\n",
              "    <tr style=\"text-align: right;\">\n",
              "      <th></th>\n",
              "      <th>PassengerId</th>\n",
              "      <th>Survived</th>\n",
              "      <th>Pclass</th>\n",
              "      <th>Age</th>\n",
              "      <th>SibSp</th>\n",
              "      <th>Parch</th>\n",
              "      <th>Fare</th>\n",
              "      <th>male</th>\n",
              "      <th>Q</th>\n",
              "      <th>S</th>\n",
              "    </tr>\n",
              "  </thead>\n",
              "  <tbody>\n",
              "    <tr>\n",
              "      <th>0</th>\n",
              "      <td>1</td>\n",
              "      <td>0</td>\n",
              "      <td>3</td>\n",
              "      <td>22.0</td>\n",
              "      <td>1</td>\n",
              "      <td>0</td>\n",
              "      <td>7.2500</td>\n",
              "      <td>1</td>\n",
              "      <td>0</td>\n",
              "      <td>1</td>\n",
              "    </tr>\n",
              "    <tr>\n",
              "      <th>1</th>\n",
              "      <td>2</td>\n",
              "      <td>1</td>\n",
              "      <td>1</td>\n",
              "      <td>38.0</td>\n",
              "      <td>1</td>\n",
              "      <td>0</td>\n",
              "      <td>71.2833</td>\n",
              "      <td>0</td>\n",
              "      <td>0</td>\n",
              "      <td>0</td>\n",
              "    </tr>\n",
              "    <tr>\n",
              "      <th>2</th>\n",
              "      <td>3</td>\n",
              "      <td>1</td>\n",
              "      <td>3</td>\n",
              "      <td>26.0</td>\n",
              "      <td>0</td>\n",
              "      <td>0</td>\n",
              "      <td>7.9250</td>\n",
              "      <td>0</td>\n",
              "      <td>0</td>\n",
              "      <td>1</td>\n",
              "    </tr>\n",
              "    <tr>\n",
              "      <th>3</th>\n",
              "      <td>4</td>\n",
              "      <td>1</td>\n",
              "      <td>1</td>\n",
              "      <td>35.0</td>\n",
              "      <td>1</td>\n",
              "      <td>0</td>\n",
              "      <td>53.1000</td>\n",
              "      <td>0</td>\n",
              "      <td>0</td>\n",
              "      <td>1</td>\n",
              "    </tr>\n",
              "    <tr>\n",
              "      <th>4</th>\n",
              "      <td>5</td>\n",
              "      <td>0</td>\n",
              "      <td>3</td>\n",
              "      <td>35.0</td>\n",
              "      <td>0</td>\n",
              "      <td>0</td>\n",
              "      <td>8.0500</td>\n",
              "      <td>1</td>\n",
              "      <td>0</td>\n",
              "      <td>1</td>\n",
              "    </tr>\n",
              "  </tbody>\n",
              "</table>\n",
              "</div>"
            ],
            "text/plain": [
              "   PassengerId  Survived  Pclass   Age  SibSp  Parch     Fare  male  Q  S\n",
              "0            1         0       3  22.0      1      0   7.2500     1  0  1\n",
              "1            2         1       1  38.0      1      0  71.2833     0  0  0\n",
              "2            3         1       3  26.0      0      0   7.9250     0  0  1\n",
              "3            4         1       1  35.0      1      0  53.1000     0  0  1\n",
              "4            5         0       3  35.0      0      0   8.0500     1  0  1"
            ]
          },
          "metadata": {
            "tags": []
          },
          "execution_count": 62
        }
      ]
    },
    {
      "cell_type": "markdown",
      "metadata": {
        "id": "EXIGzmQA8bR_"
      },
      "source": [
        "using pandas concatenate Train, Sex and Embark in your train dataset"
      ]
    },
    {
      "cell_type": "code",
      "metadata": {
        "id": "SIfNpOXY8cMo"
      },
      "source": [
        "train = pd.concat([train, sex, embark], axis=1)"
      ],
      "execution_count": 63,
      "outputs": []
    },
    {
      "cell_type": "markdown",
      "metadata": {
        "id": "AKhcmbL6o7xI"
      },
      "source": [
        "# 3. Model building"
      ]
    },
    {
      "cell_type": "markdown",
      "metadata": {
        "id": "-lR8On4y8nWB"
      },
      "source": [
        "Splitting the train dataset into Train and Test"
      ]
    },
    {
      "cell_type": "code",
      "metadata": {
        "id": "_1H_NclWo-Xn",
        "outputId": "41dcfb3c-43ba-40d7-d34a-28c324edae8c",
        "colab": {
          "base_uri": "https://localhost:8080/",
          "height": 198
        }
      },
      "source": [
        "train.head()"
      ],
      "execution_count": 52,
      "outputs": [
        {
          "output_type": "execute_result",
          "data": {
            "text/html": [
              "<div>\n",
              "<style scoped>\n",
              "    .dataframe tbody tr th:only-of-type {\n",
              "        vertical-align: middle;\n",
              "    }\n",
              "\n",
              "    .dataframe tbody tr th {\n",
              "        vertical-align: top;\n",
              "    }\n",
              "\n",
              "    .dataframe thead th {\n",
              "        text-align: right;\n",
              "    }\n",
              "</style>\n",
              "<table border=\"1\" class=\"dataframe\">\n",
              "  <thead>\n",
              "    <tr style=\"text-align: right;\">\n",
              "      <th></th>\n",
              "      <th>PassengerId</th>\n",
              "      <th>Survived</th>\n",
              "      <th>Pclass</th>\n",
              "      <th>Age</th>\n",
              "      <th>SibSp</th>\n",
              "      <th>Parch</th>\n",
              "      <th>Fare</th>\n",
              "      <th>male</th>\n",
              "      <th>Q</th>\n",
              "      <th>S</th>\n",
              "    </tr>\n",
              "  </thead>\n",
              "  <tbody>\n",
              "    <tr>\n",
              "      <th>0</th>\n",
              "      <td>1</td>\n",
              "      <td>0</td>\n",
              "      <td>3</td>\n",
              "      <td>22.0</td>\n",
              "      <td>1</td>\n",
              "      <td>0</td>\n",
              "      <td>7.2500</td>\n",
              "      <td>1</td>\n",
              "      <td>0</td>\n",
              "      <td>1</td>\n",
              "    </tr>\n",
              "    <tr>\n",
              "      <th>1</th>\n",
              "      <td>2</td>\n",
              "      <td>1</td>\n",
              "      <td>1</td>\n",
              "      <td>38.0</td>\n",
              "      <td>1</td>\n",
              "      <td>0</td>\n",
              "      <td>71.2833</td>\n",
              "      <td>0</td>\n",
              "      <td>0</td>\n",
              "      <td>0</td>\n",
              "    </tr>\n",
              "    <tr>\n",
              "      <th>2</th>\n",
              "      <td>3</td>\n",
              "      <td>1</td>\n",
              "      <td>3</td>\n",
              "      <td>26.0</td>\n",
              "      <td>0</td>\n",
              "      <td>0</td>\n",
              "      <td>7.9250</td>\n",
              "      <td>0</td>\n",
              "      <td>0</td>\n",
              "      <td>1</td>\n",
              "    </tr>\n",
              "    <tr>\n",
              "      <th>3</th>\n",
              "      <td>4</td>\n",
              "      <td>1</td>\n",
              "      <td>1</td>\n",
              "      <td>35.0</td>\n",
              "      <td>1</td>\n",
              "      <td>0</td>\n",
              "      <td>53.1000</td>\n",
              "      <td>0</td>\n",
              "      <td>0</td>\n",
              "      <td>1</td>\n",
              "    </tr>\n",
              "    <tr>\n",
              "      <th>4</th>\n",
              "      <td>5</td>\n",
              "      <td>0</td>\n",
              "      <td>3</td>\n",
              "      <td>35.0</td>\n",
              "      <td>0</td>\n",
              "      <td>0</td>\n",
              "      <td>8.0500</td>\n",
              "      <td>1</td>\n",
              "      <td>0</td>\n",
              "      <td>1</td>\n",
              "    </tr>\n",
              "  </tbody>\n",
              "</table>\n",
              "</div>"
            ],
            "text/plain": [
              "   PassengerId  Survived  Pclass   Age  SibSp  Parch     Fare  male  Q  S\n",
              "0            1         0       3  22.0      1      0   7.2500     1  0  1\n",
              "1            2         1       1  38.0      1      0  71.2833     0  0  0\n",
              "2            3         1       3  26.0      0      0   7.9250     0  0  1\n",
              "3            4         1       1  35.0      1      0  53.1000     0  0  1\n",
              "4            5         0       3  35.0      0      0   8.0500     1  0  1"
            ]
          },
          "metadata": {
            "tags": []
          },
          "execution_count": 52
        }
      ]
    },
    {
      "cell_type": "code",
      "metadata": {
        "id": "LUM22xpNpHyc"
      },
      "source": [
        " "
      ],
      "execution_count": null,
      "outputs": []
    },
    {
      "cell_type": "markdown",
      "metadata": {
        "id": "r0cWFXh-8st_"
      },
      "source": [
        "Create the Logistic Regression data model"
      ]
    },
    {
      "cell_type": "code",
      "metadata": {
        "id": "F6mLQs7HquIH"
      },
      "source": [
        "from sklearn.model_selection import train_test_split"
      ],
      "execution_count": 64,
      "outputs": []
    },
    {
      "cell_type": "code",
      "metadata": {
        "id": "bUxbrRrFrJiW"
      },
      "source": [
        "x_train, x_test, y_train, y_test = train_test_split(train.drop('Survived', axis=1), train['Survived'],test_size=0.3, random_state=0)"
      ],
      "execution_count": 65,
      "outputs": []
    },
    {
      "cell_type": "code",
      "metadata": {
        "id": "ZF_bAp3qrNZj"
      },
      "source": [
        "from sklearn.linear_model import LogisticRegression"
      ],
      "execution_count": 66,
      "outputs": []
    },
    {
      "cell_type": "code",
      "metadata": {
        "id": "TSHGS1d5GAhm"
      },
      "source": [
        "logmodel = LogisticRegression()"
      ],
      "execution_count": 67,
      "outputs": []
    },
    {
      "cell_type": "code",
      "metadata": {
        "id": "j-Q9sHmaGJkZ",
        "outputId": "ad345d3a-4246-4b9a-c2d6-4bd15abea093",
        "colab": {
          "base_uri": "https://localhost:8080/"
        }
      },
      "source": [
        "logmodel.fit(x_train, y_train)"
      ],
      "execution_count": 68,
      "outputs": [
        {
          "output_type": "stream",
          "text": [
            "/usr/local/lib/python3.6/dist-packages/sklearn/linear_model/_logistic.py:940: ConvergenceWarning: lbfgs failed to converge (status=1):\n",
            "STOP: TOTAL NO. of ITERATIONS REACHED LIMIT.\n",
            "\n",
            "Increase the number of iterations (max_iter) or scale the data as shown in:\n",
            "    https://scikit-learn.org/stable/modules/preprocessing.html\n",
            "Please also refer to the documentation for alternative solver options:\n",
            "    https://scikit-learn.org/stable/modules/linear_model.html#logistic-regression\n",
            "  extra_warning_msg=_LOGISTIC_SOLVER_CONVERGENCE_MSG)\n"
          ],
          "name": "stderr"
        },
        {
          "output_type": "execute_result",
          "data": {
            "text/plain": [
              "LogisticRegression(C=1.0, class_weight=None, dual=False, fit_intercept=True,\n",
              "                   intercept_scaling=1, l1_ratio=None, max_iter=100,\n",
              "                   multi_class='auto', n_jobs=None, penalty='l2',\n",
              "                   random_state=None, solver='lbfgs', tol=0.0001, verbose=0,\n",
              "                   warm_start=False)"
            ]
          },
          "metadata": {
            "tags": []
          },
          "execution_count": 68
        }
      ]
    },
    {
      "cell_type": "markdown",
      "metadata": {
        "id": "_h203cUM9lsr"
      },
      "source": [
        "# Evaluate the Training Model"
      ]
    },
    {
      "cell_type": "code",
      "metadata": {
        "id": "qZ3oABj_rz-P"
      },
      "source": [
        "y_test_predict = logmodel.predict(x_test)"
      ],
      "execution_count": 69,
      "outputs": []
    },
    {
      "cell_type": "markdown",
      "metadata": {
        "id": "y1z0c7MKv1BO"
      },
      "source": [
        "## Classification report"
      ]
    },
    {
      "cell_type": "code",
      "metadata": {
        "id": "c-S8zA7IrRmV"
      },
      "source": [
        "from sklearn.metrics import classification_report"
      ],
      "execution_count": 70,
      "outputs": []
    },
    {
      "cell_type": "markdown",
      "metadata": {
        "id": "m9ZkMtXi9tNq"
      },
      "source": [
        "print the Classification Report"
      ]
    },
    {
      "cell_type": "code",
      "metadata": {
        "id": "eXghDQ0trtFc",
        "outputId": "5d7f5594-eea0-4c6c-bf9d-1c7b7335fe3e",
        "colab": {
          "base_uri": "https://localhost:8080/"
        }
      },
      "source": [
        "print(classification_report(y_test,y_test_predict))"
      ],
      "execution_count": 71,
      "outputs": [
        {
          "output_type": "stream",
          "text": [
            "              precision    recall  f1-score   support\n",
            "\n",
            "           0       0.78      0.84      0.81       125\n",
            "           1       0.75      0.67      0.71        89\n",
            "\n",
            "    accuracy                           0.77       214\n",
            "   macro avg       0.77      0.76      0.76       214\n",
            "weighted avg       0.77      0.77      0.77       214\n",
            "\n"
          ],
          "name": "stdout"
        }
      ]
    },
    {
      "cell_type": "markdown",
      "metadata": {
        "id": "Svbfjx98v76Z"
      },
      "source": [
        "## Confusion Matrix"
      ]
    },
    {
      "cell_type": "markdown",
      "metadata": {
        "id": "CLJ-A_4B_JLT"
      },
      "source": [
        "Print a confusion Matrix for y_test and y_predict"
      ]
    },
    {
      "cell_type": "code",
      "metadata": {
        "id": "cIf1sg8Er5tL",
        "outputId": "ba277137-b3ad-458f-c2c9-7397bf94b5bb",
        "colab": {
          "base_uri": "https://localhost:8080/"
        }
      },
      "source": [
        "from sklearn.metrics import confusion_matrix\r\n",
        "print(confusion_matrix(y_test,y_test_predict))\r\n"
      ],
      "execution_count": 72,
      "outputs": [
        {
          "output_type": "stream",
          "text": [
            "[[105  20]\n",
            " [ 29  60]]\n"
          ],
          "name": "stdout"
        }
      ]
    },
    {
      "cell_type": "markdown",
      "metadata": {
        "id": "oOkAIEPDVw0d"
      },
      "source": [
        "\r\n",
        "\r\n",
        "*   \r\n",
        "*   \r\n",
        "\r\n"
      ]
    },
    {
      "cell_type": "markdown",
      "metadata": {
        "id": "pTTYymtq-twB"
      },
      "source": [
        "Plot heatmap for Confusion Matrix with y_test and y_test_predict"
      ]
    },
    {
      "cell_type": "code",
      "metadata": {
        "id": "NgBPQyLkvRs4",
        "outputId": "58d06e7b-23a4-4028-c7b4-658c8aede381",
        "colab": {
          "base_uri": "https://localhost:8080/",
          "height": 526
        }
      },
      "source": [
        "plt.figure(figsize=(9,9))\r\n",
        "sns.heatmap(confusion_matrix(y_test, y_test_predict), annot=True, fmt=\".3f\", linewidths=.5, square=True, cmap='Blues_r');\r\n",
        "plt.ylabel('Actual label');\r\n",
        "plt.xlabel('Predicted label');\r\n",
        "all_sample_title = 'Accuracy Score: {0}'.format(logmodel.score(x_test,y_test))\r\n",
        "plt.title(all_sample_title, size=15);\r\n",
        "\r\n"
      ],
      "execution_count": 74,
      "outputs": [
        {
          "output_type": "display_data",
          "data": {
            "image/png": "[encoded data removed]",
            "text/plain": [
              "<Figure size 648x648 with 2 Axes>"
            ]
          },
          "metadata": {
            "tags": []
          }
        }
      ]
    },
    {
      "cell_type": "code",
      "metadata": {
        "id": "jP5UFl8nUJoK"
      },
      "source": [
        ""
      ],
      "execution_count": null,
      "outputs": []
    },
    {
      "cell_type": "markdown",
      "metadata": {
        "id": "CjzGxo5Gwvqu"
      },
      "source": [
        "#Observations\r\n",
        "1.Accuracy- 0.77\r\n",
        "\r\n",
        "2.Error Rate- (23+26)/214 = 0.23\r\n",
        "\r\n",
        "3.Sensitivity/Recall- Predict yes as yes 60/83 = 0.72\r\n",
        "\r\n",
        "4.False Positive - say yes to no 23/128 = 0.18\r\n",
        "\r\n",
        "\r\n",
        "5.Specificity - predict no as no 105/128 = 0.82\r\n",
        "\r\n",
        "\r\n",
        "\r\n",
        "\r\n",
        "\r\n",
        "\r\n",
        "\r\n",
        "\r\n"
      ]
    },
    {
      "cell_type": "markdown",
      "metadata": {
        "id": "jMeAhByf0SLr"
      },
      "source": [
        "#ROC Curve\r\n",
        "*  Shows the tradeoff between Sensitivity and Specificity\r\n",
        "* Sensitivity:TPR,  Specificity: 1-FPR\r\n",
        "\r\n",
        "\r\n",
        "![ROC.jpg](data:image/jpeg;base64,/9j/4AAQSkZJRgABAQEAYABgAAD/4SvCRXhpZgAATU0AKgAAAAgABgALAAIAAAAmAAAIYgESAAMAAAABAAEAAAExAAIAAAAmAAAIiAEyAAIAAAAUAAAIrodpAAQAAAABAAAIwuocAAcAAAgMAAAAVgAAEUYc6gAAAAgAAAAAAAAAAAAAAAAAAAAAAAAAAAAAAAAAAAAAAAAAAAAAAAAAAAAAAAAAAAAAAAAAAAAAAAAAAAAAAAAAAAAAAAAAAAAAAAAAAAAAAAAAAAAAAAAAAAAAAAAAAAAAAAAAAAAAAAAAAAAAAAAAAAAAAAAAAAAAAAAAAAAAAAAAAAAAAAAAAAAAAAAAAAAAAAAAAAAAAAAAAAAAAAAAAAAAAAAAAAAAAAAAAAAAAAAAAAAAAAAAAAAAAAAAAAAAAAAAAAAAAAAAAAAAAAAAAAAAAAAAAAAAAAAAAAAAAAAAAAAAAAAAAAAAAAAAAAAAAAAAAAAAAAAAAAAAAAAAAAAAAAAAAAAAAAAAAAAAAAAAAAAAAAAAAAAAAAAAAAAAAAAAAAAAAAAAAAAAAAAAAAAAAAAAAAAAAAAAAAAAAAAAAAAAAAAAAAAAAAAAAAAAAAAAAAAAAAAAAAAAAAAAAAAAAAAAAAAAAAAAAAAAAAAAAAAAAAAAAAAAAAAAAAAAAAAAAAAAAAAAAAAAAAAAAAAAAAAAAAAAAAAAAAAAAAAAAAAAAAAAAAAAAAAAAAAAAAAAAAAAAAAAAAAAAAAAAAAAAAAAAAAAAAAAAAAAAAAAAAAAAAAAAAAAAAAAAAAAAAAAAAAAAAAAAAAAAAAAAAAAAAAAAAAAAAAAAAAAAAAAAAAAAAAAAAAAAAAAAAAAAAAAAAAAAAAAAAAAAAAAAAAAAAAAAAAAAAAAAAAAAAAAAAAAAAAAAAAAAAAAAAAAAAAAAAAAAAAAAAAAAAAAAAAAAAAAAAAAAAAAAAAAAAAAAAAAAAAAAAAAAAAAAAAAAAAAAAAAAAAAAAAAAAAAAAAAAAAAAAAAAAAAAAAAAAAAAAAAAAAAAAAAAAAAAAAAAAAAAAAAAAAAAAAAAAAAAAAAAAAAAAAAAAAAAAAAAAAAAAAAAAAAAAAAAAAAAAAAAAAAAAAAAAAAAAAAAAAAAAAAAAAAAAAAAAAAAAAAAAAAAAAAAAAAAAAAAAAAAAAAAAAAAAAAAAAAAAAAAAAAAAAAAAAAAAAAAAAAAAAAAAAAAAAAAAAAAAAAAAAAAAAAAAAAAAAAAAAAAAAAAAAAAAAAAAAAAAAAAAAAAAAAAAAAAAAAAAAAAAAAAAAAAAAAAAAAAAAAAAAAAAAAAAAAAAAAAAAAAAAAAAAAAAAAAAAAAAAAAAAAAAAAAAAAAAAAAAAAAAAAAAAAAAAAAAAAAAAAAAAAAAAAAAAAAAAAAAAAAAAAAAAAAAAAAAAAAAAAAAAAAAAAAAAAAAAAAAAAAAAAAAAAAAAAAAAAAAAAAAAAAAAAAAAAAAAAAAAAAAAAAAAAAAAAAAAAAAAAAAAAAAAAAAAAAAAAAAAAAAAAAAAAAAAAAAAAAAAAAAAAAAAAAAAAAAAAAAAAAAAAAAAAAAAAAAAAAAAAAAAAAAAAAAAAAAAAAAAAAAAAAAAAAAAAAAAAAAAAAAAAAAAAAAAAAAAAAAAAAAAAAAAAAAAAAAAAAAAAAAAAAAAAAAAAAAAAAAAAAAAAAAAAAAAAAAAAAAAAAAAAAAAAAAAAAAAAAAAAAAAAAAAAAAAAAAAAAAAAAAAAAAAAAAAAAAAAAAAAAAAAAAAAAAAAAAAAAAAAAAAAAAAAAAAAAAAAAAAAAAAAAAAAAAAAAAAAAAAAAAAAAAAAAAAAAAAAAAAAAAAAAAAAAAAAAAAAAAAAAAAAAAAAAAAAAAAAAAAAAAAAAAAAAAAAAAAAAAAAAAAAAAAAAAAAAAAAAAAAAAAAAAAAAAAAAAAAAAAAAAAAAAAAAAAAAAAAAAAAAAAAAAAAAAAAAAAAAAAAAAAAAAAAAAAAAAAAAAAAAAAAAAAAAAAAAAAAAAAAAAAAAAAAAAAAAAAAAAAAAAAAAAAAAAAAAAAAAAAAAAAAAAAAAAAAAAAAAAAAAAAAAAAAAAAAAAAAAAAAAAAAAAAAAAAAAAAAAAAAAAAAAAAAAAAAAAAAAAAAAAAAAAAAAAAAAAAAAAAAAAAAAAAAAAAAAAAAAAAAAAAAAAAAAAAAAAAAAAAAAAAAAAAAAAAAAAAAAAAAAAAAAAAAAAAAAAAAAAAAAAAAAAAAAAAAAAAAAAAAAAAAAAAAAAAAAAAAAAAAAAAAAAAAAAAAAAAAAAAAAAAAAAAAAAAAAAAAAAAAAAAAAAAAAAAAAAAAAAAAAAAAAAAAAAAAAAAAAAAAAAAAAAAAAAAAAAAAAAAAAAAAAAAAAAAAAAAAAAAAAAAAAAAAAAAAAAAAAAAAAAAAAAAAAAAAAAAAAAAAAAAAAAAAAAAAAAAAAAAAAAAAAAAAAAAAAAAAAAAAAAAAAAAAAAAAAAAAAAAAAAAAAAAAAAAAAAAAAAAAAAAAAAAAAAAAAAAAAAAAAAAAAAAAAAAAAAAAAAAAAAAAAAAAAAAAAAAAAAAAAAAAAAAAAAAAAAAAAAAAAAAAAAAAAAAAAAAAAAAAAAAAAAAAAAAAAAAAAAAAAAAAAAAAAAAAAAAAAAAAAAAAAAAAAAAAAAAAAAAAAAAAAAAAAAAAAAAAAAAAAAAAAAAAAAAAAAAAAAAAAAAAAAAAAAAAAAAAAAAAAAAAAAAAAAAAAAAAAAAAAAAAAAAAAAAAAAAAAAAAAAAAAAAAAAAAAAAAAAAAAAAAAAAAAAAAAAAAAAAAAAAAAAAAAAAAAAAAAAAAAAAAAAAAAAAAAAAAAAAAAAAAAAAAAAAAAAAAAAAAAFdpbmRvd3MgUGhvdG8gRWRpdG9yIDEwLjAuMTAwMTEuMTYzODQAV2luZG93cyBQaG90byBFZGl0b3IgMTAuMC4xMDAxMS4xNjM4NAAyMDE4OjA3OjA1IDE1OjEwOjA4AAAGkAMAAgAAABQAABEckAQAAgAAABQAABEwkpEAAgAAAAMzNgAAkpIAAgAAAAMzNgAAoAEAAwAAAAEAAQAA6hwABwAACAwAAAkQAAAAABzqAAAACAAAAAAAAAAAAAAAAAAAAAAAAAAAAAAAAAAAAAAAAAAAAAAAAAAAAAAAAAAAAAAAAAAAAAAAAAAAAAAAAAAAAAAAAAAAAAAAAAAAAAAAAAAAAAAAAAAAAAAAAAAAAAAAAAAAAAAAAAAAAAAAAAAAAAAAAAAAAAAAAAAAAAAAAAAAAAAAAAAAAAAAAAAAAAAAAAAAAAAAAAAAAAAAAAAAAAAAAAAAAAAAAAAAAAAAAAAAAAAAAAAAAAAAAAAAAAAAAAAAAAAAAAAAAAAAAAAAAAAAAAAAAAAAAAAAAAAAAAAAAAAAAAAAAAAAAAAAAAAAAAAAAAAAAAAAAAAAAAAAAAAAAAAAAAAAAAAAAAAAAAAAAAAAAAAAAAAAAAAAAAAAAAAAAAAAAAAAAAAAAAAAAAAAAAAAAAAAAAAAAAAAAAAAAAAAAAAAAAAAAAAAAAAAAAAAAAAAAAAAAAAAAAAAAAAAAAAAAAAAAAAAAAAAAAAAAAAAAAAAAAAAAAAAAAAAAAAAAAAAAAAAAAAAAAAAAAAAAAAAAAAAAAAAAAAAAAAAAAAAAAAAAAAAAAAAAAAAAAAAAAAAAAAAAAAAAAAAAAAAAAAAAAAAAAAAAAAAAAAAAAAAAAAAAAAAAAAAAAAAAAAAAAAAAAAAAAAAAAAAAAAAAAAAAAAAAAAAAAAAAAAAAAAAAAAAAAAAAAAAAAAAAAAAAAAAAAAAAAAAAAAAAAAAAAAAAAAAAAAAAAAAAAAAAAAAAAAAAAAAAAAAAAAAAAAAAAAAAAAAAAAAAAAAAAAAAAAAAAAAAAAAAAAAAAAAAAAAAAAAAAAAAAAAAAAAAAAAAAAAAAAAAAAAAAAAAAAAAAAAAAAAAAAAAAAAAAAAAAAAAAAAAAAAAAAAAAAAAAAAAAAAAAAAAAAAAAAAAAAAAAAAAAAAAAAAAAAAAAAAAAAAAAAAAAAAAAAAAAAAAAAAAAAAAAAAAAAAAAAAAAAAAAAAAAAAAAAAAAAAAAAAAAAAAAAAAAAAAAAAAAAAAAAAAAAAAAAAAAAAAAAAAAAAAAAAAAAAAAAAAAAAAAAAAAAAAAAAAAAAAAAAAAAAAAAAAAAAAAAAAAAAAAAAAAAAAAAAAAAAAAAAAAAAAAAAAAAAAAAAAAAAAAAAAAAAAAAAAAAAAAAAAAAAAAAAAAAAAAAAAAAAAAAAAAAAAAAAAAAAAAAAAAAAAAAAAAAAAAAAAAAAAAAAAAAAAAAAAAAAAAAAAAAAAAAAAAAAAAAAAAAAAAAAAAAAAAAAAAAAAAAAAAAAAAAAAAAAAAAAAAAAAAAAAAAAAAAAAAAAAAAAAAAAAAAAAAAAAAAAAAAAAAAAAAAAAAAAAAAAAAAAAAAAAAAAAAAAAAAAAAAAAAAAAAAAAAAAAAAAAAAAAAAAAAAAAAAAAAAAAAAAAAAAAAAAAAAAAAAAAAAAAAAAAAAAAAAAAAAAAAAAAAAAAAAAAAAAAAAAAAAAAAAAAAAAAAAAAAAAAAAAAAAAAAAAAAAAAAAAAAAAAAAAAAAAAAAAAAAAAAAAAAAAAAAAAAAAAAAAAAAAAAAAAAAAAAAAAAAAAAAAAAAAAAAAAAAAAAAAAAAAAAAAAAAAAAAAAAAAAAAAAAAAAAAAAAAAAAAAAAAAAAAAAAAAAAAAAAAAAAAAAAAAAAAAAAAAAAAAAAAAAAAAAAAAAAAAAAAAAAAAAAAAAAAAAAAAAAAAAAAAAAAAAAAAAAAAAAAAAAAAAAAAAAAAAAAAAAAAAAAAAAAAAAAAAAAAAAAAAAAAAAAAAAAAAAAAAAAAAAAAAAAAAAAAAAAAAAAAAAAAAAAAAAAAAAAAAAAAAAAAAAAAAAAAAAAAAAAAAAAAAAAAAAAAAAAAAAAAAAAAAAAAAAAAAAAAAAAAAAAAAAAAAAAAAAAAAAAAAAAAAAAAAAAAAAAAAAAAAAAAAAAAAAAAAAAAAAAAAAAAAAAAAAAAAAAAAAAAAAAAAAAAAAAAAAAAAAAAAAAAAAAAAAAAAAAAAAAAAAAAAAAAAAAAAAAAAAAAAAAAAAAAAAAAAAAAAAAAAAAAAAAAAAAAAAAAAAAAAAAAAAAAAAAAAAAAAAAAAAAAAAAAAAAAAAAAAAAAAAAAAAAAAAAAAAAAAAAAAAAAAAAAAAAAAAAAAAAAAAAAAAAAAAAAAAAAAAAAAAAAAAAAAAAAAAAAAAAAAAAAAAAAAAAAAAAAAAAAAAAAAAAAAAAAAAAAAAAAAAAAAAAAAAAAAAAAAAAAAAAAAAAAAAAAAAAAAAAAAAAAAAAAAAAAAAAAAAAAAAAAAAAAAAAAAAAAAAAAAAAAAAAAAAAAAAAAAAAAAAAAAAAAAAAAAAAAAAAAAAAAAAAAAAAAAAAAAAAAAAAAAAAAAAAAAAAAAAAAAAAAAAAAAAAAAAAAAAAAAAAAAAAAAAAAAAAAAAAAAAAAAAAAAAAAAAAAAAAAAAAAAAAAAAAAAAAAAAAAAAAAAAAAAAAAAAAAAAAAAAAAAAAAAAAAAAAAAAAAAAAAAAAAAAAAAAAAAAAAAAAAAAAAAAAAAAAAAAAAAAAAAAAAAAAAAAAAAAAAAAAAAAAAAAAAAAAAAAAAAAAAAAAAAAAAAAAAAAAAAAAAAAAAAAAAAAAAAAAAAAAAAAAAAAAAAAAAAAAAAAAAAAAAAAAAAAAAAAAAAAAAAAAAAAAAAAAAAAAAAAAAAAAAAAAAAAAAAAAAAAAAAAAAAAAAAAAAAAAAMjAxODowNzowNSAxNDo1OToyOQAyMDE4OjA3OjA1IDE0OjU5OjI5AAAAAAYBAwADAAAAAQAGAAABGgAFAAAAAQAAEZQBGwAFAAAAAQAAEZwBKAADAAAAAQACAAACAQAEAAAAAQAAEaQCAgAEAAAAAQAAGhYAAAAAAAAAYAAAAAEAAABgAAAAAf/Y/9sAQwAIBgYHBgUIBwcHCQkICgwUDQwLCwwZEhMPFB0aHx4dGhwcICQuJyAiLCMcHCg3KSwwMTQ0NB8nOT04MjwuMzQy/9sAQwEJCQkMCwwYDQ0YMiEcITIyMjIyMjIyMjIyMjIyMjIyMjIyMjIyMjIyMjIyMjIyMjIyMjIyMjIyMjIyMjIyMjIy/8AAEQgA0gEAAwEhAAIRAQMRAf/EAB8AAAEFAQEBAQEBAAAAAAAAAAABAgMEBQYHCAkKC//EALUQAAIBAwMCBAMFBQQEAAABfQECAwAEEQUSITFBBhNRYQcicRQygZGhCCNCscEVUtHwJDNicoIJChYXGBkaJSYnKCkqNDU2Nzg5OkNERUZHSElKU1RVVldYWVpjZGVmZ2hpanN0dXZ3eHl6g4SFhoeIiYqSk5SVlpeYmZqio6Slpqeoqaqys7S1tre4ubrCw8TFxsfIycrS09TV1tfY2drh4uPk5ebn6Onq8fLz9PX29/j5+v/EAB8BAAMBAQEBAQEBAQEAAAAAAAABAgMEBQYHCAkKC//EALURAAIBAgQEAwQHBQQEAAECdwABAgMRBAUhMQYSQVEHYXETIjKBCBRCkaGxwQkjM1LwFWJy0QoWJDThJfEXGBkaJicoKSo1Njc4OTpDREVGR0hJSlNUVVZXWFlaY2RlZmdoaWpzdHV2d3h5eoKDhIWGh4iJipKTlJWWl5iZmqKjpKWmp6ipqrKztLW2t7i5usLDxMXGx8jJytLT1NXW19jZ2uLj5OXm5+jp6vLz9PX29/j5+v/aAAwDAQACEQMRAD8A8nooAKKAEzRmgBaKAFooAKKACigAooAKKACigAooAKKAEo5oAM0UAFFABRQAUUAFIelAHRabp3hi6hja91Ge1crBvHmDhi7iTHydMKn03ZOcVPpHgy28T6tc2Gia9b+fHukEMsbnEYIGd4UK3LDp1oAreJfBt74Pngh1a8gLXELyQtCjMrsrAFMkDBwQc4rPNnpok2rrCsm8ru+zOPlC5DfieMfjQAxbayKAnUgG2xkjyG4JPzD/AICOfftQ1tYhSV1MMcSEDyHHK/cH/Av070APW004y7W1cKu9Ru+zOeCMk49jxjvUXkWnlbvt/wA/lB9vkt9/djZn6fNn8KAHvbWAkZV1MMoZwG8hxkBcqcf7R49sULbWBxu1ML/qv+Xd/wCL7/8A3z+vagBHtrJQ+3Ug5CMVHkMNxDYA/Ec57dKkNppwkIGrgqJdu77M/KYzv/PjHWgCNbayKAnUQG2ISvkNwSfmH/ARznvSta2AD7dUDEGTaPs7jdgfJ/31+negBRa2BcA6oAN6DP2d+hHzH/gJ4x37VGYLQIx+35YRlgPJblt2Nv8A3z82fw60ASm007zNo1cbfNKbvsz/AHMZD49zxjrTFtrAgbtTC58r/l3c43ff/wC+f17UAJJb2SpmPUg5/eceQwzjG3/vrn6Y5qQ2mmCbadYXZ5oTf9mf7mMl8fXjHWgCARWPkhjqQDlASnkNwSxBGfZfmz74q9ZaDJqjN/Zz3FzGruplSzfYABlSW6Dd7njvQBeg8Heba3Fw+v6XGLaJZZgJDJsBHIJTIzu+UDOW7VzSnKg0ALRQAUUAFFABRQAhUHqK6z4aXc+ma/rF9aY86DSZZFBgaUHEkZxtUgnPTrx17UAXBe6l8Ztb+yXFxb6bPZW7S2UIQtG+SN+5s5yfl6A8A8evIalp76Rqk+nS3NvcTW7FJGt2JUMOCMkDkUAV6KACigAooAKKACloASigAppYZwOSegFAGsPDeprGst6kWmxNnDX8giJx6IfnP4A0nkeH7QEz3l5qcuOI7RPIjzn/AJ6OCx/74H1oAU64ISw07SNOs1zlWaLz3Hp80m79AKgurvWNbimmu7m8vIbfDOXYskW44HHRcmgCkuViaJWYRsQzICcEjOCR7ZP5mloASigAooAKKACloASuj8DyLFd+IGaRIx/Y0w3POYRy8f8AEOR9O/TvQBzVhcT2e6S2kMckkTwsw/uuCrD8QTW9AyeJ4o7W5dY9djAS3uXbC3ijgRyE/wDLTsrd+h7GgDDkDQyvFMjRyoxV0cYKkcEEdjTdy+ooAN6+oo3r6igA3r6il3L6igBN6+oo3r6igB2c9KKAEJA6mr1jo+oalC89vBttYziS6mYRwp04LtgZ5HHWgCwLfQrA7ru7m1SYf8sLPMUWc/xSMMn8F/GgeIr2BSumw22mLjbm0jxJj/ro2X/WgDKcvNK0szvJK5yzuxJY+pJooAfCkctxFHNN5MTOFeXaW2KTycDrj0rQ1TU0uIk07To3t9KgbdHGx+eV+hkkx1Y/kBwKAM2igApKACigAooAWigBK6j4fiQ6jrwi87edGnx5AUv95OgbigDkof8AVLUhUEUAbml65p1hp5t7zQo76TP+saQKSpbLD7pPI4znIxRqOtaRc2EsFl4djs5ZFZTKs27qyMOCOPuEdf4jQBZ/4STRRKp/4RmNo1cERvKuAu5zjhBnh8ZP90VFDr2ixtE7+G1d47fysGcbTJhcSfdzng8Zxz9aAC18QaVBBPHL4fSbzrw3BLSgfJlsJ930bHHHHSmy67o/2rzbXw5HEhwDG8obA3EnB25BIwO+MUASTeItHdf3fhe3jZYnRSJMjJA2sw284Iz75qV/Evh8gJH4RijRnLPicEnkkYynAGenfAB6UAYep3tteXfm2tjHZQBQqwo27H1PUn3NS2mjXd1ai8laOysCSBdXTFUYjsg6ueP4QffFAFg3mj6YNmnWn9o3I63l8uIx1+5D09OXJ+gqhfahe6pIr311JNsGEUnCoPRVHCj2AoArgYoxQAVd0vTJNTmk/eLb2kCh7m6kHyQr/UnoFHJNAFWTyvOkELO8QY7GddrFc8EjJwfxptABRQAUUAJRQAUtABRQBo6T4f1PXluG06FZBbtGsm5wuN5IHX6GtzwlpGoWcviOW5s3W1XSp4vtL28kkDNvTgFcZ4B6Hjr2oA42D/VL9KkoAMUUAFFABRQAVZsNPu9UmeO0jBEa7pZXYLHEv952PCj60AXfP0rSBi0RNUv+9xMh+zx8fwIeXOe7cf7Pes+9vLvUrk3N9cPPLjALn7o9AOgHsOKAIcUtABRQAlWpb+5l02DTtypaxMZPLRcb3P8AE39444GegoArUUAFFABRQAUlAC0UAFFAE9rf31gHFldzW/mFWfy2IyV+6fwyfzrofAkk02reIppZJZJZNGuGZhL5bE7k53HgUAclB/qhUtABRQAUlABSFgBkmgDVg0qG3to77W5Xgt5E8yC1j/19yOxH9xD/AHj6cA1Df6tPfxLapGlpp6Nujs4OEB6Zbuzf7RyfpQBRAx0paACigAq3p2nNqVyyGeO2t4k8yeeTpGgIBOOpOSAAOpIoAfqd7a3UscNhaiCyt1KRbgPNk9XkbuT6dB0FUaACigAooAKKACigAooAKaWGcZoAWun8BBmv9fCFwx0WfGyESn7yfwng0AcpB/qhUtABRQAU0kAZNAHS6HoyWlv/AG5rEiQW0bKsUEkPmtIzjKExnG6NhkDBzkcdCarypY6FJLNLaK+qO2YbFz5kdiD/AM9Cfvv6L0H8XPFAGPc3Fxe3Ul1dzPPcSHLyOck0ygAooAKKAJ7WyubyK5mgjzDap5k0hICoM4HJ7k9B1Paq+AaAFooAKKACigAooAKKACigBDW6by9bweLKDTTBZgmW5u3JAnIYbQDwDjPTn14xQBg9q6TwRIkV14geQoEGjTZ8yVox9+P+Jef8elAHMQ/6oVLQAUUANJAGTXR+G9FjWeHWNYYQ6asbSxbZF8yZgcDYpzuO7jbj0zwRkANQvzo8pjjCjVVLbFTPl6cp6qiknbKTycHCHIHPTnAMEkkknkk96AHUUAFFABSHkdcUAaeqamlzFHp9hG1vpUDZjiY/NK3QySEdWP5AcD3zaACigAooAKKACigAooAKKAENdGrqnw6LsRMz3LR/vIX/AHZ+XAVw4XGOdpB5NAHNA9gCT6AV1Pw+806pryxi4Eo0afiBlVx86ZwW4H+e9AHKQf6paloAKKALWlT6fb6tbPqtt9osCxWaMEg7SMZGCDkdevat7UtUawiS4UPBfzxxm0tN+4WUQXasjnADTFcBTjKryeSMAHKKuPcnqadQAtFACZpwjlMBuBFIYA+wy7TtDYzjPTOO1AFzS9Mk1OaQmVbezt133N1ICViX+rHoFHJNQXRtTdy/YVmFruxH55Bcj1OABk9cdvegCGigAooAKKACigAooAKKACigBD0NdGkYb4azvCbnCXQM4EQWPcSAp3dWwB07E9u4BQ0LxDc+HxcfZ7S1nM7RMWnUkrsbcMYI74/IelbvhfVrnVr3xKJra0YS6ZNLs+xeaxO9OCR+8b8WODyelAHFQf6oVLQAUhoA1tMgisbM67fQpJGrGOygk6TzD+IjuidT2JwPWsuWaa5uJLm4kaWeVi7uxyWJ6mgBtLQAUlAGp4f0SXXdTjhyI7VWzNMzbFA443YOCcgdD1FWtX1uBNIj8O6T/wAeMUpeefg/aH4AYcZHQnqc59AKAMc3dy1glgZm+yrIZREOAXIAyfU4Hfp+NRUAFFABRQAUUAFFABRQAUUAFFACGuggMb/Da7VWIkivtzAK3IYJjJ2kfwn+IdO/FAHOjpXT+BCq32vlyoX+xpvvTmEffj/jHT+vSgDloP8AVCpaACrWmaf/AGnfCBpRBAimW4nKkiKNeWbA6+gHckDvQAuqX66leiSKLybSFBFaw/8APOMdAfUnkk9yTVOgBaKAErR0XQrnX5ZlgmihihUGSSRgAM8dP69BkZxQBfvpNJvdQj0vRbptO0xY9l3dSTNsuVXkOUwCX9u5wBgDNUNS1KO5jisbCFrfS7YkwxNjfI3QySEdXP5AcCgDOpaACigAooAKKACigAooAKKACigBDW8l1eN4DniR9NSzW42yR+YwuHbKndt3bT2GQOxoAwB0rqPAAdtR14IsjMdFnwI1RmPzJ2bg/jQBykH+qFSUAIxwMmti9/4lOjx6UqgXd2FuL1sHcqEZji/L5z7lf7tAGQBS0AFJQBe0fRLvxBdm3tnihQEB55m2opOcL7scHAHJwfSug1q7ttYe4tPDdsljpdnG0t5NJs2BzhflYAkFgqrhThvTAJIBx6gbelOoAWigAooAKKACigAooAKKACigAooAQ1uJrEQ8BTaS7QvK11vQGRhJGMqTgbdpU4/vDntQBg5AHJrpPAskIu/EDStAE/sWfPn52ffj645/KgDmYP8AVCpKANPQreF7ubULuLzLLTk8+VCPlkbOEjPH8TYz7Bqz57ie8uprq5kMk8zmSRz3YnJoAbRQAVsaB4Xv/ETSvbbRa25HnuHUuoJ7LnJOM47EjGaAHarrFqNEfw/ppSa1ScOL1UKNNHgnY4IGSGPXAztHAxVK+1I3VnbWFvCLWwgAIhVs+ZJj5pHP8TH9BwKAKNLQAUUAFFABRQAUUAFFABRQAUUAFFACGuhR2T4bTR/Pl77eP3IK7flB+Yrxzt6N7UAUtC1XT9LaZr7Sftxd4mRvMA2BW3EYKnIPHp0x3NdN4O1W3vNR8SC10m3tnbSrmQXEcrRzEbl4J3bF654UdKAOAg/1S1IxwuaANfVP+JfpFjo6cSSAXt5xyXYfu1PGflQ5x6uayRQAtFABV3StNnv5Lgi4NpYpH/ply2diR5HBA+8SQML3I/GgCG9kspLtjp1u8FqoCxiR9ztgfebtk9cDgdBVegBaKACigAooAKKACigAooAKKACigAooAQ10kJZ/hhdF1Lql7hCX4jxs6DHU7uhOeMgcGgDmR0rpvAo/03XxtznRphj7OZ/44/4B1/p17UActD/qlrV0K0gu9WRrtS1lao1zcgfxRoMlf+BHC/8AAqAKl1dzajfXF9ctunuJDI5HTJPb2qOgAooAcscjxPKsbtFGQHcKSqk9MntnBo82X7ObfzX8kvvMe47S2MZx64oAbRQAUUAFFABRQAUUAFFABRQAUUAFFABRQAlb9qb9fAF60d2v2L7Vtktmst2SdnzCXbgHp3HQetAHPjpXS+BWRb3XzIYgn9jTA+bMYl+/H1Ycj+vSgDlof9UK2hjT/CZb/l41abaOmVt4jz7jdJj/AL9mgDKFLQAVLbRQz3UcVxci2hZvnmKFto+g5JoAuanqi3UcdjYxvb6XAcxRMfmkbvJIR1c/kBwKzqACigAooAKKACigAooAKKACigAooAKKACigBDWw8ltD4SW1S/8A9Imk814I5GAIyMB12YJG3P3x16UAY1dR8P1kfUdeWF5Vf+xZ8GLZu+8n9/j8+3vQBydukkwjhiRnlkYIiKMliTgAVteIyia01jEwaLTo1s1IGASn3z+Llz+NAGUKWgC7pemvqUsjNKtvZ2677m5cZWJf6segUck1SoAKKACigAooAKKACigAooAKKACigAooAKKACigApMUAa2hWui3LXJ1u6e3jQxiMxyYY5bDcbTkAc9sehzxt+FodHhv/ABObO7acLpk6rHNZtNHs3pzlSGbnH8Ix17UAc94TIh1FtRYKV023e7G7pvUYj/8AH2Ss1M4yTknkmgB1LQBbutRnurG2sdqQ2sHIiiBAd+7tzyx6Z7DgYqpQAUUAFFABRQAUUAFFABRQAUUAFFABRQAUUAFFABRQA0jNdP4B2Lf+IN0nlD+xZ/n87ysHcmPm7UAZNr/oXgmR/wDltqd2IR8v/LKEBm593dP++Kzx0oAvaZpj6jJIzSrb2duvmXNy4ysa/Tux6Be5puo3Nrc3Kixtfs9rCgjjDcyOBn53PdiT24HA7UAVKKACigAooAKKACigAooAKKACigAooAKKACigBKWgAooAQ10ngYuLvxCY/N3f2LP/AKqISN9+P+E8H/CgDK1f9ymlWAJxa2EZYH+9JmU/+jAPwqtBaXNxbXFzDCzQWwBmk6KmTgc+pPbr19KAIe2Ox7UtABRQAUUAFFABRQAUUAFFABRQAUUAFFABRQAUlABRQAtFACV1/wAMbKPUvEmqWU23yp9LkR9xYDaZI88qQenvQBy93ex6vrt1fSl4YLq5ZztG4xxluABkZwvGMjpVrVdUS7SOxsY3ttKtz+5gJ+Z27ySEdXP6DgcUAZ1LQAUUAFFABRQAUUAFFABRQAUUAFFABRQAUUAJRQAUUAFLQBNY2j6hqNrZRsqvcSrErN0BJxk12fgnQ7mx1fxGs13bwQ/2ZcWv2jz0VlYsgzsZgw/HAzxmgDmT4W1JZJBbraeRuPl+Zqdtu254ziTGcUf8Izq392x/8GVv/wDHKAD/AIRrVv7tj/4Mbf8A+OU+PwtrU0qRRQ2ckjsFVF1G3JYnoAPM5oARvDGsI7I8dkrKcMp1G3yD/wB/KT/hGdX/ALtj/wCDK3/+OUAH/CM6v/dsf/Blb/8Axyj/AIRnV/7th/4Mrb/45QA+XwnrsBQTW9pGXQOofULcblPQj950PrTP+EZ1f+7Y/wDgyt//AI5QAf8ACM6v/dsf/Blb/wDxyj/hGdX/ALtj/wCDK3/+OUAP/wCET137N9p+z2n2ff5fm/2hb7d2M7c+ZjOOcUz/AIRnV/7tj/4Mrf8A+OUAH/CM6t/dsf8AwZW//wAco/4RnVv7tj/4Mrf/AOOUAOj8K63KzCKGzcqpYhdQtzgDkn7/AEFM/wCEa1b+7Y/+DK3/APjlAC/8I1q392x/8GNv/wDF0f8ACNat/dsf/Bjb/wDxdADovC2szSpFFFZvI5CqiahbksT2A31jqwYZFADqSgAooAKKACigA5BBBIIOQQeRWlp8ljHo+ufaZ5Fv7iOOOEfMfMXducHHHVU+9745oAyViUDpTvLX0oAPLX0q/ojWlrqZu7mVYTbxNLbsd+RMBmPG0HkNg8jHHNABr0eknW520d2ksjgqzbsk9z82Dn19844rP2L6UAHlr6UsUVs1zCtyzpbl1ErRjLBc8kD1xQBveJ28P3ENs2l3klzcI5TcyyALAOI0IYfwjAGOTzntXP8Alr6UALsX0pGjXHSgDoy3h5fCbWf9pTSXHlrOluUcKtySwcg4wTtEa8nGMnr05xY1x0oAXYvpR5a+lAG74Y/4R+BdQk1meWGcqiW2wvhlbcJA20H5SMA98E45rJvorIandiwybLzm8gnP3Mnb156evNAEPlr6UeWvpQBr+HpNJtLkXN85iuoZ45baTL7QVDnkKDxu2Z746d6TXI9Cjnt10CSWSERnzTLuzu3HGcgc4x046e9AGXRQAUUAFFABRQAUUAGKWgApMUAWdNWzOq2g1AkWXmr5+M/czz056elasFn4VufJebVpbQzq7SRiKQi2Iddqjg7sqW7np1oAYNL8OtfPGmvSPax2LTNN5LKTNnAQKRk9Qf6+lkaX4LjngZvEc88XnBZU+zSKfLxyQdvX/HvigCsth4VMKt/bdys3kMzItuxUSBRhckc7ieuP4T0yKXSrLwtMobU9XuoGWOMlFiY73OdwBCnAHy8/WgBttb+HIdQCyXsl3Zm3gZ3YNGyuZU8wAAc4Tf60mlaboF810LzWpLRkJaFXjIDqAxPIBx0X35IweKAJW0zwkksbR+IZplEihw9s6/JvIJ4Xrtwccdevai6tfCbL5trqc6Yh5gZHJL7X/i28ksE9AM96AFv9N0CO3vP7N1FZWZDNbmd9pAEjAIPVii55A6rVPUI9GOmWM+nTut2RtubZwxwcfeDYxj296AMyjFAC0mKACigAooAKKACigAooAKKACloAKKAEpMD0oAMD0o2j0oAMD0owKAFwKTAPagAwPSjA9KADA9KXFAC0UAFJQAUUAFFABRQAUUAFFABRQAUUALRQAUlABRQAUUAFFABRQAUtABRQAlFABRQAUUAFFAH/2f/hMehodHRwOi8vbnMuYWRvYmUuY29tL3hhcC8xLjAvADw/eHBhY2tldCBiZWdpbj0n77u/JyBpZD0nVzVNME1wQ2VoaUh6cmVTek5UY3prYzlkJz8+DQo8eDp4bXBtZXRhIHhtbG5zOng9ImFkb2JlOm5zOm1ldGEvIj48cmRmOlJERiB4bWxuczpyZGY9Imh0dHA6Ly93d3cudzMub3JnLzE5OTkvMDIvMjItcmRmLXN5bnRheC1ucyMiPjxyZGY6RGVzY3JpcHRpb24gcmRmOmFib3V0PSJ1dWlkOmZhZjViZGQ1LWJhM2QtMTFkYS1hZDMxLWQzM2Q3NTE4MmYxYiIgeG1sbnM6eG1wPSJodHRwOi8vbnMuYWRvYmUuY29tL3hhcC8xLjAvIj48eG1wOkNyZWF0b3JUb29sPldpbmRvd3MgUGhvdG8gRWRpdG9yIDEwLjAuMTAwMTEuMTYzODQ8L3htcDpDcmVhdG9yVG9vbD48eG1wOkNyZWF0ZURhdGU+MjAxOC0wNy0wNVQxNDo1OToyOS4zNTU8L3htcDpDcmVhdGVEYXRlPjwvcmRmOkRlc2NyaXB0aW9uPjwvcmRmOlJERj48L3g6eG1wbWV0YT4NCiAgICAgICAgICAgICAgICAgICAgICAgICAgICAgICAgICAgICAgICAgICAgICAgICAgICAgICAgICAgICAgICAgICAgICAgICAgICAgICAgICAgICAgICAgICAgICAgICAgICAKICAgICAgICAgICAgICAgICAgICAgICAgICAgICAgICAgICAgICAgICAgICAgICAgICAgICAgICAgICAgICAgICAgICAgICAgICAgICAgICAgICAgICAgICAgICAgICAgICAgIAogICAgICAgICAgICAgICAgICAgICAgICAgICAgICAgICAgICAgICAgICAgICAgICAgICAgICAgICAgICAgICAgICAgICAgICAgICAgICAgICAgICAgICAgICAgICAgICAgICAgCiAgICAgICAgICAgICAgICAgICAgICAgICAgICAgICAgICAgICAgICAgICAgICAgICAgICAgICAgICAgICAgICAgICAgICAgICAgICAgICAgICAgICAgICAgICAgICAgICAgICAKICAgICAgICAgICAgICAgICAgICAgICAgICAgICAgICAgICAgICAgICAgICAgICAgICAgICAgICAgICAgICAgICAgICAgICAgICAgICAgICAgICAgICAgICAgICAgICAgICAgIAogICAgICAgICAgICAgICAgICAgICAgICAgICAgICAgICAgICAgICAgICAgICAgICAgICAgICAgICAgICAgICAgICAgICAgICAgICAgICAgICAgICAgICAgICAgICAgICAgICAgCiAgICAgICAgICAgICAgICAgICAgICAgICAgICAgICAgICAgICAgICAgICAgICAgICAgICAgICAgICAgICAgICAgICAgICAgICAgICAgICAgICAgICAgICAgICAgICAgICAgICAKICAgICAgICAgICAgICAgICAgICAgICAgICAgICAgICAgICAgICAgICAgICAgICAgICAgICAgICAgICAgICAgICAgICAgICAgICAgICAgICAgICAgICAgICAgICAgICAgICAgIAogICAgICAgICAgICAgICAgICAgICAgICAgICAgICAgICAgICAgICAgICAgICAgICAgICAgICAgICAgICAgICAgICAgICAgICAgICAgICAgICAgICAgICAgICAgICAgICAgICAgCiAgICAgICAgICAgICAgICAgICAgICAgICAgICAgICAgICAgICAgICAgICAgICAgICAgICAgICAgICAgICAgICAgICAgICAgICAgICAgICAgICAgICAgICAgICAgICAgICAgICAKICAgICAgICAgICAgICAgICAgICAgICAgICAgICAgICAgICAgICAgICAgICAgICAgICAgICAgICAgICAgICAgICAgICAgICAgICAgICAgICAgICAgICAgICAgICAgICAgICAgIAogICAgICAgICAgICAgICAgICAgICAgICAgICAgICAgICAgICAgICAgICAgICAgICAgICAgICAgICAgICAgICAgICAgICAgICAgICAgICAgICAgICAgICAgICAgICAgICAgICAgCiAgICAgICAgICAgICAgICAgICAgICAgICAgICAgICAgICAgICAgICAgICAgICAgICAgICAgICAgICAgICAgICAgICAgICAgICAgICAgICAgICAgICAgICAgICAgICAgICAgICAKICAgICAgICAgICAgICAgICAgICAgICAgICAgICAgICAgICAgICAgICAgICAgICAgICAgICAgICAgICAgICAgICAgICAgICAgICAgICAgICAgICAgICAgICAgICAgICAgICAgIAogICAgICAgICAgICAgICAgICAgICAgICAgICAgICAgICAgICAgICAgICAgICAgICAgICAgICAgICAgICAgICAgICAgICAgICAgICAgICAgICAgICAgICAgICAgICAgICAgICAgCiAgICAgICAgICAgICAgICAgICAgICAgICAgICAgICAgICAgICAgICAgICAgICAgICAgICAgICAgICAgICAgICAgICAgICAgICAgICAgICAgICAgICAgICAgICAgICAgICAgICAKICAgICAgICAgICAgICAgICAgICAgICAgICAgICAgICAgICAgICAgICAgICAgICAgICAgICAgICAgICAgICAgICAgICAgICAgICAgICAgICAgICAgICAgICAgICAgICAgICAgIAogICAgICAgICAgICAgICAgICAgICAgICAgICAgICAgICAgICAgICAgICAgICAgICAgICAgICAgICAgICAgICAgICAgICAgICAgICAgICAgICAgICAgICAgICAgICAgICAgICAgCiAgICAgICAgICAgICAgICAgICAgICAgICAgICAgICAgICAgICAgICAgICAgICAgICAgICAgICAgICAgICAgICAgICAgICAgICAgICAgICAgICAgICAgICAgICAgICAgICAgICAKICAgICAgICAgICAgICAgICAgICAgICAgICAgICAgICAgICAgICAgICAgICAgICAgICAgICAgICAgICAgICAgICAgICAgICAgICAgICAgICAgICAgICAgICAgICAgICAgICAgIAogICAgICAgICAgICAgICAgICAgICAgICAgICAgICAgICAgICAgICAgICAgICAgICAgICAgICAgICAgICAgICAgICAgICAgICAgICAgICAgICAgICAgICAgICAgICAgICAgICAgCiAgICAgICAgICAgICAgICAgICAgICAgICAgICAgICAgICAgICAgICAgICAgICAgICAgICAgICAgICAgICAgICAgICAgICAgICAgICAgICAgICAgICAgICAgICAgICAgICAgICAKICAgICAgICAgICAgICAgICAgICAgICAgICAgICAgICAgICAgICAgICAgICAgICAgICAgICAgICAgICAgICAgICAgICAgICAgICAgICAgICAgICAgICAgICAgICAgICAgICAgIAogICAgICAgICAgICAgICAgICAgICAgICAgICAgICAgICAgICAgICAgICAgICAgICAgICAgICAgICAgICAgICAgICAgICAgICAgICAgICAgICAgICAgICAgICAgICAgICAgICAgCiAgICAgICAgICAgICAgICAgICAgICAgICAgICAgICAgICAgICAgICAgICAgICAgICAgICAgICAgICAgICAgICAgICAgICAgICAgICAgICAgICAgICAgICAgICAgICAgICAgICAKICAgICAgICAgICAgICAgICAgICAgICAgICAgICAgICAgICAgICAgICAgICAgICAgICAgICAgICAgICAgICAgICAgICAgICAgICAgICAgICAgICAgICAgICAgICAgICAgICAgIAogICAgICAgICAgICAgICAgICAgICAgICAgICAgICAgICAgICAgICAgICAgICAgICAgICAgICAgICAgICAgICAgICAgICAgICAgICAgICAgICAgICAgICAgICAgICAgICAgICAgCiAgICAgICAgICAgICAgICAgICAgICAgICAgICAgICAgICAgICAgICAgICAgICAgICAgICAgICAgICAgICAgICAgICAgICAgICAgICAgICAgICAgICAgICAgICAgICAgICAgICAKICAgICAgICAgICAgICAgICAgICAgICAgICAgICAgICAgICAgICAgICAgICAgICAgICAgICAgICAgICAgICAgICAgICAgICAgICAgICAgICAgICAgICAgICAgICAgICAgICAgIAogICAgICAgICAgICAgICAgICAgICAgICAgICAgICAgICAgICAgICAgICAgICAgICAgICAgICAgICAgICAgICAgICAgICAgICAgICAgICAgICAgICAgICAgICAgICAgICAgICAgCiAgICAgICAgICAgICAgICAgICAgICAgICAgICAgICAgICAgICAgICAgICAgICAgICAgICAgICAgICAgICAgICAgICAgICAgICAgICAgICAgICAgICAgICAgICAgICAgICAgICAKICAgICAgICAgICAgICAgICAgICAgICAgICAgICAgICAgICAgICAgICAgICAgICAgICAgICAgICAgICAgICAgICAgICAgICAgICAgICAgICAgICAgICAgICAgICAgICAgICAgIAogICAgICAgICAgICAgICAgICAgICAgICAgICAgICAgICAgICAgICAgICAgICAgICAgICAgICAgICAgICAgICAgICAgICAgICAgICAgICAgICAgICAgICAgICAgICAgICAgICAgCiAgICAgICAgICAgICAgICAgICAgICAgICAgICAgICAgICAgICAgICAgICAgICAgICAgICAgICAgICAgICAgICAgICAgICAgICAgICAgICAgICAgICAgICAgICAgICAgICAgICAKICAgICAgICAgICAgICAgICAgICAgICAgICAgICAgICAgICAgICAgICAgICAgICAgICAgICAgICAgICAgICAgICAgICAgICAgICAgICAgICAgICAgICAgICAgICAgICAgICAgIAogICAgICAgICAgICAgICAgICAgICAgICAgICAgICAgICAgICAgICAgICAgICAgICAgICAgICAgICAgICAgICAgICAgICAgICAgICAgICAgICAgICAgICAgICAgICAgICAgICAgCiAgICAgICAgICAgICAgICAgICAgICAgICAgICAgICAgICAgICAgICAgICAgICAgICAgICAgICAgICAgICAgICAgICAgICAgICAgICAgICAgICAgICAgICAgICAgICAgICAgICAKICAgICAgICAgICAgICAgICAgICAgICAgICAgICAgICAgICAgICAgICAgICAgICAgICAgICAgICAgICAgICAgICAgICAgICAgICAgICAgICAgICAgICAgICAgICAgICAgICAgIAogICAgICAgICAgICAgICAgICAgICAgICAgICAgICAgICAgICAgICAgICAgICAgICAgICAgICAgICAgICAgICAgICAgICAgICAgICAgICAgICAgICAgICAgICAgICAgICAgICAgCiAgICAgICAgICAgICAgICAgICAgICAgICAgICAgICAgICAgICAgICAgICAgICAgICAgICAgICAgICAgICAgICAgICAgICAgICAgICAgICAgICAgICAgICAgICAgICAgICAgICAKICAgICAgICAgICAgICAgICAgICAgICAgICAgICAgICAgICAgICAgICAgICAgICAgICAgICAgICAgICAgICAgICAgICAgICAgICAgICAgICAgICAgICAgICAgICAgICAgICAgIAogICAgICAgICAgICAgICAgICAgICAgICAgICAgICAgICAgICAgICAgICAgICAgICAgICAgICAgICAgICAgICAgICAgICAgICAgICAgICAgICAgICAgICAgICAgICAgICAgICAgCiAgICAgICAgICAgICAgICAgICAgICAgICAgICAgICAgICAgICAgICAgICAgICAgICAgICAgICAgICAgICAgICAgICAgICAgICAgICAgICAgICAgICAgICAgICAgICAgICAgICAKICAgICAgICAgICAgICAgICAgICAgICAgICAgICAgICAgICAgICAgICAgICAgICAgICAgICAgICAgICAgICAgICAgICAgICAgICAgICAgICAgICAgICAgICAgICAgICAgICAgIAogICAgICAgICAgICAgICAgICAgICAgICAgICAgICAgICAgICAgICAgICAgICAgICAgICAgICAgICAgICAgICAgICAgICAgICAgICAgICAgICAgICAgICAgICAgICAgICAgICAgCiAgICAgICAgICAgICAgICAgICAgICAgICAgICAgICAgICAgICAgICAgICAgICAgICAgICAgICAgICAgICAgICAgICAgICAgICAgICAgICAgICAgICAgICAgICAgICAgICAgICAKICAgICAgICAgICAgICAgICAgICAgICAgICAgICAgICAgICAgICAgICAgICAgICAgICAgICAgICAgICAgICAgICAgICAgICAgICAgICAgICAgICAgICAgICAgICAgICAgICAgIAogICAgICAgICAgICAgICAgICAgICAgICAgICAgICAgICAgICAgICAgICAgICAgICAgICAgICAgICAgICAgICAgICAgICAgICAgICAgICAgICAgICAgICAgICAgICAgICAgICAgCiAgICAgICAgICAgICAgICAgICAgICAgICAgICAgICAgICAgICAgICAgICAgICAgICAgICAgICAgICAgICAgICAgICAgICAgICAgICAgICAgICAgICAgICAgICAgICAgICAgICAKICAgICAgICAgICAgICAgICAgICAgICAgICAgICAgICAgICAgICAgICAgICAgICAgICAgICAgICAgICAgICAgICAgICAgICAgICAgICAgICAgICAgICAgICAgICAgICAgICAgIAogICAgICAgICAgICAgICAgICAgICAgICAgICAgICAgICAgICAgICAgICAgICAgICAgICAgICAgICAgICAgICAgICAgICAgICAgICAgICAgICAgICAgICAgICAgICAgICAgICAgCiAgICAgICAgICAgICAgICAgICAgICAgICAgICAgICAgICAgICAgICAgICAgICAgICAgICAgICAgICAgICAgICAgICAgICAgICAgICAgICAgICAgICAgICAgICAgICAgICAgICAKICAgICAgICAgICAgICAgICAgICAgICAgICAgICAgICAgICAgICAgICAgICAgICAgICAgICAgICAgICAgICAgICAgICAgICAgICAgICAgICAgICAgICAgICAgICAgICAgICAgIAogICAgICAgICAgICAgICAgICAgICAgICAgICAgICAgICAgICAgICAgICAgICAgICAgICAgICAgICAgICAgICAgICAgICAgICAgICAgICAgICAgICAgICAgICAgICAgICAgICAgCiAgICAgICAgICAgICAgICAgICAgICAgICAgICAgICAgICAgICAgICAgICAgICAgICAgICAgICAgICAgICAgICAgICAgICAgICAgICAgICAgICAgICAgICAgICAgICAgICAgICAKICAgICAgICAgICAgICAgICAgICAgICAgICAgICAgICAgICAgICAgICAgICAgICAgICAgICAgICAgICAgICAgICAgICAgICAgICAgICAgICAgICAgICAgICAgICAgICAgICAgIAogICAgICAgICAgICAgICAgICAgICAgICAgICAgICAgICAgICAgICAgICAgICAgICAgICAgICAgICAgICAgICAgICAgICAgICAgICAgICAgICAgICAgICAgICAgICAgICAgICAgCiAgICAgICAgICAgICAgICAgICAgICAgICAgICAgICAgICAgICAgICAgICAgICAgICAgICAgICAgICAgICAgICAgICAgICAgICAgICAgICAgICAgICAgICAgICAgICAgICAgICAKICAgICAgICAgICAgICAgICAgICAgICAgICAgICAgICAgICAgICAgICAgICAgICAgICAgICAgICAgICAgICAgICAgICAgICAgICAgICAgICAgICAgICAgICAgICAgICAgICAgIAogICAgICAgICAgICAgICAgICAgICAgICAgICAgICAgICAgICAgICAgICAgICAgICAgICAgICAgICAgICAgICAgICAgICAgICAgICAgICAgICAgICAgICAgICAgICAgICAgICAgCiAgICAgICAgICAgICAgICAgICAgICAgICAgICAgICAgICAgICAgICAgICAgICAgICAgICAgICAgICAgICAgICAgICAgICAgICAgICAgICAgICAgICAgICAgICAgICAgICAgICAKICAgICAgICAgICAgICAgICAgICAgICAgICAgICAgICAgICAgICAgICAgICAgICAgICAgICAgICAgICAgICAgICAgICAgICAgICAgICAgICAgICAgICAgICAgICAgICAgICAgIAogICAgICAgICAgICAgICAgICAgICAgICAgICAgICAgICAgICAgICAgICAgICAgICAgICAgICAgICAgICAgICAgICAgICAgICAgICAgICAgICAgICAgICAgICAgICAgICAgICAgCiAgICAgICAgICAgICAgICAgICAgICAgICAgICAgICAgICAgICAgICAgICAgICAgICAgICAgICAgICAgICAgICAgICAgICAgICAgICAgICAgICAgICAgICAgICAgICAgICAgICAKICAgICAgICAgICAgICAgICAgICAgICAgICAgICAgICAgICAgICAgICAgICAgICAgICAgICAgICAgICAgICAgICAgICAgICAgICAgICAgICAgICAgICAgICAgICAgICAgICAgIAogICAgICAgICAgICAgICAgICAgICAgICAgICAgICAgICAgICAgICAgICAgICAgICAgICAgICAgICAgICAgICAgICAgICAgICAgICAgICAgICAgICAgICAgICAgICAgICAgICAgCiAgICAgICAgICAgICAgICAgICAgICAgICAgICAgICAgICAgICAgICAgICAgICAgICAgICAgICAgICAgICAgICAgICAgICAgICAgICAgICAgICAgICAgICAgICAgICAgICAgICAKICAgICAgICAgICAgICAgICAgICAgICAgICAgICAgICAgICAgICAgICAgICAgICAgICAgICAgICAgICAgICAgICAgICAgICAgICAgICAgICAgICAgICAgICAgICAgICAgICAgIAogICAgICAgICAgICAgICAgICAgICAgICAgICAgICAgICAgICAgICAgICAgICAgICAgICAgICAgICAgICAgICAgICAgICAgICAgICAgICAgICAgICAgICAgICAgICAgICAgICAgCiAgICAgICAgICAgICAgICAgICAgICAgICAgICAgICAgICAgICAgICAgICAgICAgICAgICAgICAgICAgICAgICAgICAgICAgICAgICAgICAgICAgICAgICAgICAgICAgICAgICAKICAgICAgICAgICAgICAgICAgICAgICAgICAgICAgICAgICAgICAgICAgICAgICAgICAgICAgICAgICAgICAgICAgICAgICAgICAgICAgICAgICAgICAgICAgICAgICAgICAgIAogICAgICAgICAgICAgICAgICAgICAgICAgICAgICAgICAgICAgICAgICAgICAgICAgICAgICAgICAgICAgICAgICAgICAgICAgICAgICAgICAgICAgICAgICAgICAgICAgICAgCiAgICAgICAgICAgICAgICAgICAgICAgICAgICAgICAgICAgICAgICAgICAgICAgICAgICAgICAgICAgICAgICAgICAgICAgICAgICAgICAgICAgICAgICAgICAgICAgICAgICAKICAgICAgICAgICAgICAgICAgICAgICAgICAgICAgICAgICAgICAgICAgICAgICAgICAgICAgICAgICAgICAgICAgICAgICAgICAgICAgICAgICAgICAgICAgICAgICAgICAgIAogICAgICAgICAgICAgICAgICAgICAgICAgICAgICAgICAgICAgICAgICAgICAgICAgICAgICAgICAgICAgICAgICAgICAgICAgICAgICAgICAgICAgICAgICAgICAgICAgICAgCiAgICAgICAgICAgICAgICAgICAgICAgICAgICAgICAgICAgICAgICAgICAgICAgICAgICAgICAgICAgICAgICAgICAgICAgICAgICAgICAgICAgICAgICAgICAgICAgICAgICAKICAgICAgICAgICAgICAgICAgICAgICAgICAgICAgICAgICAgICAgICAgICAgICAgICAgICAgICAgICAgICAgICAgICAgICAgICAgICAgICAgICAgICAgICAgICAgICAgICAgIAogICAgICAgICAgICAgICAgICAgICAgICAgICAgICAgICAgICAgICAgICAgICAgICAgICAgICAgICAgICAgICAgICAgICAgICAgICAgICAgICAgICAgICAgICAgICAgICAgICAgCiAgICAgICAgICAgICAgICAgICAgICAgICAgICAgICAgICAgICAgICAgICAgICAgICAgICAgICAgICAgICAgICAgICAgICAgICAgICAgICAgICAgICAgICAgICAgICAgICAgICAKICAgICAgICAgICAgICAgICAgICAgICAgICAgICAgICAgICAgICAgICAgICAgICAgICAgICAgICAgICAgICAgICAgICAgICAgICAgICAgICAgICAgICAgICAgICAgICAgICAgIAogICAgICAgICAgICAgICAgICAgICAgICAgICAgICAgICAgICAgICAgICAgICAgICAgICAgICAgICAgICAgICAgICAgICAgICAgICAgICAgICAgICAgICAgICAgICAgICAgICAgCiAgICAgICAgICAgICAgICAgICAgICAgICAgICAgICAgICAgICAgICAgICAgICAgICAgICAgICAgICAgICAgICAgICAgICAgICAgICAgICAgICAgICAgICAgICAgICAgICAgICAKICAgICAgICAgICAgICAgICAgICAgICAgICAgICAgICAgICAgICAgICAgICAgICAgICAgICAgICAgICAgICAgICAgICAgICAgICAgICAgICAgICAgICAgICAgICAgICAgICAgIAogICAgICAgICAgICAgICAgICAgICAgICAgICAgICAgICAgICAgICAgICAgICAgICAgICAgICAgICAgICAgICAgICAgICAgICAgICAgICAgICAgICAgICAgICAgICAgICAgICAgCiAgICAgICAgICAgICAgICAgICAgICAgICAgICAgICAgICAgICAgICAgICAgICAgICAgICAgICAgICAgICAgICAgICAgICAgICAgICAgICAgICAgICAgICAgICAgICAgICAgICAKICAgICAgICAgICAgICAgICAgICAgICAgICAgICAgICAgICAgICAgICAgICAgICAgICAgICAgICAgICAgICAgICAgICAgICAgICAgICAgICAgICAgICAgICAgICAgICAgICAgIAogICAgICAgICAgICAgICAgICAgICAgICAgICAgICAgICAgICAgICAgICAgICAgICAgICAgICAgICAgICAgICAgICAgICAgICAgICAgICAgICAgICAgICAgICAgICAgICAgICAgCiAgICAgICAgICAgICAgICAgICAgICAgICAgICAgICAgICAgICAgICAgICAgICAgICAgICAgICAgICAgICAgICAgICAgICAgICAgICAgICAgICAgICAgICAgICAgICAgICAgICAKICAgICAgICAgICAgICAgICAgICAgICAgICAgICAgICAgICAgICAgICAgICAgICAgICAgICAgICAgICAgICAgICAgICAgICAgICAgICAgICAgICAgICAgICAgICAgICAgICAgIAogICAgICAgICAgICAgICAgICAgICAgICAgICAgICAgICAgICAgICAgICAgICAgICAgICAgICAgICAgICAgICAgICAgICAgICAgICAgICAgICAgICAgICAgICAgICAgICAgICAgCiAgICAgICAgICAgICAgICAgICAgICAgICAgICAgICAgICAgICAgICAgICAgICAgICAgICAgICAgICAgICAgICAgICAgICAgICAgICAgICAgICAgICAgICAgICAgICAgICAgICAKICAgICAgICAgICAgICAgICAgICAgICAgICAgICAgICAgICAgICAgICAgICAgICAgICAgICAgICAgICAgICAgICAgICAgICAgICAgICAgICAgICAgICAgICAgICAgICAgICAgIAogICAgICAgICAgICAgICAgICAgICAgICAgICAgICAgICAgICAgICAgICAgICAgICAgICAgICAgICAgICAgICAgICAgICAgICAgICAgICAgICAgICAgICAgICAgICAgICAgICAgCiAgICAgICAgICAgICAgICAgICAgICAgICAgICAgICAgICAgICAgICAgICAgICAgICAgICAgICAgICAgICAgICAgICAgICAgICAgICAgICAgICAgICAgICAgICAgICAgICAgICAKICAgICAgICAgICAgICAgICAgICAgICAgICAgICAgICAgICAgICAgICAgICAgICAgICAgICAgICAgICAgICAgICAgICAgICAgICAgICAgICAgICAgICAgICAgICAgICAgICAgIAogICAgICAgICAgICAgICAgICAgICAgICAgICAgICAgICAgICAgICAgICAgICAgICAgICAgICAgICAgICAgICAgICAgICAgICAgICAgICAgICAgICAgICAgICAgICAgICAgICAgCiAgICAgICAgICAgICAgICAgICAgICAgICAgICAgICAgICAgICAgICAgICAgICAgICAgICAgICAgICAgICAgICAgICAgICAgICAgICAgICAgICAgICAgICAgICAgICAgICAgICAKICAgICAgICAgICAgICAgICAgICAgICAgICAgICAgICAgICAgICAgICAgICAgICAgICAgICAgICAgICAgICAgICAgICAgICAgICAgICAgICAgICAgICAgICAgICAgICAgICAgIAogICAgICAgICAgICAgICAgICAgICAgICAgICAgICAgICAgICAgICAgICAgICAgICAgICAgICAgICAgICAgICAgICAgICAgICAgICAgICAgICAgICAgICAgICAgICAgICAgICAgCiAgICAgICAgICAgICAgICAgICAgICAgICAgICAgICAgICAgICAgICAgICAgICAgICAgICAgICAgICAgICAgICAgICAgICAgICAgICAgICAgICAgICAgICAgICAgICAgICAgICAKICAgICAgICAgICAgICAgICAgICAgICAgICAgICAgICAgICAgICAgICAgICAgICAgICAgICAgICAgICAgICAgICAgICAgICAgICAgICAgICAgICAgICAgICAgICAgICAgICAgIAogICAgICAgICAgICAgICAgICAgICAgICAgICAgICAgICAgICAgICAgICAgICAgICAgICAgICAgICAgICAgICAgICAgICAgICAgICAgICAgICAgICAgICAgICAgICAgICAgICAgCiAgICAgICAgICAgICAgICAgICAgICAgICAgICAgICAgICAgICAgICAgICAgICAgICAgICAgICAgICAgICAgICAgICAgICAgICAgICAgICAgICAgICAgICAgICAgICAgICAgICAKICAgICAgICAgICAgICAgICAgICAgICAgICAgICAgICAgICAgICAgICAgICAgICAgICAgICAgICAgICAgICAgICAgICAgICAgICAgICAgICAgICAgICAgICAgICAgICAgICAgIAogICAgICAgICAgICAgICAgICAgICAgICAgICAgICAgICAgICAgICAgICAgICAgICAgICAgICAgICAgICAgICAgICAgICAgICAgICAgICAgICAgICAgICAgICAgICAgICAgICAgCiAgICAgICAgICAgICAgICAgICAgICAgICAgICAgICAgICAgICAgICAgICAgICAgICAgICAgICAgICAgICAgICAgICAgICAgICAgICAgICAgICAgICAgICAgICAgICAgICAgICAKICAgICAgICAgICAgICAgICAgICAgICAgICAgICAgICAgICAgICAgICAgICAgICAgICAgICAgICAgICAgICAgICAgICAgICAgICAgICAgICAgICAgICAgICAgICAgICAgICAgIAogICAgICAgICAgICAgICAgICAgICAgICAgICAgICAgICAgICAgICAgICAgICAgICAgICAgICAgICAgICAgICAgICAgICAgICAgICAgICAgICAgICAgICAgICAgICAgICAgICAgCiAgICAgICAgICAgICAgICAgICAgICAgICAgICAgICAgICAgICAgICAgICAgICAgICAgICAgICAgICAgICAgICAgICAgICAgICAgICAgICAgICAgICAgICAgICAgICAgICAgICAKICAgICAgICAgICAgICAgICAgICAgICAgICAgICAgICAgICAgICAgICAgICAgICAgICAgICAgICAgICAgICAgICAgICAgICAgICAgICAgICAgICAgICAgICAgICAgICAgICAgIAogICAgICAgICAgICAgICAgICAgICAgICAgICAgICAgICAgICAgICAgICAgICAgICAgICAgICAgICAgICAgICAgICAgICAgICAgICAgICAgICAgICAgICAgICAgICAgICAgICAgCiAgICAgICAgICAgICAgICAgICAgICAgICAgICAgICAgICAgICAgICAgICAgICAgICAgICAgICAgICAgICAgICAgICAgICAgICAgICAgICAgICAgICAgICAgICAgICAgICAgICAKICAgICAgICAgICAgICAgICAgICAgICAgICAgICAgICAgICAgICAgICAgICAgICAgICAgICAgICAgICAgICAgICAgICAgICAgICAgICAgICAgICAgICAgICAgICAgICAgICAgIAogICAgICAgICAgICAgICAgICAgICAgICAgICAgICAgICAgICAgICAgICAgICAgICAgICAgICAgICAgICAgICAgICAgICAgICAgICAgICAgICAgICAgICAgICAgICAgICAgICAgCiAgICAgICAgICAgICAgICAgICAgICAgICAgICAgICAgICAgICAgICAgICAgICAgICAgICAgICAgICAgICAgICAgICAgICAgICAgICAgICAgICAgICAgICAgICAgICAgICAgICAKICAgICAgICAgICAgICAgICAgICAgICAgICAgICAgICAgICAgICAgICAgICAgICAgICAgICAgICAgICAgICAgICAgICAgICAgICAgICAgICAgICAgICAgICAgICAgICAgICAgIAogICAgICAgICAgICAgICAgICAgICAgICAgICAgICAgICAgICAgICAgICAgICAgICAgICAgICAgICAgICAgICAgICAgICAgICAgICAgICAgICAgICAgICAgICAgICAgICAgICAgCiAgICAgICAgICAgICAgICAgICAgICAgICAgICAgICAgICAgICAgICAgICAgICAgICAgICAgICAgICAgICAgICAgICAgICAgICAgICAgICAgICAgICAgICAgICAgICAgICAgICAKICAgICAgICAgICAgICAgICAgICAgICAgICAgICAgICAgICAgICAgICAgICAgICAgICAgICAgICAgICAgICAgICAgICAgICAgICAgICAgICAgICAgICAgICAgICAgICAgICAgIAogICAgICAgICAgICAgICAgICAgICAgICAgICAgICAgICAgICAgICAgICAgICAgICAgICAgICAgICAgICAgICAgICAgICAgICAgICAgICAgICAgICAgICAgICAgICAgICAgICAgCiAgICAgICAgICAgICAgICAgICAgICAgICAgICAgICAgICAgICAgICAgICAgICAgICAgICAgICAgICAgICAgICAgICAgICAgICAgICAgICAgICAgICAgICAgICAgICAgICAgICAKICAgICAgICAgICAgICAgICAgICAgICAgICAgICAgICAgICAgICAgICAgICAgICAgICAgICAgICAgICAgICAgICAgIDw/eHBhY2tldCBlbmQ9J3cnPz7/2wBDAAYEBAUEBAYFBQUGBgYHCQ4JCQgICRINDQoOFRIWFhUSFBQXGiEcFxgfGRQUHScdHyIjJSUlFhwpLCgkKyEkJST/2wBDAQYGBgkICREJCREkGBQYJCQkJCQkJCQkJCQkJCQkJCQkJCQkJCQkJCQkJCQkJCQkJCQkJCQkJCQkJCQkJCQkJCT/wAARCAEoAWgDASIAAhEBAxEB/8QAHAABAAMBAQEBAQAAAAAAAAAAAAEFBgQCAwcI/8QARxAAAQMDAgQCBAwDBwMDBQAAAQACAwQFERIhBhMxQSJRBxQyYRUWNkJSU3F0gZWz0yORoSQzQ2NygrElYpI0NYMmRHOT0f/EABQBAQAAAAAAAAAAAAAAAAAAAAD/xAAUEQEAAAAAAAAAAAAAAAAAAAAA/9oADAMBAAIRAxEAPwD8KREQEREBMooa0vcGtBc4nAAGSSgZKZK+xoasAk0s4DZOSSYzs/6PT2vd1Xzmhlp5HRTRvikYcOY9pDmn3g9EHnJTJUKcoJUqEyglEyiAiIgIiICIiAiIgIiZQERMoCIiAiZTKAiZUZQSihEBMooQMqVCIJREQEREBERAREQEREBERAX0pKmSjqoqmF745InhzXMOCMeRXzUYQbxnpHpIpamUUVU4zXB1UGF4DQx07Zc/6xpx5b9V4tfFFounFEENVw3SXOGsmpaUS17385jWtZET4HAZONXfcrDFWXCvyos/36D9RqD+pGegXghrGl1pjfKx0ha7U4NIcTpDm6t9IIA+xfzPfG/Fy71NlnttsmlttdIHy6H5mAcfA7xex022Ow3X7Dx76d77wjebhZKCW0XUtc7RVsa4GmOpw5bmg4c5uMZ2+xYi1+iG98fcPt4rs90p66oqXvNXBUnlyNm1eLDtwc5yM42KDEvvEL2aRZ7az+0c/LWPyW5/uva9j3dfek12ilZVtFpt0ZqHtc1zGPzABjws8WwON856lfK8WassNfJQV7YmVEftNjmZIB7stJGVxILGpu0U7qottNuh57GsAjY8CHHzmZcdz3zle33mF800gs9saJIeSGNY/TGfpt8ftf09yrEQWkd5hZJA82a1vEUJiLXMfiU7eN3j9rbtgb9F5iu8Ub6NxtFteKZha4OY/FRkYy/xbke7CrcplBYR3WOOOnYbVbnmGUyFzmPzKDnwO8W7RntjoN1IusQJPwVbv/U+sY0P6fVe17Hu6+9V2UygsZLtHJFUsFqtzDPKJA5rH5hAx4G+L2du+Tud16mvMUzqsizWyP1hga0MY8CAgdWeLYnvnKrMplBZy3iGR9Q8We2RiaIRBrI34iO/jb4tnb98jbojLzEyWKQ2a1uEcPJLHMfh5+sd4/a269N+irMplBZU13ipzSl1ots3IY5jhIx55xPzn4cMkdsYXmG6xQx0rDarfIYJC9znsfmfOfC/DugztjHQKvypQWLbvE1uDaLa7+0c/JY/p9X7Xse7r71D7rE6OZgtVuaZZxMHNY7MYyPA3xezt3ydzuq9EFjNd4pfXMWm2x+shoboY/8As5A6x+LbPfOUkvETzUkWi2s58QjaGsf/AASAfGzxbOOe+Rt0VaiCzbeYWzMk+BrWQ2Dk6Cx+lx+sPj9v39PclPeYYPVtVmtc3Ijcx3MY884nHifh25GNsY6qsRBYw3eKJtIDaLbJ6sXFxex+Z89n+LfHbGEF3iEbWfBNtOKjn6ix+SM/3Z8Xsf196rl02+1112nEFvo6irlPzIYy8/jjog+5usRiewWq3AuqOeHBj8tGR/DHi9j3dd+qie6xzNrA2026L1ktLTGx49Xx9X4ts985VoODDQ7328W20Y6wuk58/wD+uPOPxIUet8I23/09vuN5mb8+slFPCT/oZl2PtcEHBLeIqh1Q1lktjHVEQiYI435iIz4mDX7RzvnPQbK9p7Feqktq38K26ipnU/JElaHU8P8A+TMjxl/2ZHuXA7jq7QtMdrZR2aMjGm307Y3Y98hy8/8AkqKqqqitlM1VUTVEh6vleXOP4lBr4afhy3OpfhW4WeY08bo3RW2llqDMSManvLms1DsQce5d0lZwLS8JNmFg5tWWSU9I6Wq/jzvOxmlYzwtDew7n+a/PsY2RARSowgIiICIiAiIgIiICIgCAAhUoUHkqz4V+VFn+/QfqNVarLhb5UWf79B+o1BqfTdLJLx/WGQ2o6RpHwecjGt2OZ/mfSXJwr6TbpwhwrXWa3ECSqrI59T2hzRGGkPaR/wB2Gg+7K7fThDPFx/Viot9BQlzdTBSHIlaXuxI/YeM91gEGjvNmo66gdf7AwtowQKuizqfQPP8AzGT0d26HdZ0Lts14rLFXsraJ4a8Atex41MlYerHt+c09wuu4U9Ddri59hp5YY3QOqZaaQjEBa0ue1rs+JoAyM79kFQisqrhq8UQYZ7bVNL4PWdPKdqZHqLdThjLRlp6r5S2W409NLU1FJNBHEGOdzWlhIeSGkA9QcHdBxIrOLhq7SwtmNFLEx7mNYZWlmvUHFpGeowx248l8zYboyLmSUFTE0sbI3mROaZGuc1oLcjfdzenmg4EVnBwxep5xCLZVRuL+WTLGWNa7GrSSdgcDoV4ttguV2p5KmkpJH08bmsdNjDA5zmtAz55e3brugr0Xa2yXR4BbbaxwdGZQRC4gsHVw26bjfovqOGryWNPwZWanloZHyXa35a5wLRjJGGuOR5IK1FZfFu8CV0LrZWMmDWuET4XB7wXaRpbjJ3UwcMXupqG08dpruYZWwYdC5oa92MNJI2O46+aCsRdzLDdpXRtjtdc8ylzY9MDjrLfaxtvjBz5LicxzHOY9pa5pwQRgg+SCMoiICKztHDV1vjXS0dKfV2f3lTK4Rwx/6pHYaP5qxNJwvYx/a6ua/VY6wUZMVM0++UjU7/aB9qCgpaWorZ209LBLUTO9mOJhc4/YBur4cFvoMP4hudHZmnfkvdzqk/8AxMyR/uLV8qnjS5ugdS24QWejdsYbezlFw/7n+2/8SqE7kk7k7knug0fwrw1atrdZpbnMOlTdH4ZnzELDj/ycVy3DjC93KA0r650FGelJStEEIH+hmAfxyqZEEAAdBhSiIC01stlJw/QxXy+QtmllGu321/8Aj+Usg7Rg9B1d9izIJBBHULpuFwq7rVyVldO+eokxqe877bAe4AdkEXCvqLpWzVtXJzJ53l73YwCfcB0HuXOApwiAiIgghFKghAREQEREBEQIAUoiAhRQUBWXCvyos/36D9RqrCQO6s+FT/8AU9n+/QfqNQaf01UjKTj6tDLO+18zMha6Xmc8l7v43U41eXZYULcemeA0/HtcDTXKn1EvxWy8wvy93iZvtGew7LDhBK6rdcZbZUOnhDC90UkPiGRh7C0/jgrlTCDWT+ki6TvqHCmpIhPDynCMyNwdUjtYOvOcyv26b9FyXnjWsvlM+mqKOijidCyENia5ujS8vDh4tt3OGOmD0WewiDS/Huu57qj1Oi5zzG978P8AE9jXNDsasAlryCBt7lMfpAu0TWhjKbLXMc0lpONJhI7/AOQz+ZWZRBqqP0h1tvpzTUttt8MJnE5aBIc/9pJfkj3nf3rjtHGVbZqBtFBTUrmMnE0bnhxcz+JG/Ts7BGYm9QT13VCiDTS8e1tRbRbpqGhkp+RyHahJreAWlpLtWdi0YGcddl8Wcb3JklXIGU+qqILtneHED4Rjfbwvcftws+iDUN9Il2bVetcqldIC47h3d+vz8wvUHpGulPSxU7aWizGYP4ha7U4RGMtDvFv/AHTf5nGFlUQaF/G9wdRNpGQUsTGxPh1MDtRaWPYOrvmte7GOvfKzy7bTZrhfKn1a30z53ganEYDY2/Sc47NHvJVyW8PcMncxcQ3JvbcUUJ/o6U/yb9qCus/DFxvMTqmJkdPQxnEtbUv5cEf2uPU+4ZPuXearhqwbUdOb/Wt/+4qmmOlYfNsedT/9xA9yqrxfrjfpWSXCpdK2MYiiADY4R5MYNmj7FwILC78Q3S+uabhVvlYzaOEAMijHk1jcNH4BV6YUoIwmFKIGEwiIGyv4bHS2uzG6XsSCWrjIt9E12l8mRjnP+jGO30j7lW2etpbdXsqquhZXNjBcyF7sML8eEu82g7kbZXzuVyq7vXS11dM6aomOXOP9AB2A6ADog5kREBERAREQEREEEIpUFAREQFKIgIiIChSoQbbhjiyyWnh2KhrqeSWdtWJnYhDhjmRuzucHDWu7Z3xnBKWq+WSs46op5LZLcObUUUcc7pjTkSNDGukLQDqy4atz/wArEFWfCvyns/36D9RqDS+mZ8L+Pa7kyXWQAkO+EAQQ7W7Ijz/h/RWHW99N0/rHH1WfhWS5aRo1Ph5fIw938IbDUG/S7rBoAUoEQEREBERBCIiAiLpttsrLxWR0VBTvqKiToxg7dyT2A7k7BBzLRU/DNPa6aO4cTTSUkTxqhoI8etVA88H+7YfpO38gV9zV2zg3LLe6C6XtvtVpAfT0p8ogfbcPpnYdh3WaqqqetqJKmqmknnlOp8kji5zj5klBa3fiipuNMLdSwxW21tOW0VPkNcfpSO6yO97vwwqZFOEEYUoiAiIgIiICsayx1NvtVLcKp0cPrZJgp3E818eP7zHZpOwJ69l12H4Jt9PJd7iY6yeJ+iltxziR+M65P8seXzjt0yqy5XKrvFdLXV0zpqiU5c4/0AHYDoAOiDmREQEREBERAREQEREBERBCKUQEREBERAUK74WtFNdaieStLxTUjOfLpI3aNyDvncA7jceS4Lw2lbcphRMjZT7aAyQvb7I3BO/XsenRBxKz4V+U9n+/QfqNVYVZ8K/Kez/foP1GoNT6a6x1Zx9WF14gunLBjDoowz1cB7v4Rx1LfPusIt96cDUHj+q9YfbHkN8HqPQN1uwJP8z6SwKCQiBEBERAUIUQFecN8NyXbNfUyCmtUEhbPUahqaQM4Ddydy0HAOM5Thfhp9+NVJLDO6jgjIkkgLTJGezgw7yAdS0b4/BaWO4V90gqqV9fTUNDTNay43WifmnnjDcNDY8DM5BI8JBO+e5Qcl9tPxlv07YBRwmjaDcbpGeXStbgeIsGzX9QQ0nURsFU3PiCmpaKSz8Oskp6F+1RVPGJ64j6f0WeTB+OSvhfOIW3CGO222A0Nnp3Zips5dI7pzJT855/kOgVMgKcKApQEREBERAREQF7lhlgLWyxvjLmh4D2kEtIyDv2K0VttlJYKGK+XyATSSjVQW5/+P8A5snlGOw+d9ipLnc6u8V0tdXTOmqJTlzj28gB2AGwHZByoiICIiAiIgIiICIiAiIgIiICIiAiIgKCpUILKy2b4ZkkibWMhlaMti5Msj5BgkkBjTsAN1872yihruXQBnKaxocWPe4F+Nz42tcPswrbgEUzb2Zpy8SRxPMLmOYCx+k4f42uGBjPTY4XHxdcpLnfJpJKp1WGYYyZ8rZXOHXJe0DVuT226dAgpVacK/Kiz/foP1GqryrThX5UWf79B+o1BqfTbSPpOPqwPpLdS8wcwCicSHgvd435/wAQ91hFufTVRCi4+rQLMLVzcylolEnrGXu/jbdNXl2WGQSEQIgIigoCteHbTFcqqWSsbMaGkYJKkQEc3S5waNAIOXanDA6e8KpW/ouJ7jxLRWy1UDI6a400LmVV1dljqeBmMP5jSCG6PaBzkgY3KDuppqSKkqLdaaj1KlpWA1tzaMtpYiTljNQD+a8geA+y7Ok4Jxir/f23TlUVDAaO00uRTUucnPeR5+dIe5/AbL68RX2CriitNpEkVnpXFzNft1UnzppPNx7D5o281RoCAIpQEREBEyoyglFGDgnBwOpx0RBKLSW+00djt0d5vsImfO0uoLc4kGftzZMbtjH83Hptus3+AH2IPpPUTVTxJPNJK8NDA57i4hoGAN+wC+aIgIiICIiAiIgIiICIiAiIgIiICIiAiIgKFKhBp/R9TSTXwzwRsfNTRumZrqGRYwD01ggu6YHuOVXcXOkfxJXPmmdNK54c97pGvJJaM+JoDT5bDGy6eB3f9fia71rk6Hvk9XqOQQGsJ1F2powN+65eK546niCrmi9l5aT/AB+d4tIzh+p2RnONygueGr/w/a7LBDWxVDquO4Mqn6I8h4aWgZJOC0N5nhI9ojdddvv9lreOaKd9rfcXSVVGxlU+Z0DtbQxrnlgyCS4F2/msIrThX5UWf79B+o1BpfTPHDHx7XCGkudMCSXCucSZHa3ZfHkn+GfmrELcemkwu4+reT8K4yQ74QznVrdnl5/w/orDoJCIEQFBUqEH0pqaasqIqanifLNK4MYxgyXOJwAFor9Uw8P0DuGbfK2SQuDrnVRnaaUf4TT3jYf5uyewXqgPxRsrbo7a8XJhbQjvTQHIdN7nO3a33ZPksugImFKAiIgKCUyiAu20Wma81Xq0DmMOknmSZDGnsHOAw3J2ycDdfO2WutvNW2jt9O6oqHAkMaQNvPJ2Wqt3FdFwpa2stUVQLkeZDVwVTPBuBh2WnDsEPGCBs8g5QdktZScGcK1NsAimra52iaCXUyQDByXs+bpO2MkOwCD1ziLdVsoK6CqkpYatsLg7kzZ0Px2dg7j3KxrrPNDaI7rdat0dVV6TSUzwXSSx95Dv4Wdm+fYY3VMg6rlc6u810tdXTOmqJTlzj/QAdgBsB2XMgRAREQEREBERAREQEREBERAREQEREBERAREQFClQg0PAMnK4ppHmKslaA/U2keWyY0nyc048xkLm4xa5nEla1wqQQWgmofre7wN8RIc7r1G52I3X14Qqq2G6NitttirK6Q/wnGWSJ8eAc4c17cAgnOVxcQ1FRU3WSSqpG0k2iMGJrnOwAwaTlxJOW47oK1WnCvyns/36D9Rqq1acK/Kiz/foP1GoNP6aayKs4+rTFd5bny8xudJHo5BD3ZiGwyG+fdYZb3031zK7j+rLLnBcOU3lF0MXL5JD3fwz5ub3PdYJBIRQmUAq64XtNNXVE9dcsi1W9nOqiDgyb4bE0/Sedvsyeyp4onzyMiiY58j3BrGNGS5xOAAtFxRKyz0kHC1M8OFI7m172naWqIwRnuGDwj36j3QVF5u9TfblNcKot5kp2a0YbG0bNY0dgBgD7FxIpQEREBQUKIC67TbnXStZTh5iiHjmm0lzYYx7T3Y7BRbLXWXmsZRUEJmnfkhuoNGB5kkAfit5fK6yWCw0poW0r7kIxSvjOmQStAaZBLGc6RrB2O+oagSDsHxrq6g4GonMtkbo7lVASRzseHtwHEZAcCHRPY44Oc7DIyMrM2u5UHrdXeby019Y1wfBSFmI5pDnxPIwAxuPZHXYdMrgudPXMlZVV0DonVrTUMy0ND2knxBo6DIOFyIOm43Kru9bLXV0zpqiU5c4/wBAB2A6ADYLmRSgIiICIiAiIgIiICIiAiIgIiICIiAiIgIiICIiAoUqEGm9HbWv4ljbiVsxifypWVXI5TtJ8ROh2RjthcfGsUsHFFfHNqMgc3JdI6QnwN6lzWnPuwMdMBeOFY5przHBBbIrm+aOSM08knLBBaQTqyNOOufcuS9RvjucwfRmicdL+SZTJpBaCPETk5Bz+KDhVpwr8qLP9+g/UauOnoKqrZrp6eWVvMbDljScvdnS37Tg7e5WNipKi38Y2qlrIX087K+nDo5BpcP4jeyDTem99Q/j6rNRU22oIbhhoRgMbrdhr/8AMHdYJbz0308tPx/Via20VvL262tpXBwmaXuxI7AGHu7hYIIJRF9KWmmramKmp4zJNM9scbG9XOJwB/NBoOF2ts1FVcUTtBdSn1ega4bPqnD2v/jb4vt0rOOc57i5xLnOOSScknzV/wAYVMMNRT2KikD6O0sMOtvSacnMsn4u2HuaFnwglERAREQQvcNPNUF4hikk0NL36Gl2lo6k47JByudHz+ZydQ18vGrTnfGds4X6LX3uwcIUtLNw7K+sqJY4/FJEI46iNpy1zuW/Ika4FrgQA4dQeqDmrZabgrh+lnsta6WWsk50FZHo1PLWgO1DfMZD3DQ7DmuHcFVFNFDRRDibiINrKmqOuioHYHPI25kgHsxDGAPnYx0WafNJIC1zzo1l+gbNDj1IHQdB/JeCc4z22QdNyuVXd66WurpnTVEpy5x/oAOwA2AHRcyKUBERAREQEREBERAREQEREBERAREQEREBERAREQEREBQpUINBwLMKTiOnq3SsibCHEuMwjd7J6EvZj7c4HcHouLiiTncQV0uqVwfJqBlqGzuIIBGZG7O28lY8A1MkN85Mc7Kc1ET4y98zY26dJyCXNcN9lxcXlp4jrHR1JqmOLXNmL9Zc0sBGTgdtsduiDtsXGTLLbYaJ1opqh0FS2qjnL3NeH6m5z1G7W6Rttk9VbcM8f3CLiqijoaajhpqmppICyogZO8NYGRjD3NyDhudsbrBq04V+VFn+/QfqNQaj02UrqTj+tD7NHauYDIGslEnrAL3fxjjoXeXZYQLc+miGGHj6uENBcKIOJc4Vjy4yuL3ZezJOGHsNvsWFQelpOFT8D0Nw4md4ZKQerUJPepkBGr/YzU77dKze52AJPYDutJxcfguK38Nxn/26LmVWPnVUmHPz/pGln+0oM39pJ+1SoUoCIiAiIghaO222ksNFFe73C2aSUaqC3P8A8fylk8oh5dXfZlUEEpp545gyN5jcHhsjdTXYOcEdwvtcrlV3eulrq6Z01RKcucf6ADsANgOyD4TzOqJ5JnhgfI4vIY0NbknOwGwHuXhThEBERAREQEREBERAREQEREBERAREQEREBERAREQEREBERAUKVCDQ8BM18SwjSx2IpjvjUP4bt2Z21+We6jj2jnpeJal8sMcbJtL4zGQQ5ukDO3fOc+/K+HB9FQ3DiGmp7lA+eldqL2MdpJw047jb8V8OJbfDa73VUdPFLFHEWgNlxq9kEnqdiSSN+hCCrVpwr8qLP9+g/UaqtWnCvyos/wB+g/Uag03poz8fa7L7u/r/AO4jBHjdtH/lfRWFW79NVTHU8fVpjulTcQzLC6ePQYSHuzE3YZa3sd8+awiDQ8FU0Lru+51bQ6ktMLq+UHo8sxy2f7nlg+zKpKqqlramaqncXzTPdJI493E5J/mVfzj4I4Hp4ek97qDUP8xBES1g+xzy8/7Qs4gBSiICIiB0VybFFQWT4Rukr4ZqpuaClYBrlGd5X59mPqB3cem2657HV26gqnVVwpHVhiZqggO0b5M7czvpHXA64wue5XGru9bLXV0zpqiU5c4/0AHYAbAdkHMiIgIiICIiAiIgIiICIiAiIgIiICIiAiIgIiICIiAiIgIiICIiAoKlEF9wbQz1NfNURw1UjIInBzqanFQ+NzmkMdyz7Q1dVw8Q+sm81Prc1TNPkan1EHJefCMZZ83bAx5YXHHVTwRSwxSuZHLp1gfOx0/5XyJLjkkk+ZQeVacK/Kiz/foP1Gr4UtluVbTmppaCqngEgi5kcZc3WSAG5HfJH8wu2wUlRQcYWmmq4JIJ2V1PqjkbpcMvaRt9iDSem+qmquP6szXaluZY3Q10DA0QND3Yidjq5vcrEUNFNca2noqdpdNUSNiYB9JxwP8Albf041E8/pAqzUV1uqyxuhhohgRtD3YY/f2x3VNwODRVNffyBptFI+ZhPQzP/hxD/wAnav8Aag+PGtZDVcQzwUrg6koGsoacg7FkQ05/Egu/FUSb9ySfMoglERAXZWWmsoKSkqqqMRMq2l8LXOGtzB87T1DT2J64KsbNBbbbR/DVz5NW8PLaS3h2ea8fPlx0jHl1cfcqu43Kru9bLW1szpqiU5c4/wBAB2A6ADog5kREBERAREQEREBERAREQEREBERAREQEREBERAREQEREBERAREQEREBERAKhSoKDQcP8VRcP0YZFQyPqvWWTPl5+GvjaQeWW6TgZGcgjJxnOMKzsHGVRJxfbjTUVDHDNU0kIbUU8dRIxrAyMYe5uQcNztjdYsqz4W+VFn+/QfqNQaz05wTQekCqE1Bb6IuZraKN2RK0vdh79h4z3VHUf9L4DpIBgTXirdUv8+TCNDPwL3Sf+KuvTdbm0fpBqo4LR8HGcczSJhJz3Oe7+Lt01fR7Kj47cIL421RkGK008VA3B2LmDLz+L3PQZ5SoUoJ7J0WjtltpbFRRXu9wiZ8o10Fuf/j/5knlGD2+d9mVSV9fUXStmrauTmTzO1PdjG/uA6D3IOfCIiAiIgIiICIiAiIgIiICIiAiIgIiICIiAiIgIiICIiAiIgIiICIiCFKhAglERAQohQeSrPhX5UWf79B+o1Vis+FvlRZ/v0H6jUH6JxfbaRvpmMjrVV0NLTF9xqW1L9fObGXyGRu5wxxaABt16L8sqamWtqZqqZxdLPI6V5Pdzjkr9X9JL46O6cX3SGa6yOlEdrYbgCC10krnyCPP+GGx4GPpL8jQSFK0FPZKS02Y3S+h5lq43CgoWu0vkztzn/RjHbu4+5Z9B019fVXSqfV1s755341Ped8AYA9wA7LnREBERAREQEREBERAREQEREBERAREQEREBERAREQEREBERAREQERQUDuiIgIiIAKlQpBQFBUqCggqz4W+U9n+/QfqNXBDBLUzMggjfLLI4MYxgyXE9AArWw0dRb+MLTTVcEkEzK6n1MeMEZe0j+hQb70+VTYrjS2+K41lcJp6itkNSMGM6+W2NowPC3Q/HuK/NbLW0ttuEdXV0LK9kQJbBI7DHPx4dXm0HcjbK3/p6gqZuNKy5Vc8UbHPbTUtM4nmuiY3eTHZusuAz17bL8yQddyudZea6aur53T1Exy55/oAOwA2AHRcygIglMqEQTlTleUQespleUQesqMqEygnKnK85RB6ymV5RB6yoyoRB6ymV5RB6ymV5RB6yoyoRB6ymV5RB6ymV5RB6yi8qUEooypQERCUEEoiICIiAiIgIiIAKkqEyg67RcXWm6Ule2MSGnlbJoJwHYPTPZaaw8W1snF9LPQUERic+maYXUzKmRsULWtyHObkHS0kkYWOXfY7qLPXGodBz2Phkgkj16SWvYWnBwcHB8ig1HF3pGvFdxPdJtNC9nrMjY/WrZAZWsDiGtdqYTkDA3VR8erv9TZ/yqm/bVRda511udXXvYI3VMz5iwHIbqJOP6rmQaD49Xf6qz/lVN+2nx6u/1Vo/Kqb9tZ9EGg+PV3+qtH5VTftqz4c4pvNwusGu3W6qpIZGSVTYrRTuIi1DV0ZnpnpusYrOxXeGzyVEr6R880kRjikZNoMBPV4y1wJxkDyztug0XEvFN4t91qHxWy30lDPK+SjE1np2l0Orw9WZ6Edd91VfHu8fVWj8qpv218eJOJTxF6vmkbTmLU5+JC7W9zWNJGwwMMbtv33VGg0Xx7vH1Vo/Kqb9tPj3ePqrR+VU37azqINF8e7v9VaPyqm/bXdY+NLlPdKd1VRWuaihe2arDLTTnEDXDWdmZ6f8rHq3sHEIskdZDJbaSuhrI+XI2fUCBg4wQfMg4OfZCC+4j4pvdvuk7m2230lHPI+SjEtnp2l0Jd4erM9MdVWfHu7/AFVo/Kqb9tc3EXEh4gFKPVG0wgDi7Ehfre4NBPQYHgG2/wBqpkGi+Pd4+qtH5VTftp8e7x9VaPyqm/bWdUoNB8e7v9VaPyqm/bVjw/xrXy3eldW0drmoIZGzVjWWmnJEDXDWdmZ6LGq64e4ibYYbhE6ghrG1sIicJCNgMnByDkZwSNj4RuEF1xDxTe7dc5v+m26kpZ3vkpWy2inaTCXHSd2Z6YVZ8e7v9VaPyqm/bXPxJxG7iF9O40rabkhxcA8u1vdjUegwNhgf1VMg0Px7u/1Nn/Kqb9tT8e7v9VZ/yqm/bWdUhBofj1d/qrP+VU37a67XxTxFdatsFHbrdVPHidHFaKdx05Gekfv/AKrJ4V3wlxM/hS5urmUrakuj5eku048TXZzg92+XfbB3QXnEnFN3pLjNUU1st9NbKmV7qIy2enbqizlvVmehHXzVT8erv9VaPyqm/bXxvvEzr5R0lO6kbA6DBe8PLuYRGyMYGNhpjHnvlUqDQfHm7/U2j8rpv20+PN3+ptH5XTftrPog0Hx5u/1No/K6b9tX3Dl6vdVdbd8I2aknt9WJHYjs8GZWNBBLSGA7EjcLArQ2fi91rgpad9GKiKBszHDmlpeJHRu2ODjBjHn1KCoqrRcKCmiqKuiqIIpSWsfIwtDiOoXMFe37ix9+oWUz6NkL+cJpJGvJDyGlrQBjbAPmc+5UKASiIgIiICIiAiIgIiICIiAiIgYTCZUoGEwiIIwilEELWW21WKvorJSSSQQ1VXzX1MpeQ5jWvfjxF+lpIaAAWb56rJ4UIN2/guxSPdBFdYg2BtU3n+sMAleyXDNWScAswdhuuObg+0jiKzWuluktXFXM1SyRuj2OknwnoM46O6LIYC9RSPheJInujeOjmnBH4oN1DwLw7IX6r88BtRy8tlhJxkDRjO7sEnUPD4e6R8KcOxQPikrYpqhta2Jr2VTdIi57WOc7pq8LuwHdYPA8kwEG3puD+GamqjZ8PuDJaU1QDXR6meJrdBztqB5hI7gDzyquxWKzXCGibVVs0dRUzzMdiWNjI442ggnIJ1OyQO2yzmAmAg354L4ZkqvVheXNbCKgPmbNGTMWzBrcAnAwwh3v7d1WcPUNnlhswuNPFJFUVlVFNIZOWQBHHoJI7DJIHclZPAKYQaDh/h62XWCqdPdmxyQ0hma0kRNEm/hJcN+nzR+IWhrvR7YKKpnhkvksT4qd0nJfJEZCQ4DOxwBg50nDl+fEA9QF6lkfPI6SV75HuOXOecknzJKDa0PDfD1NdImVdR6zR/wHlzqiMc4Oa8uLdJ8Lchowd/sXyi4YskgpJ/XWuEz4mSNE7AyAOijcdQLtRJc5w22Gk5WNwEwEG8h4WsLjS3GnlmMTZKGI073tkbNJK1hIyBsBibUDuMDzVRT2y30vEktJc6bFHVcw0zxKGtjYXkNkznoGtd//AArO8yTl8rmP5erXoycaumcea8kl2MknAwM+SC24nttNa7q6Ojngmp5GiWPku1BjTnDScnfAz+PboqlAEwgJhSiBhMIiCMImUQEREBERAREQEREBERAREQEREBERAREQMqURAREQEwiIIREQEREBERAREQEREBERATCIglERAREQRlERAREQEREBERAREQEREH//2Q==)\r\n",
        "\r\n"
      ]
    },
    {
      "cell_type": "markdown",
      "metadata": {
        "id": "T-Nz5FNy-mwG"
      },
      "source": [
        "**Plot the ROC Curve**"
      ]
    },
    {
      "cell_type": "code",
      "metadata": {
        "id": "5r8lDOgFHnQU"
      },
      "source": [
        "from sklearn import metrics"
      ],
      "execution_count": 75,
      "outputs": []
    },
    {
      "cell_type": "code",
      "metadata": {
        "id": "OPhNCKhfGW-U",
        "outputId": "5477f037-9133-4a01-eb1d-71509c4e04e2",
        "colab": {
          "base_uri": "https://localhost:8080/",
          "height": 297
        }
      },
      "source": [
        " metrics.plot_roc_curve(logmodel, x_test, y_test)"
      ],
      "execution_count": 76,
      "outputs": [
        {
          "output_type": "execute_result",
          "data": {
            "text/plain": [
              "<sklearn.metrics._plot.roc_curve.RocCurveDisplay at 0x7fb38d992e80>"
            ]
          },
          "metadata": {
            "tags": []
          },
          "execution_count": 76
        },
        {
          "output_type": "display_data",
          "data": {
            "image/png": "[encoded data removed]",
            "text/plain": [
              "<Figure size 432x288 with 1 Axes>"
            ]
          },
          "metadata": {
            "tags": []
          }
        }
      ]
    },
    {
      "cell_type": "markdown",
      "metadata": {
        "id": "0C-qhbNiGsjs"
      },
      "source": [
        "**Observation**\r\n",
        "1. TPR -The true positive rate is the proportion of observations that were correctly predicted to be positive out of all positive observations (TP/(TP + FN))\r\n",
        "2. FPR -  proportion of observations that are incorrectly predicted to be positive out of all negative observations (FP/(TN + FP)).\r\n",
        "\r\n",
        "\r\n",
        "\r\n",
        "\r\n",
        "\r\n",
        "\r\n",
        "\r\n",
        "\r\n"
      ]
    },
    {
      "cell_type": "code",
      "metadata": {
        "id": "xtRSukb1GrMS"
      },
      "source": [
        ""
      ],
      "execution_count": null,
      "outputs": []
    },
    {
      "cell_type": "markdown",
      "metadata": {
        "id": "RHyTddp3wByT"
      },
      "source": [
        "# Conclusion..."
      ]
    },
    {
      "cell_type": "markdown",
      "metadata": {
        "id": "9MuXzTC6-Od8"
      },
      "source": [
        "What does the AUC value mean?"
      ]
    },
    {
      "cell_type": "code",
      "metadata": {
        "id": "kBMRLgznvcfn"
      },
      "source": [
        ""
      ],
      "execution_count": null,
      "outputs": []
    }
  ]
}