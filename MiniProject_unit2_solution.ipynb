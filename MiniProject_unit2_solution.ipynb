{
  "nbformat": 4,
  "nbformat_minor": 0,
  "metadata": {
    "colab": {
      "name": "MiniProject_unit2_solution.ipynb",
      "provenance": [],
      "collapsed_sections": [],
      "include_colab_link": true
    },
    "kernelspec": {
      "name": "python3",
      "display_name": "Python 3"
    }
  },
  "cells": [
    {
      "cell_type": "markdown",
      "metadata": {
        "id": "view-in-github",
        "colab_type": "text"
      },
      "source": [
        "<a href=\"https://colab.research.google.com/github/neilsubick/data_analytics/blob/main/MiniProject_unit2_solution.ipynb\" target=\"_parent\"><img src=\"https://colab.research.google.com/assets/colab-badge.svg\" alt=\"Open In Colab\"/></a>"
      ]
    },
    {
      "cell_type": "markdown",
      "metadata": {
        "id": "eyOFW9MkrE38"
      },
      "source": [
        "Ask the user for a number. Depending on whether the number is even or odd, print out an appropriate message to the user.  Hint: how does an even / odd number react differently when divided by 2?\r\n",
        "\r\n",
        "**Bonus:**\r\n",
        "* if the number is a multiple of 4, print out a different message.\r\n",
        "* Ask the user for two numbers: one number to check (call it num) and one number to divide by (check).  If check divides evenly into num, tell that to the user.  If not, print a different appropriate message.\r\n",
        "* Write a custom function for finding whether the number is even or odd and call it in your main program code.\r\n",
        "\r\n",
        "\r\n",
        "\r\n",
        "\r\n",
        "\r\n"
      ]
    },
    {
      "cell_type": "code",
      "metadata": {
        "id": "l3PpjTi8q3zC",
        "outputId": "e760a7e7-d9ad-4711-e185-87bf34b953a5",
        "colab": {
          "base_uri": "https://localhost:8080/"
        }
      },
      "source": [
        "num = int(input('Enter a number: '))\r\n",
        "\r\n",
        "if num % 4 == 0:\r\n",
        "    print('The number you input is a multiple of 4')\r\n",
        "    \r\n",
        "elif num % 2 == 0:\r\n",
        "    print('The number you input is an even')\r\n",
        "else:\r\n",
        "    print('The number you input is an odd')\r\n",
        "\r\n",
        "num = int(input('Enter the first number: '))\r\n",
        "check = int(input('Enter the second number: '))\r\n",
        "\r\n",
        "if num % check == 0:\r\n",
        "    print('The first number could be divided evenly by the second number')\r\n",
        "else:\r\n",
        "    print('The first number couldn\\'t be divided evenly by the second number')"
      ],
      "execution_count": 13,
      "outputs": [
        {
          "output_type": "stream",
          "text": [
            "Enter a number: 4\n",
            "The number you input is a multiple of 4\n",
            "Enter the first number: 9\n",
            "Enter the second number: 8\n",
            "The first number couldn't be divided evenly by the second number\n"
          ],
          "name": "stdout"
        }
      ]
    },
    {
      "cell_type": "markdown",
      "metadata": {
        "id": "j0aCubXkEui8"
      },
      "source": [
        "Make a two-player Rock-Paper-Scissors game. (Hint: Ask for player plays (using input), compare them, print out a message of congratulations to the winner, and ask if the players want to start a new game)​\r\n",
        "\r\n",
        "\r\n",
        "*  Remember the rules:​\r\n",
        "*  Rock beats scissors​\r\n",
        "*  Scissors beats paper​\r\n",
        "*  Paper beats rock\r\n",
        "\r\n",
        "\r\n",
        "\r\n",
        "\r\n",
        "\r\n",
        "\r\n"
      ]
    },
    {
      "cell_type": "code",
      "metadata": {
        "id": "ZwF9wr3eE7Fa",
        "outputId": "392db34d-3499-4405-d4a7-7858c43dbacb",
        "colab": {
          "base_uri": "https://localhost:8080/"
        }
      },
      "source": [
        "import sys\r\n",
        "\r\n",
        "user1 = input(\"Player 1, What's your name? \")\r\n",
        "user2 = input(\"Player 2, What's your name? \")\r\n",
        "user1_answer = input(\"%s, Choose rock, paper or scissors? \" % user1)\r\n",
        "user2_answer = input(\"%s, Choose rock, paper or scissors? \" % user2)\r\n",
        "\r\n",
        "def compare(u1, u2):\r\n",
        "    if u1 == u2:\r\n",
        "        return(\"It's a tie!\")\r\n",
        "    elif u1 == 'rock':\r\n",
        "        if u2 == 'scissors':\r\n",
        "            return(\"Rock wins!\")\r\n",
        "        else:\r\n",
        "            return(\"Paper wins!\")\r\n",
        "    elif u1 == 'scissors':\r\n",
        "        if u2 == 'paper':\r\n",
        "            return(\"Scissors win!\")\r\n",
        "        else:\r\n",
        "            return(\"Rock wins!\")\r\n",
        "    elif u1 == 'paper':\r\n",
        "        if u2 == 'rock':\r\n",
        "            return(\"Paper wins!\")\r\n",
        "        else:\r\n",
        "            return(\"Scissors win!\")\r\n",
        "    else:\r\n",
        "        return(\"Invalid input! You have not entered rock, paper or scissors, try again.\")\r\n",
        "        sys.exit()\r\n",
        "\r\n",
        "print(compare(user1_answer, user2_answer))\r\n",
        "prompt = \"Do you want to play again? \"\r\n",
        "message = \"\"\r\n",
        "\r\n",
        "while message != 'no':\r\n",
        "  message = input(prompt)\r\n",
        "else:\r\n",
        "    print(\"Done!\")\r\n",
        "\r\n"
      ],
      "execution_count": 10,
      "outputs": [
        {
          "output_type": "stream",
          "text": [
            "Player 1, What's your name? Jay\n",
            "Player 2, What's your name? Mark\n",
            "Jay, Choose rock, paper or scissors? rock\n",
            "Mark, Choose rock, paper or scissors? rock\n",
            "It's a tie!\n",
            "Do you want to play again? no\n",
            "Done!\n"
          ],
          "name": "stdout"
        }
      ]
    }
  ]
}