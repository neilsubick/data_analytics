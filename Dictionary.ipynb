{
  "nbformat": 4,
  "nbformat_minor": 0,
  "metadata": {
    "colab": {
      "name": "Dictionary",
      "provenance": [],
      "authorship_tag": "ABX9TyNJiyllXp4l873l/iD6xWGd",
      "include_colab_link": true
    },
    "kernelspec": {
      "name": "python3",
      "display_name": "Python 3"
    }
  },
  "cells": [
    {
      "cell_type": "markdown",
      "metadata": {
        "id": "view-in-github",
        "colab_type": "text"
      },
      "source": [
        "<a href=\"https://colab.research.google.com/github/neilsubick/data_analytics/blob/main/Dictionary.ipynb\" target=\"_parent\"><img src=\"https://colab.research.google.com/assets/colab-badge.svg\" alt=\"Open In Colab\"/></a>"
      ]
    },
    {
      "cell_type": "code",
      "metadata": {
        "colab": {
          "base_uri": "https://localhost:8080/"
        },
        "id": "od1Sh1v0RxTC",
        "outputId": "fe53d546-dc72-47e6-bf04-bee4046f4642"
      },
      "source": [
        "patient = {'firstame': 'John'}\r\n",
        "patient"
      ],
      "execution_count": 1,
      "outputs": [
        {
          "output_type": "execute_result",
          "data": {
            "text/plain": [
              "{'firstame': 'John'}"
            ]
          },
          "metadata": {
            "tags": []
          },
          "execution_count": 1
        }
      ]
    },
    {
      "cell_type": "code",
      "metadata": {
        "colab": {
          "base_uri": "https://localhost:8080/"
        },
        "id": "dBys6dXZSK_-",
        "outputId": "1055a863-03c9-492a-b588-b394fbfeb606"
      },
      "source": [
        "patient_1 = {'firstname':'John','lastname':'Kimble'}\r\n",
        "\r\n",
        "print(patient_1['firstname'])\r\n",
        "print(patient_1['lastname'])\r\n",
        "patient_1"
      ],
      "execution_count": 4,
      "outputs": [
        {
          "output_type": "stream",
          "text": [
            "John\n",
            "Kimble\n"
          ],
          "name": "stdout"
        },
        {
          "output_type": "execute_result",
          "data": {
            "text/plain": [
              "{'firstname': 'John', 'lastname': 'Kimble'}"
            ]
          },
          "metadata": {
            "tags": []
          },
          "execution_count": 4
        }
      ]
    },
    {
      "cell_type": "code",
      "metadata": {
        "colab": {
          "base_uri": "https://localhost:8080/"
        },
        "id": "fYwTdRx8U4rF",
        "outputId": "e19821c2-a646-4c0c-c9d7-02618fc8a2f1"
      },
      "source": [
        "patient_1 = {'firstname':'John','lastname':'Kimble'}\r\n",
        "print(\"Good Morning, \" + patient_1['firstname'] + \" \" + patient_1['lastname'])"
      ],
      "execution_count": 8,
      "outputs": [
        {
          "output_type": "stream",
          "text": [
            "Good Morning, John Kimble\n"
          ],
          "name": "stdout"
        }
      ]
    },
    {
      "cell_type": "code",
      "metadata": {
        "colab": {
          "base_uri": "https://localhost:8080/"
        },
        "id": "1jrplOWnUIlZ",
        "outputId": "dcebda37-4094-4efc-8aef-ddb081d13949"
      },
      "source": [
        "patient_1 = {'firstname':'John','lastname':'Kimble'}\r\n",
        "\r\n",
        "patient_1['MRN'] = '000000'\r\n",
        "patient_1['last_exam'] = 'echo'\r\n",
        "\r\n",
        "patient_1"
      ],
      "execution_count": 17,
      "outputs": [
        {
          "output_type": "execute_result",
          "data": {
            "text/plain": [
              "{'MRN': '000000',\n",
              " 'firstname': 'John',\n",
              " 'last_exam': 'echo',\n",
              " 'lastname': 'Kimble'}"
            ]
          },
          "metadata": {
            "tags": []
          },
          "execution_count": 17
        }
      ]
    },
    {
      "cell_type": "code",
      "metadata": {
        "colab": {
          "base_uri": "https://localhost:8080/"
        },
        "id": "8PacNdCeW9Oi",
        "outputId": "5b6e1ba3-798e-4a8d-8f19-35e1d219eaf8"
      },
      "source": [
        "patient_2 = {}\r\n",
        "\r\n",
        "patient_2['firstname'] = \"Jean\"\r\n",
        "patient_2['lastname'] = \"picard\"\r\n",
        "\r\n",
        "patient_2\r\n",
        "\r\n",
        "patient_2['lastname'] = \"Picard\"\r\n",
        "\r\n",
        "print(patient_2)"
      ],
      "execution_count": 20,
      "outputs": [
        {
          "output_type": "stream",
          "text": [
            "{'firstname': 'Jean', 'lastname': 'Picard'}\n"
          ],
          "name": "stdout"
        }
      ]
    },
    {
      "cell_type": "code",
      "metadata": {
        "colab": {
          "base_uri": "https://localhost:8080/"
        },
        "id": "p6rKvtLCX_uu",
        "outputId": "98a71569-d0a2-4d3d-90c1-84c53cfcdcb2"
      },
      "source": [
        "patient_2 = {}\r\n",
        "\r\n",
        "patient_2['firstname'] = \"Jean\"\r\n",
        "patient_2['lastname'] = \"picard\"\r\n",
        "\r\n",
        "patient_2\r\n",
        "\r\n",
        "patient_2['firstname'] = \"jean\"\r\n",
        "\r\n",
        "print(patient_2)"
      ],
      "execution_count": 21,
      "outputs": [
        {
          "output_type": "stream",
          "text": [
            "{'firstname': 'jean', 'lastname': 'picard'}\n"
          ],
          "name": "stdout"
        }
      ]
    },
    {
      "cell_type": "code",
      "metadata": {
        "colab": {
          "base_uri": "https://localhost:8080/"
        },
        "id": "9jr1SqUFZBlj",
        "outputId": "3b7f6bc5-c0ff-4152-c409-14479030ed91"
      },
      "source": [
        "del patient_2['firstname']\r\n",
        "\r\n",
        "print(patient_2)"
      ],
      "execution_count": 22,
      "outputs": [
        {
          "output_type": "stream",
          "text": [
            "{'lastname': 'picard'}\n"
          ],
          "name": "stdout"
        }
      ]
    },
    {
      "cell_type": "code",
      "metadata": {
        "colab": {
          "base_uri": "https://localhost:8080/"
        },
        "id": "YvZgZnqYZxzY",
        "outputId": "802990df-fe61-49d9-ca75-09bcaafb35e7"
      },
      "source": [
        "patient_3 = {\r\n",
        "    'name' : 'sparrow',\r\n",
        "    'mrn'  : '000000',\r\n",
        "    'dob'  : '02231845',\r\n",
        "}\r\n",
        "\r\n",
        "print(patient_3)\r\n",
        "\r\n",
        "print(\"Patient_3 DOB is \" + patient_3['dob'])"
      ],
      "execution_count": 24,
      "outputs": [
        {
          "output_type": "stream",
          "text": [
            "{'name': 'sparrow', 'mrn': '000000', 'dob': '02231845'}\n",
            "Patient_3 DOB is 02231845\n"
          ],
          "name": "stdout"
        }
      ]
    },
    {
      "cell_type": "code",
      "metadata": {
        "colab": {
          "base_uri": "https://localhost:8080/"
        },
        "id": "CN9g2Re9a64i",
        "outputId": "6f16a286-abdf-4114-a7e8-dc0dc150ec27"
      },
      "source": [
        "friendA = {\r\n",
        "    'firstname' : 'Nick',\r\n",
        "    'lastname'  : 'Singh',\r\n",
        "    'age'       : '26',\r\n",
        "    'city'      : 'Jamaica',\r\n",
        "    'Tel'       : '333-566-7788',\r\n",
        "}\r\n",
        "\r\n",
        "print(friendA)"
      ],
      "execution_count": 25,
      "outputs": [
        {
          "output_type": "stream",
          "text": [
            "{'firstname': 'Nick', 'lastname': 'Singh', 'age': '26', 'city': 'Jamaica', 'Tel': '333-566-7788'}\n"
          ],
          "name": "stdout"
        }
      ]
    },
    {
      "cell_type": "code",
      "metadata": {
        "colab": {
          "base_uri": "https://localhost:8080/"
        },
        "id": "HrvOEOTrcIxj",
        "outputId": "fe838ed6-1736-4240-be21-7fd2a14aef93"
      },
      "source": [
        "friendsB = {\r\n",
        "    'Joe': 33, \r\n",
        "    'Sam': 23, \r\n",
        "    'Joes': 39, \r\n",
        "    'Li': 26, \r\n",
        "    'Jay': 22\r\n",
        "}\r\n",
        "for pair in friendsB.items():\r\n",
        "  print(pair)\r\n",
        "print(friendsB)\r\n",
        "print(friendsB['Jay'])\r\n",
        "print(friendsB['Sam'])\r\n",
        "print(friendsB['Li'])\r\n",
        "print(friendsB['Jay'])\r\n",
        "print(friendsB['Joes'])"
      ],
      "execution_count": 41,
      "outputs": [
        {
          "output_type": "stream",
          "text": [
            "('Joe', 33)\n",
            "('Sam', 23)\n",
            "('Joes', 39)\n",
            "('Li', 26)\n",
            "('Jay', 22)\n",
            "{'Joe': 33, 'Sam': 23, 'Joes': 39, 'Li': 26, 'Jay': 22}\n",
            "22\n",
            "23\n",
            "26\n",
            "22\n",
            "39\n"
          ],
          "name": "stdout"
        }
      ]
    },
    {
      "cell_type": "code",
      "metadata": {
        "id": "AHdRIAPzjjn9"
      },
      "source": [
        ""
      ],
      "execution_count": null,
      "outputs": []
    },
    {
      "cell_type": "code",
      "metadata": {
        "colab": {
          "base_uri": "https://localhost:8080/"
        },
        "id": "Vz8z2-mxdlDB",
        "outputId": "f8d0c98c-e2b8-410c-a3ee-80868a00f3eb"
      },
      "source": [
        "vocab = { \r\n",
        "    'Compare' : 'note the similiarity or dissimiliarity between something.',\r\n",
        "    'Consider': 'think carefully about something, before making a decision.',\r\n",
        "    'Write'   : 'make on a surface, typically on paper.' \r\n",
        "}\r\n",
        "print(vocab)\r\n",
        "for key,value in vocab.items():\r\n",
        "  print(\"\\nkey: \" +key)\r\n",
        "  print(\"\\nvalue: \" + value)"
      ],
      "execution_count": 45,
      "outputs": [
        {
          "output_type": "stream",
          "text": [
            "{'Compare': 'note the similiarity or dissimiliarity between something.', 'Consider': 'think carefully about something, before making a decision.', 'Write': 'make on a surface, typically on paper.'}\n",
            "\n",
            "key: Compare\n",
            "\n",
            "value: note the similiarity or dissimiliarity between something.\n",
            "\n",
            "key: Consider\n",
            "\n",
            "value: think carefully about something, before making a decision.\n",
            "\n",
            "key: Write\n",
            "\n",
            "value: make on a surface, typically on paper.\n"
          ],
          "name": "stdout"
        }
      ]
    },
    {
      "cell_type": "code",
      "metadata": {
        "colab": {
          "base_uri": "https://localhost:8080/"
        },
        "id": "_qkEpSwcjlS8",
        "outputId": "3c8109ad-1167-468c-e761-8c9197b410c9"
      },
      "source": [
        "patient_3 = {\r\n",
        "    'name' : 'sparrow',\r\n",
        "    'mrn'  : '000000',\r\n",
        "    'dob'  : '02231845',\r\n",
        "}\r\n",
        "\r\n",
        "print(patient_3)\r\n",
        "\r\n",
        "for key,value in patient_3.items():\r\n",
        "  print(\"\\nkey: \" +key)\r\n",
        "  print(\"\\nvalue: \" + value)"
      ],
      "execution_count": 43,
      "outputs": [
        {
          "output_type": "stream",
          "text": [
            "{'name': 'sparrow', 'mrn': '000000', 'dob': '02231845'}\n",
            "\n",
            "key: name\n",
            "\n",
            "value: sparrow\n",
            "\n",
            "key: mrn\n",
            "\n",
            "value: 000000\n",
            "\n",
            "key: dob\n",
            "\n",
            "value: 02231845\n"
          ],
          "name": "stdout"
        }
      ]
    },
    {
      "cell_type": "code",
      "metadata": {
        "colab": {
          "base_uri": "https://localhost:8080/"
        },
        "id": "lfIUefaUlW6z",
        "outputId": "eb55a225-ecf1-4561-e7e9-8f5702204ce7"
      },
      "source": [
        "for keys in patient_3.keys():\r\n",
        "  print(keys)"
      ],
      "execution_count": 47,
      "outputs": [
        {
          "output_type": "stream",
          "text": [
            "name\n",
            "mrn\n",
            "dob\n"
          ],
          "name": "stdout"
        }
      ]
    },
    {
      "cell_type": "code",
      "metadata": {
        "colab": {
          "base_uri": "https://localhost:8080/"
        },
        "id": "9to19shDlqS-",
        "outputId": "fcf0ff89-910b-4513-9271-c48068e3e6ae"
      },
      "source": [
        "friends_age = {\r\n",
        "    'nick' : '21',\r\n",
        "    'amanda': '34',\r\n",
        "    'john' : '36',\r\n",
        "    'haley' : '26'\r\n",
        "    \r\n",
        "}\r\n",
        "\r\n",
        "friend_fav = ['john', 'nick']\r\n",
        "for name in friends_age.keys():\r\n",
        "  print(name.title())\r\n",
        "\r\n",
        "  if name in friend_fav:\r\n",
        "    print(\"Hi \" + name.title() + \". I see you are \" + friends_age[name] + \" years old.\")"
      ],
      "execution_count": 48,
      "outputs": [
        {
          "output_type": "stream",
          "text": [
            "Nick\n",
            "Hi Nick. I see you are 21 years old.\n",
            "Amanda\n",
            "John\n",
            "Hi John. I see you are 36 years old.\n",
            "Haley\n"
          ],
          "name": "stdout"
        }
      ]
    },
    {
      "cell_type": "code",
      "metadata": {
        "colab": {
          "base_uri": "https://localhost:8080/"
        },
        "id": "alFNVQDporOw",
        "outputId": "c475dcda-180a-4941-b63e-28b5ed580cec"
      },
      "source": [
        "number = 1\r\n",
        "while number <= 5:\r\n",
        "  print(number)\r\n",
        "  number +=1"
      ],
      "execution_count": 49,
      "outputs": [
        {
          "output_type": "stream",
          "text": [
            "1\n",
            "2\n",
            "3\n",
            "4\n",
            "5\n"
          ],
          "name": "stdout"
        }
      ]
    },
    {
      "cell_type": "code",
      "metadata": {
        "colab": {
          "base_uri": "https://localhost:8080/"
        },
        "id": "aqWy0an6qdWM",
        "outputId": "956f8227-38c2-4427-f40c-d002e6b05df1"
      },
      "source": [
        "prompt = \"Input a message. I will stop when you type in Quit\"\r\n",
        "message = \"\"\r\n",
        "\r\n",
        "while message != 'Quit':\r\n",
        "  message = input(prompt)\r\n",
        "  print(message)\r\n",
        "else:\r\n",
        "    print(\"Done\")"
      ],
      "execution_count": 58,
      "outputs": [
        {
          "output_type": "stream",
          "text": [
            "Input a message. I will stop when you type in QuitQuit\n",
            "Quit\n",
            "Done\n"
          ],
          "name": "stdout"
        }
      ]
    },
    {
      "cell_type": "code",
      "metadata": {
        "colab": {
          "base_uri": "https://localhost:8080/"
        },
        "id": "lRpCVwUqtNAD",
        "outputId": "7cb444bb-0511-4cfb-b09b-a53b3cdc73ed"
      },
      "source": [
        "prompt = \"Input a message. I will stop when you type in Quit\"\r\n",
        "message = \"\"\r\n",
        "\r\n",
        "active = True\r\n",
        "while active:\r\n",
        "  message = input(prompt)\r\n",
        "  \r\n",
        "  if message == \"Quit\":\r\n",
        "    active = False\r\n",
        "\r\n",
        "else:\r\n",
        "    print(message)"
      ],
      "execution_count": 60,
      "outputs": [
        {
          "output_type": "stream",
          "text": [
            "Input a message. I will stop when you type in Quit Hello\n",
            "Input a message. I will stop when you type in QuitQuit\n",
            "Quit\n"
          ],
          "name": "stdout"
        }
      ]
    },
    {
      "cell_type": "code",
      "metadata": {
        "colab": {
          "base_uri": "https://localhost:8080/"
        },
        "id": "lLuCrdNJraDw",
        "outputId": "65e7d4ec-0f10-498a-fe16-3603a5b1cbfb"
      },
      "source": [
        "message_1 = input(\"Enter your first name\")\r\n",
        "print(message_1)"
      ],
      "execution_count": 56,
      "outputs": [
        {
          "output_type": "stream",
          "text": [
            "Enter your first name Hi\n",
            " Hi\n"
          ],
          "name": "stdout"
        }
      ]
    }
  ]
}