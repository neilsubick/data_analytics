{
  "nbformat": 4,
  "nbformat_minor": 0,
  "metadata": {
    "colab": {
      "name": "Untitled3.ipynb",
      "provenance": [],
      "authorship_tag": "ABX9TyMJnkMdcDilTZZxJPqQh2DN",
      "include_colab_link": true
    },
    "kernelspec": {
      "name": "python3",
      "display_name": "Python 3"
    }
  },
  "cells": [
    {
      "cell_type": "markdown",
      "metadata": {
        "id": "view-in-github",
        "colab_type": "text"
      },
      "source": [
        "<a href=\"https://colab.research.google.com/github/neilsubick/data_analytics/blob/main/Untitled3.ipynb\" target=\"_parent\"><img src=\"https://colab.research.google.com/assets/colab-badge.svg\" alt=\"Open In Colab\"/></a>"
      ]
    },
    {
      "cell_type": "code",
      "metadata": {
        "colab": {
          "base_uri": "https://localhost:8080/"
        },
        "id": "cMBB7bC-UM0p",
        "outputId": "63fc9a71-a476-4780-ce22-c2470cbe0eb0"
      },
      "source": [
        "for  x in \"cuny\":\r\n",
        "  print(x)\r\n",
        "  "
      ],
      "execution_count": 1,
      "outputs": [
        {
          "output_type": "stream",
          "text": [
            "c\n",
            "u\n",
            "n\n",
            "y\n"
          ],
          "name": "stdout"
        }
      ]
    },
    {
      "cell_type": "code",
      "metadata": {
        "colab": {
          "base_uri": "https://localhost:8080/"
        },
        "id": "hkTRgyu2UhP_",
        "outputId": "2d380242-e51b-46be-f85c-ac6a1065232b"
      },
      "source": [
        "for y in \"analytics\":\r\n",
        "  print(y)"
      ],
      "execution_count": 2,
      "outputs": [
        {
          "output_type": "stream",
          "text": [
            "a\n",
            "n\n",
            "a\n",
            "l\n",
            "y\n",
            "t\n",
            "i\n",
            "c\n",
            "s\n"
          ],
          "name": "stdout"
        }
      ]
    },
    {
      "cell_type": "code",
      "metadata": {
        "colab": {
          "base_uri": "https://localhost:8080/"
        },
        "id": "IFOHvvtMU_Pn",
        "outputId": "99b4cec1-af5e-4c5c-d9a2-75df403452b5"
      },
      "source": [
        "fruitstoeat = ['apple', 'bananas','figs','grapes','kiwi','mangos']\r\n",
        "print(fruitstoeat)\r\n",
        "for fruits in fruitstoeat:\r\n",
        "  print(fruits)"
      ],
      "execution_count": 12,
      "outputs": [
        {
          "output_type": "stream",
          "text": [
            "['apple', 'bananas', 'figs', 'grapes', 'kiwi', 'mangos']\n",
            "apple\n",
            "bananas\n",
            "figs\n",
            "grapes\n",
            "kiwi\n",
            "mangos\n"
          ],
          "name": "stdout"
        }
      ]
    },
    {
      "cell_type": "code",
      "metadata": {
        "colab": {
          "base_uri": "https://localhost:8080/"
        },
        "id": "mexaDStMWiZp",
        "outputId": "0340b350-96fb-43f1-be92-957c880e0202"
      },
      "source": [
        "fruitstoeat = ['apple', 'bananas','figs','grapes','kiwi','mangos']\r\n",
        "print(fruitstoeat)\r\n",
        "# for fruits in fruitstoeat:\r\n",
        "  # print(fruits + \" is one of my favorite fruits to eat\")\r\n",
        "print(fruitstoeat[0] + \" is one of my favorite fruits to eat\")"
      ],
      "execution_count": 11,
      "outputs": [
        {
          "output_type": "stream",
          "text": [
            "['apple', 'bananas', 'figs', 'grapes', 'kiwi', 'mangos']\n",
            "apple is one of my favorite fruits to eat\n"
          ],
          "name": "stdout"
        }
      ]
    },
    {
      "cell_type": "code",
      "metadata": {
        "colab": {
          "base_uri": "https://localhost:8080/"
        },
        "id": "oH9UE-1MY_F-",
        "outputId": "85df7c00-dca1-4ae5-9079-29b7059cf6ac"
      },
      "source": [
        "fruitstoeat = ['apple', 'bananas','figs','grapes','kiwi','mangos']\r\n",
        "print(fruitstoeat)\r\n",
        "for fruits in fruitstoeat:\r\n",
        "  print(fruits + \" is one of my favorite fruits to eat\")\r\n"
      ],
      "execution_count": 13,
      "outputs": [
        {
          "output_type": "stream",
          "text": [
            "['apple', 'bananas', 'figs', 'grapes', 'kiwi', 'mangos']\n",
            "apple is one of my favorite fruits to eat\n",
            "bananas is one of my favorite fruits to eat\n",
            "figs is one of my favorite fruits to eat\n",
            "grapes is one of my favorite fruits to eat\n",
            "kiwi is one of my favorite fruits to eat\n",
            "mangos is one of my favorite fruits to eat\n"
          ],
          "name": "stdout"
        }
      ]
    },
    {
      "cell_type": "code",
      "metadata": {
        "colab": {
          "base_uri": "https://localhost:8080/"
        },
        "id": "T3v_mMGIZ0c4",
        "outputId": "07ef7b26-e43e-4e54-eff0-d0b61dc25203"
      },
      "source": [
        "fruitstoeat = ['apple', 'bananas','figs','grapes','kiwi','mangos']\r\n",
        "print(fruitstoeat)\r\n",
        "for fruits in fruitstoeat:\r\n",
        "  print(fruits.title() + \" is one of my favorite fruits to eat!\\n I love to eat \" + fruits.upper() + \" all year long.\\n\")\r\n",
        "print(\"I cannot wait for summer.\")"
      ],
      "execution_count": 20,
      "outputs": [
        {
          "output_type": "stream",
          "text": [
            "['apple', 'bananas', 'figs', 'grapes', 'kiwi', 'mangos']\n",
            "Apple is one of my favorite fruits to eat!\n",
            " I love to eat APPLE all year long.\n",
            "\n",
            "Bananas is one of my favorite fruits to eat!\n",
            " I love to eat BANANAS all year long.\n",
            "\n",
            "Figs is one of my favorite fruits to eat!\n",
            " I love to eat FIGS all year long.\n",
            "\n",
            "Grapes is one of my favorite fruits to eat!\n",
            " I love to eat GRAPES all year long.\n",
            "\n",
            "Kiwi is one of my favorite fruits to eat!\n",
            " I love to eat KIWI all year long.\n",
            "\n",
            "Mangos is one of my favorite fruits to eat!\n",
            " I love to eat MANGOS all year long.\n",
            "\n",
            "I cannot wait for summer.\n"
          ],
          "name": "stdout"
        }
      ]
    },
    {
      "cell_type": "code",
      "metadata": {
        "colab": {
          "base_uri": "https://localhost:8080/"
        },
        "id": "wmfdhJAfdsXn",
        "outputId": "1489f987-2352-41c0-f35f-8e716350e2b0"
      },
      "source": [
        "foodILike = [\"Bread\",\"Salad\",\"Soup\",\"Coffee\", \"Cookies\"]\r\n",
        "print(foodILike)\r\n",
        "for foods in foodILike:\r\n",
        "  #print(foods)\r\n",
        "  print(foods.title() + \" is what I like to eat.\\n\" + foods.upper() + \" is a food group.\\n\")\r\n",
        "print(\"I can eat food at anytime\")"
      ],
      "execution_count": 30,
      "outputs": [
        {
          "output_type": "stream",
          "text": [
            "['Bread', 'Salad', 'Soup', 'Coffee', 'Cookies']\n",
            "Bread is what I like to eat.\n",
            "BREAD is a food group.\n",
            "\n",
            "Salad is what I like to eat.\n",
            "SALAD is a food group.\n",
            "\n",
            "Soup is what I like to eat.\n",
            "SOUP is a food group.\n",
            "\n",
            "Coffee is what I like to eat.\n",
            "COFFEE is a food group.\n",
            "\n",
            "Cookies is what I like to eat.\n",
            "COOKIES is a food group.\n",
            "\n",
            "I can eat food at anytime\n"
          ],
          "name": "stdout"
        }
      ]
    },
    {
      "cell_type": "code",
      "metadata": {
        "colab": {
          "base_uri": "https://localhost:8080/"
        },
        "id": "pJS5TPInhXSX",
        "outputId": "1d1b7efa-e6d7-4142-8b66-b127e7806394"
      },
      "source": [
        "for num in range (1,10):\r\n",
        "  print(num)"
      ],
      "execution_count": 59,
      "outputs": [
        {
          "output_type": "stream",
          "text": [
            "1\n",
            "2\n",
            "3\n",
            "4\n",
            "5\n",
            "6\n",
            "7\n",
            "8\n",
            "9\n"
          ],
          "name": "stdout"
        }
      ]
    },
    {
      "cell_type": "code",
      "metadata": {
        "id": "T-dV_CKZiFY7"
      },
      "source": [
        "for num in range (100,000):\r\n",
        "  print(num)"
      ],
      "execution_count": 60,
      "outputs": []
    },
    {
      "cell_type": "code",
      "metadata": {
        "colab": {
          "base_uri": "https://localhost:8080/"
        },
        "id": "WujD0za4id3G",
        "outputId": "d4de6b63-5649-4c49-9ecc-6b29754cef8e"
      },
      "source": [
        "numbers = list(range(1,20,2))\r\n",
        "print(numbers)"
      ],
      "execution_count": 50,
      "outputs": [
        {
          "output_type": "stream",
          "text": [
            "[1, 3, 5, 7, 9, 11, 13, 15, 17, 19]\n"
          ],
          "name": "stdout"
        }
      ]
    },
    {
      "cell_type": "code",
      "metadata": {
        "colab": {
          "base_uri": "https://localhost:8080/"
        },
        "id": "NCUqf-iTi2VG",
        "outputId": "099c3efa-fb21-40e1-c919-57431d0bd8a7"
      },
      "source": [
        "for num in range (0,20,2):\r\n",
        "  print(num)"
      ],
      "execution_count": 58,
      "outputs": [
        {
          "output_type": "stream",
          "text": [
            "0\n",
            "2\n",
            "4\n",
            "6\n",
            "8\n",
            "10\n",
            "12\n",
            "14\n",
            "16\n",
            "18\n"
          ],
          "name": "stdout"
        }
      ]
    },
    {
      "cell_type": "code",
      "metadata": {
        "colab": {
          "base_uri": "https://localhost:8080/"
        },
        "id": "WyecfxhAoLZB",
        "outputId": "b7330d01-4f3a-4219-e0c1-e7d55f61bd4f"
      },
      "source": [
        "data = [\"3\",\"2\",\"1\",\"5\",\"4\"]\r\n",
        "print(data.sort)\r\n"
      ],
      "execution_count": 71,
      "outputs": [
        {
          "output_type": "stream",
          "text": [
            "<built-in method sort of list object at 0x7facb701cbc8>\n"
          ],
          "name": "stdout"
        }
      ]
    }
  ]
}