{
  "nbformat": 4,
  "nbformat_minor": 0,
  "metadata": {
    "colab": {
      "name": "COVID19_DATA_ANALYSIS. Neil Subick, Anika Lewis, Lucy Lao",
      "provenance": [],
      "collapsed_sections": [],
      "include_colab_link": true
    },
    "kernelspec": {
      "name": "python3",
      "display_name": "Python 3"
    }
  },
  "cells": [
    {
      "cell_type": "markdown",
      "metadata": {
        "id": "view-in-github",
        "colab_type": "text"
      },
      "source": [
        "<a href=\"https://colab.research.google.com/github/neilsubick/data_analytics/blob/main/COVID19_DATA_ANALYSIS_Neil_Subick%2C_Anika_Lewis%2C_Lucy_Lao.ipynb\" target=\"_parent\"><img src=\"https://colab.research.google.com/assets/colab-badge.svg\" alt=\"Open In Colab\"/></a>"
      ]
    },
    {
      "cell_type": "markdown",
      "metadata": {
        "id": "9jvXpX2bbIFF"
      },
      "source": [
        "# COVID 19 Data Analysis"
      ]
    },
    {
      "cell_type": "markdown",
      "metadata": {
        "id": "RSvGZmxBa_Gk"
      },
      "source": [
        "**Description:** This script will read the latest data from the New York Times' county-level COVID-19 database at https://github.com/nytimes/covid-19-data/blob/master/us-counties.csv, filter the data for a chosen county in a chosen state, calculate the daily count of new cases and new deaths, print the most recent 28 days' worth of data for the selected county, and save the county's data for all dates to a comma-separated value (.csv) file on your computer. The printed data can be copied and pasted directly into a spreadsheet for further analysis and visualization.\r\n",
        "\r\n",
        "**Note:** For information about the data, see https://github.com/nytimes/covid-19-data.\r\n",
        "\r\n",
        "**Note:** After you have run the script one time in a given Anaconda environment, you may reduce the script's execution time by adding a `#` in front of `pip install pandas`. For example, `#pip install pandas` instead of `pip install pandas`. The `#` will tell Python to skip the code without running it."
      ]
    },
    {
      "cell_type": "markdown",
      "metadata": {
        "id": "ji_HknaobZJh"
      },
      "source": [
        "# Task 1 : Environment Set up"
      ]
    },
    {
      "cell_type": "markdown",
      "metadata": {
        "id": "q2y0bY0XbhNZ"
      },
      "source": [
        "Import all required libraries that are needed for data analysis"
      ]
    },
    {
      "cell_type": "code",
      "metadata": {
        "id": "k2f9bX3aiTDP"
      },
      "source": [
        "import pandas as pd\n",
        "import numpy as np\n",
        "import matplotlib.pyplot as plt\n",
        "from matplotlib import style\n",
        "import seaborn as sns"
      ],
      "execution_count": null,
      "outputs": []
    },
    {
      "cell_type": "markdown",
      "metadata": {
        "id": "vgt8s61dbueM"
      },
      "source": [
        "# Task 2 :  Data Collection"
      ]
    },
    {
      "cell_type": "markdown",
      "metadata": {
        "id": "CEc5pqrkbxcX"
      },
      "source": [
        "Use nytimes github repository as a data source to collect the covid 19 data in real time and ingest it into colab notebook for data analysis purpose"
      ]
    },
    {
      "cell_type": "code",
      "metadata": {
        "id": "vgw9nO9Hm_SB",
        "colab": {
          "base_uri": "https://localhost:8080/",
          "height": 402
        },
        "outputId": "3c33f687-11d6-48d8-d4e5-8124c51ed7a6"
      },
      "source": [
        "df=pd.read_csv('https://raw.githubusercontent.com/nytimes/covid-19-data/master/us-states.csv')\r\n",
        "df\r\n",
        "#printing original data"
      ],
      "execution_count": null,
      "outputs": [
        {
          "output_type": "execute_result",
          "data": {
            "text/html": [
              "<div>\n",
              "<style scoped>\n",
              "    .dataframe tbody tr th:only-of-type {\n",
              "        vertical-align: middle;\n",
              "    }\n",
              "\n",
              "    .dataframe tbody tr th {\n",
              "        vertical-align: top;\n",
              "    }\n",
              "\n",
              "    .dataframe thead th {\n",
              "        text-align: right;\n",
              "    }\n",
              "</style>\n",
              "<table border=\"1\" class=\"dataframe\">\n",
              "  <thead>\n",
              "    <tr style=\"text-align: right;\">\n",
              "      <th></th>\n",
              "      <th>date</th>\n",
              "      <th>state</th>\n",
              "      <th>fips</th>\n",
              "      <th>cases</th>\n",
              "      <th>deaths</th>\n",
              "    </tr>\n",
              "  </thead>\n",
              "  <tbody>\n",
              "    <tr>\n",
              "      <th>0</th>\n",
              "      <td>2020-01-21</td>\n",
              "      <td>Washington</td>\n",
              "      <td>53</td>\n",
              "      <td>1</td>\n",
              "      <td>0</td>\n",
              "    </tr>\n",
              "    <tr>\n",
              "      <th>1</th>\n",
              "      <td>2020-01-22</td>\n",
              "      <td>Washington</td>\n",
              "      <td>53</td>\n",
              "      <td>1</td>\n",
              "      <td>0</td>\n",
              "    </tr>\n",
              "    <tr>\n",
              "      <th>2</th>\n",
              "      <td>2020-01-23</td>\n",
              "      <td>Washington</td>\n",
              "      <td>53</td>\n",
              "      <td>1</td>\n",
              "      <td>0</td>\n",
              "    </tr>\n",
              "    <tr>\n",
              "      <th>3</th>\n",
              "      <td>2020-01-24</td>\n",
              "      <td>Illinois</td>\n",
              "      <td>17</td>\n",
              "      <td>1</td>\n",
              "      <td>0</td>\n",
              "    </tr>\n",
              "    <tr>\n",
              "      <th>4</th>\n",
              "      <td>2020-01-24</td>\n",
              "      <td>Washington</td>\n",
              "      <td>53</td>\n",
              "      <td>1</td>\n",
              "      <td>0</td>\n",
              "    </tr>\n",
              "    <tr>\n",
              "      <th>...</th>\n",
              "      <td>...</td>\n",
              "      <td>...</td>\n",
              "      <td>...</td>\n",
              "      <td>...</td>\n",
              "      <td>...</td>\n",
              "    </tr>\n",
              "    <tr>\n",
              "      <th>17609</th>\n",
              "      <td>2021-01-16</td>\n",
              "      <td>Virginia</td>\n",
              "      <td>51</td>\n",
              "      <td>429391</td>\n",
              "      <td>5706</td>\n",
              "    </tr>\n",
              "    <tr>\n",
              "      <th>17610</th>\n",
              "      <td>2021-01-16</td>\n",
              "      <td>Washington</td>\n",
              "      <td>53</td>\n",
              "      <td>290896</td>\n",
              "      <td>3971</td>\n",
              "    </tr>\n",
              "    <tr>\n",
              "      <th>17611</th>\n",
              "      <td>2021-01-16</td>\n",
              "      <td>West Virginia</td>\n",
              "      <td>54</td>\n",
              "      <td>108124</td>\n",
              "      <td>1761</td>\n",
              "    </tr>\n",
              "    <tr>\n",
              "      <th>17612</th>\n",
              "      <td>2021-01-16</td>\n",
              "      <td>Wisconsin</td>\n",
              "      <td>55</td>\n",
              "      <td>566275</td>\n",
              "      <td>5906</td>\n",
              "    </tr>\n",
              "    <tr>\n",
              "      <th>17613</th>\n",
              "      <td>2021-01-16</td>\n",
              "      <td>Wyoming</td>\n",
              "      <td>56</td>\n",
              "      <td>49068</td>\n",
              "      <td>522</td>\n",
              "    </tr>\n",
              "  </tbody>\n",
              "</table>\n",
              "<p>17614 rows × 5 columns</p>\n",
              "</div>"
            ],
            "text/plain": [
              "             date          state  fips   cases  deaths\n",
              "0      2020-01-21     Washington    53       1       0\n",
              "1      2020-01-22     Washington    53       1       0\n",
              "2      2020-01-23     Washington    53       1       0\n",
              "3      2020-01-24       Illinois    17       1       0\n",
              "4      2020-01-24     Washington    53       1       0\n",
              "...           ...            ...   ...     ...     ...\n",
              "17609  2021-01-16       Virginia    51  429391    5706\n",
              "17610  2021-01-16     Washington    53  290896    3971\n",
              "17611  2021-01-16  West Virginia    54  108124    1761\n",
              "17612  2021-01-16      Wisconsin    55  566275    5906\n",
              "17613  2021-01-16        Wyoming    56   49068     522\n",
              "\n",
              "[17614 rows x 5 columns]"
            ]
          },
          "metadata": {
            "tags": []
          },
          "execution_count": 46
        }
      ]
    },
    {
      "cell_type": "code",
      "metadata": {
        "colab": {
          "base_uri": "https://localhost:8080/",
          "height": 300
        },
        "id": "hSwxDslNIo-K",
        "outputId": "ae4c2269-f4a4-45ef-c3b8-543e34515db5"
      },
      "source": [
        "df.describe()"
      ],
      "execution_count": null,
      "outputs": [
        {
          "output_type": "execute_result",
          "data": {
            "text/html": [
              "<div>\n",
              "<style scoped>\n",
              "    .dataframe tbody tr th:only-of-type {\n",
              "        vertical-align: middle;\n",
              "    }\n",
              "\n",
              "    .dataframe tbody tr th {\n",
              "        vertical-align: top;\n",
              "    }\n",
              "\n",
              "    .dataframe thead th {\n",
              "        text-align: right;\n",
              "    }\n",
              "</style>\n",
              "<table border=\"1\" class=\"dataframe\">\n",
              "  <thead>\n",
              "    <tr style=\"text-align: right;\">\n",
              "      <th></th>\n",
              "      <th>cases</th>\n",
              "      <th>deaths</th>\n",
              "    </tr>\n",
              "  </thead>\n",
              "  <tbody>\n",
              "    <tr>\n",
              "      <th>count</th>\n",
              "      <td>1.766900e+04</td>\n",
              "      <td>17669.000000</td>\n",
              "    </tr>\n",
              "    <tr>\n",
              "      <th>mean</th>\n",
              "      <td>1.190759e+05</td>\n",
              "      <td>2984.598053</td>\n",
              "    </tr>\n",
              "    <tr>\n",
              "      <th>std</th>\n",
              "      <td>2.274607e+05</td>\n",
              "      <td>5554.979599</td>\n",
              "    </tr>\n",
              "    <tr>\n",
              "      <th>min</th>\n",
              "      <td>1.000000e+00</td>\n",
              "      <td>0.000000</td>\n",
              "    </tr>\n",
              "    <tr>\n",
              "      <th>25%</th>\n",
              "      <td>4.587000e+03</td>\n",
              "      <td>98.000000</td>\n",
              "    </tr>\n",
              "    <tr>\n",
              "      <th>50%</th>\n",
              "      <td>3.417400e+04</td>\n",
              "      <td>774.000000</td>\n",
              "    </tr>\n",
              "    <tr>\n",
              "      <th>75%</th>\n",
              "      <td>1.334700e+05</td>\n",
              "      <td>3324.000000</td>\n",
              "    </tr>\n",
              "    <tr>\n",
              "      <th>max</th>\n",
              "      <td>3.006583e+06</td>\n",
              "      <td>40570.000000</td>\n",
              "    </tr>\n",
              "  </tbody>\n",
              "</table>\n",
              "</div>"
            ],
            "text/plain": [
              "              cases        deaths\n",
              "count  1.766900e+04  17669.000000\n",
              "mean   1.190759e+05   2984.598053\n",
              "std    2.274607e+05   5554.979599\n",
              "min    1.000000e+00      0.000000\n",
              "25%    4.587000e+03     98.000000\n",
              "50%    3.417400e+04    774.000000\n",
              "75%    1.334700e+05   3324.000000\n",
              "max    3.006583e+06  40570.000000"
            ]
          },
          "metadata": {
            "tags": []
          },
          "execution_count": 61
        }
      ]
    },
    {
      "cell_type": "code",
      "metadata": {
        "colab": {
          "base_uri": "https://localhost:8080/",
          "height": 206
        },
        "id": "IEMUdJmtIvf2",
        "outputId": "f0cd42c4-3b85-42b1-dc10-92a6173672ad"
      },
      "source": [
        "df.head()"
      ],
      "execution_count": null,
      "outputs": [
        {
          "output_type": "execute_result",
          "data": {
            "text/html": [
              "<div>\n",
              "<style scoped>\n",
              "    .dataframe tbody tr th:only-of-type {\n",
              "        vertical-align: middle;\n",
              "    }\n",
              "\n",
              "    .dataframe tbody tr th {\n",
              "        vertical-align: top;\n",
              "    }\n",
              "\n",
              "    .dataframe thead th {\n",
              "        text-align: right;\n",
              "    }\n",
              "</style>\n",
              "<table border=\"1\" class=\"dataframe\">\n",
              "  <thead>\n",
              "    <tr style=\"text-align: right;\">\n",
              "      <th></th>\n",
              "      <th>state</th>\n",
              "      <th>cases</th>\n",
              "      <th>deaths</th>\n",
              "      <th>New_date</th>\n",
              "    </tr>\n",
              "  </thead>\n",
              "  <tbody>\n",
              "    <tr>\n",
              "      <th>0</th>\n",
              "      <td>Washington</td>\n",
              "      <td>1</td>\n",
              "      <td>0</td>\n",
              "      <td>2020-01-21</td>\n",
              "    </tr>\n",
              "    <tr>\n",
              "      <th>1</th>\n",
              "      <td>Washington</td>\n",
              "      <td>1</td>\n",
              "      <td>0</td>\n",
              "      <td>2020-01-22</td>\n",
              "    </tr>\n",
              "    <tr>\n",
              "      <th>2</th>\n",
              "      <td>Washington</td>\n",
              "      <td>1</td>\n",
              "      <td>0</td>\n",
              "      <td>2020-01-23</td>\n",
              "    </tr>\n",
              "    <tr>\n",
              "      <th>3</th>\n",
              "      <td>Illinois</td>\n",
              "      <td>1</td>\n",
              "      <td>0</td>\n",
              "      <td>2020-01-24</td>\n",
              "    </tr>\n",
              "    <tr>\n",
              "      <th>4</th>\n",
              "      <td>Washington</td>\n",
              "      <td>1</td>\n",
              "      <td>0</td>\n",
              "      <td>2020-01-24</td>\n",
              "    </tr>\n",
              "  </tbody>\n",
              "</table>\n",
              "</div>"
            ],
            "text/plain": [
              "        state  cases  deaths   New_date\n",
              "0  Washington      1       0 2020-01-21\n",
              "1  Washington      1       0 2020-01-22\n",
              "2  Washington      1       0 2020-01-23\n",
              "3    Illinois      1       0 2020-01-24\n",
              "4  Washington      1       0 2020-01-24"
            ]
          },
          "metadata": {
            "tags": []
          },
          "execution_count": 62
        }
      ]
    },
    {
      "cell_type": "code",
      "metadata": {
        "colab": {
          "base_uri": "https://localhost:8080/",
          "height": 206
        },
        "id": "zKVwVde4IynH",
        "outputId": "70de9321-d042-43bd-aca5-80aaf4cb0850"
      },
      "source": [
        "df.tail()"
      ],
      "execution_count": null,
      "outputs": [
        {
          "output_type": "execute_result",
          "data": {
            "text/html": [
              "<div>\n",
              "<style scoped>\n",
              "    .dataframe tbody tr th:only-of-type {\n",
              "        vertical-align: middle;\n",
              "    }\n",
              "\n",
              "    .dataframe tbody tr th {\n",
              "        vertical-align: top;\n",
              "    }\n",
              "\n",
              "    .dataframe thead th {\n",
              "        text-align: right;\n",
              "    }\n",
              "</style>\n",
              "<table border=\"1\" class=\"dataframe\">\n",
              "  <thead>\n",
              "    <tr style=\"text-align: right;\">\n",
              "      <th></th>\n",
              "      <th>state</th>\n",
              "      <th>cases</th>\n",
              "      <th>deaths</th>\n",
              "      <th>New_date</th>\n",
              "    </tr>\n",
              "  </thead>\n",
              "  <tbody>\n",
              "    <tr>\n",
              "      <th>17664</th>\n",
              "      <td>Virginia</td>\n",
              "      <td>439305</td>\n",
              "      <td>5729</td>\n",
              "      <td>2021-01-17</td>\n",
              "    </tr>\n",
              "    <tr>\n",
              "      <th>17665</th>\n",
              "      <td>Washington</td>\n",
              "      <td>293296</td>\n",
              "      <td>3971</td>\n",
              "      <td>2021-01-17</td>\n",
              "    </tr>\n",
              "    <tr>\n",
              "      <th>17666</th>\n",
              "      <td>West Virginia</td>\n",
              "      <td>108821</td>\n",
              "      <td>1776</td>\n",
              "      <td>2021-01-17</td>\n",
              "    </tr>\n",
              "    <tr>\n",
              "      <th>17667</th>\n",
              "      <td>Wisconsin</td>\n",
              "      <td>568166</td>\n",
              "      <td>5907</td>\n",
              "      <td>2021-01-17</td>\n",
              "    </tr>\n",
              "    <tr>\n",
              "      <th>17668</th>\n",
              "      <td>Wyoming</td>\n",
              "      <td>49363</td>\n",
              "      <td>522</td>\n",
              "      <td>2021-01-17</td>\n",
              "    </tr>\n",
              "  </tbody>\n",
              "</table>\n",
              "</div>"
            ],
            "text/plain": [
              "               state   cases  deaths   New_date\n",
              "17664       Virginia  439305    5729 2021-01-17\n",
              "17665     Washington  293296    3971 2021-01-17\n",
              "17666  West Virginia  108821    1776 2021-01-17\n",
              "17667      Wisconsin  568166    5907 2021-01-17\n",
              "17668        Wyoming   49363     522 2021-01-17"
            ]
          },
          "metadata": {
            "tags": []
          },
          "execution_count": 63
        }
      ]
    },
    {
      "cell_type": "code",
      "metadata": {
        "id": "FEG9n2sI0Yxu",
        "colab": {
          "base_uri": "https://localhost:8080/"
        },
        "outputId": "4c771e82-f11c-4c02-e04f-4631e3431cfc"
      },
      "source": [
        "print(df.dtypes)\r\n",
        "#Checking to see if datatypes make sense, the date doesnt make sense"
      ],
      "execution_count": null,
      "outputs": [
        {
          "output_type": "stream",
          "text": [
            "date      object\n",
            "state     object\n",
            "fips       int64\n",
            "cases      int64\n",
            "deaths     int64\n",
            "dtype: object\n"
          ],
          "name": "stdout"
        }
      ]
    },
    {
      "cell_type": "code",
      "metadata": {
        "id": "k5MQmxd1hurv",
        "colab": {
          "base_uri": "https://localhost:8080/"
        },
        "outputId": "a370e938-e5f2-428a-e364-4333ad768f15"
      },
      "source": [
        "pd.to_datetime(df['date'])\r\n",
        "#converting the date dtype from an object to datetime\r\n",
        "New_date=pd.to_datetime(df['date'])\r\n",
        "New_date\r\n",
        "#Storing converted date in a Dataframe"
      ],
      "execution_count": null,
      "outputs": [
        {
          "output_type": "execute_result",
          "data": {
            "text/plain": [
              "0       2020-01-21\n",
              "1       2020-01-22\n",
              "2       2020-01-23\n",
              "3       2020-01-24\n",
              "4       2020-01-24\n",
              "           ...    \n",
              "17609   2021-01-16\n",
              "17610   2021-01-16\n",
              "17611   2021-01-16\n",
              "17612   2021-01-16\n",
              "17613   2021-01-16\n",
              "Name: date, Length: 17614, dtype: datetime64[ns]"
            ]
          },
          "metadata": {
            "tags": []
          },
          "execution_count": 49
        }
      ]
    },
    {
      "cell_type": "code",
      "metadata": {
        "colab": {
          "base_uri": "https://localhost:8080/",
          "height": 402
        },
        "id": "Y2t6uDA7j2AL",
        "outputId": "7b5e0f37-1327-498b-b25b-6da89581b223"
      },
      "source": [
        "df['New_date']=New_date\r\n",
        "df\r\n",
        "#adding the converted dates into the original table"
      ],
      "execution_count": null,
      "outputs": [
        {
          "output_type": "execute_result",
          "data": {
            "text/html": [
              "<div>\n",
              "<style scoped>\n",
              "    .dataframe tbody tr th:only-of-type {\n",
              "        vertical-align: middle;\n",
              "    }\n",
              "\n",
              "    .dataframe tbody tr th {\n",
              "        vertical-align: top;\n",
              "    }\n",
              "\n",
              "    .dataframe thead th {\n",
              "        text-align: right;\n",
              "    }\n",
              "</style>\n",
              "<table border=\"1\" class=\"dataframe\">\n",
              "  <thead>\n",
              "    <tr style=\"text-align: right;\">\n",
              "      <th></th>\n",
              "      <th>date</th>\n",
              "      <th>state</th>\n",
              "      <th>fips</th>\n",
              "      <th>cases</th>\n",
              "      <th>deaths</th>\n",
              "      <th>New_date</th>\n",
              "    </tr>\n",
              "  </thead>\n",
              "  <tbody>\n",
              "    <tr>\n",
              "      <th>0</th>\n",
              "      <td>2020-01-21</td>\n",
              "      <td>Washington</td>\n",
              "      <td>53</td>\n",
              "      <td>1</td>\n",
              "      <td>0</td>\n",
              "      <td>2020-01-21</td>\n",
              "    </tr>\n",
              "    <tr>\n",
              "      <th>1</th>\n",
              "      <td>2020-01-22</td>\n",
              "      <td>Washington</td>\n",
              "      <td>53</td>\n",
              "      <td>1</td>\n",
              "      <td>0</td>\n",
              "      <td>2020-01-22</td>\n",
              "    </tr>\n",
              "    <tr>\n",
              "      <th>2</th>\n",
              "      <td>2020-01-23</td>\n",
              "      <td>Washington</td>\n",
              "      <td>53</td>\n",
              "      <td>1</td>\n",
              "      <td>0</td>\n",
              "      <td>2020-01-23</td>\n",
              "    </tr>\n",
              "    <tr>\n",
              "      <th>3</th>\n",
              "      <td>2020-01-24</td>\n",
              "      <td>Illinois</td>\n",
              "      <td>17</td>\n",
              "      <td>1</td>\n",
              "      <td>0</td>\n",
              "      <td>2020-01-24</td>\n",
              "    </tr>\n",
              "    <tr>\n",
              "      <th>4</th>\n",
              "      <td>2020-01-24</td>\n",
              "      <td>Washington</td>\n",
              "      <td>53</td>\n",
              "      <td>1</td>\n",
              "      <td>0</td>\n",
              "      <td>2020-01-24</td>\n",
              "    </tr>\n",
              "    <tr>\n",
              "      <th>...</th>\n",
              "      <td>...</td>\n",
              "      <td>...</td>\n",
              "      <td>...</td>\n",
              "      <td>...</td>\n",
              "      <td>...</td>\n",
              "      <td>...</td>\n",
              "    </tr>\n",
              "    <tr>\n",
              "      <th>17609</th>\n",
              "      <td>2021-01-16</td>\n",
              "      <td>Virginia</td>\n",
              "      <td>51</td>\n",
              "      <td>429391</td>\n",
              "      <td>5706</td>\n",
              "      <td>2021-01-16</td>\n",
              "    </tr>\n",
              "    <tr>\n",
              "      <th>17610</th>\n",
              "      <td>2021-01-16</td>\n",
              "      <td>Washington</td>\n",
              "      <td>53</td>\n",
              "      <td>290896</td>\n",
              "      <td>3971</td>\n",
              "      <td>2021-01-16</td>\n",
              "    </tr>\n",
              "    <tr>\n",
              "      <th>17611</th>\n",
              "      <td>2021-01-16</td>\n",
              "      <td>West Virginia</td>\n",
              "      <td>54</td>\n",
              "      <td>108124</td>\n",
              "      <td>1761</td>\n",
              "      <td>2021-01-16</td>\n",
              "    </tr>\n",
              "    <tr>\n",
              "      <th>17612</th>\n",
              "      <td>2021-01-16</td>\n",
              "      <td>Wisconsin</td>\n",
              "      <td>55</td>\n",
              "      <td>566275</td>\n",
              "      <td>5906</td>\n",
              "      <td>2021-01-16</td>\n",
              "    </tr>\n",
              "    <tr>\n",
              "      <th>17613</th>\n",
              "      <td>2021-01-16</td>\n",
              "      <td>Wyoming</td>\n",
              "      <td>56</td>\n",
              "      <td>49068</td>\n",
              "      <td>522</td>\n",
              "      <td>2021-01-16</td>\n",
              "    </tr>\n",
              "  </tbody>\n",
              "</table>\n",
              "<p>17614 rows × 6 columns</p>\n",
              "</div>"
            ],
            "text/plain": [
              "             date          state  fips   cases  deaths   New_date\n",
              "0      2020-01-21     Washington    53       1       0 2020-01-21\n",
              "1      2020-01-22     Washington    53       1       0 2020-01-22\n",
              "2      2020-01-23     Washington    53       1       0 2020-01-23\n",
              "3      2020-01-24       Illinois    17       1       0 2020-01-24\n",
              "4      2020-01-24     Washington    53       1       0 2020-01-24\n",
              "...           ...            ...   ...     ...     ...        ...\n",
              "17609  2021-01-16       Virginia    51  429391    5706 2021-01-16\n",
              "17610  2021-01-16     Washington    53  290896    3971 2021-01-16\n",
              "17611  2021-01-16  West Virginia    54  108124    1761 2021-01-16\n",
              "17612  2021-01-16      Wisconsin    55  566275    5906 2021-01-16\n",
              "17613  2021-01-16        Wyoming    56   49068     522 2021-01-16\n",
              "\n",
              "[17614 rows x 6 columns]"
            ]
          },
          "metadata": {
            "tags": []
          },
          "execution_count": 50
        }
      ]
    },
    {
      "cell_type": "markdown",
      "metadata": {
        "id": "dXToiyPccf4h"
      },
      "source": [
        "# Task 3 : Data Wrangling and EDA (Exploratory Data Analysis)"
      ]
    },
    {
      "cell_type": "markdown",
      "metadata": {
        "id": "XrywUhma1LD6"
      },
      "source": [
        "**1. Analyzing New York state data for Covid 19**"
      ]
    },
    {
      "cell_type": "code",
      "metadata": {
        "id": "-IXvRlig1Qjq",
        "colab": {
          "base_uri": "https://localhost:8080/",
          "height": 402
        },
        "outputId": "cd797a5d-19fc-46d9-abf4-1a56de4d23b5"
      },
      "source": [
        "#Isolation of NY\r\n",
        "df.loc[df['state']==\"New York\"]\r\n",
        "New_york=df.loc[df['state']==\"New York\"]\r\n",
        "New_york\r\n"
      ],
      "execution_count": null,
      "outputs": [
        {
          "output_type": "execute_result",
          "data": {
            "text/html": [
              "<div>\n",
              "<style scoped>\n",
              "    .dataframe tbody tr th:only-of-type {\n",
              "        vertical-align: middle;\n",
              "    }\n",
              "\n",
              "    .dataframe tbody tr th {\n",
              "        vertical-align: top;\n",
              "    }\n",
              "\n",
              "    .dataframe thead th {\n",
              "        text-align: right;\n",
              "    }\n",
              "</style>\n",
              "<table border=\"1\" class=\"dataframe\">\n",
              "  <thead>\n",
              "    <tr style=\"text-align: right;\">\n",
              "      <th></th>\n",
              "      <th>date</th>\n",
              "      <th>state</th>\n",
              "      <th>fips</th>\n",
              "      <th>cases</th>\n",
              "      <th>deaths</th>\n",
              "      <th>New_date</th>\n",
              "    </tr>\n",
              "  </thead>\n",
              "  <tbody>\n",
              "    <tr>\n",
              "      <th>246</th>\n",
              "      <td>2020-03-01</td>\n",
              "      <td>New York</td>\n",
              "      <td>36</td>\n",
              "      <td>1</td>\n",
              "      <td>0</td>\n",
              "      <td>2020-03-01</td>\n",
              "    </tr>\n",
              "    <tr>\n",
              "      <th>261</th>\n",
              "      <td>2020-03-02</td>\n",
              "      <td>New York</td>\n",
              "      <td>36</td>\n",
              "      <td>1</td>\n",
              "      <td>0</td>\n",
              "      <td>2020-03-02</td>\n",
              "    </tr>\n",
              "    <tr>\n",
              "      <th>276</th>\n",
              "      <td>2020-03-03</td>\n",
              "      <td>New York</td>\n",
              "      <td>36</td>\n",
              "      <td>2</td>\n",
              "      <td>0</td>\n",
              "      <td>2020-03-03</td>\n",
              "    </tr>\n",
              "    <tr>\n",
              "      <th>293</th>\n",
              "      <td>2020-03-04</td>\n",
              "      <td>New York</td>\n",
              "      <td>36</td>\n",
              "      <td>11</td>\n",
              "      <td>0</td>\n",
              "      <td>2020-03-04</td>\n",
              "    </tr>\n",
              "    <tr>\n",
              "      <th>313</th>\n",
              "      <td>2020-03-05</td>\n",
              "      <td>New York</td>\n",
              "      <td>36</td>\n",
              "      <td>22</td>\n",
              "      <td>0</td>\n",
              "      <td>2020-03-05</td>\n",
              "    </tr>\n",
              "    <tr>\n",
              "      <th>...</th>\n",
              "      <td>...</td>\n",
              "      <td>...</td>\n",
              "      <td>...</td>\n",
              "      <td>...</td>\n",
              "      <td>...</td>\n",
              "      <td>...</td>\n",
              "    </tr>\n",
              "    <tr>\n",
              "      <th>17427</th>\n",
              "      <td>2021-01-13</td>\n",
              "      <td>New York</td>\n",
              "      <td>36</td>\n",
              "      <td>1179523</td>\n",
              "      <td>39760</td>\n",
              "      <td>2021-01-13</td>\n",
              "    </tr>\n",
              "    <tr>\n",
              "      <th>17482</th>\n",
              "      <td>2021-01-14</td>\n",
              "      <td>New York</td>\n",
              "      <td>36</td>\n",
              "      <td>1193710</td>\n",
              "      <td>39997</td>\n",
              "      <td>2021-01-14</td>\n",
              "    </tr>\n",
              "    <tr>\n",
              "      <th>17537</th>\n",
              "      <td>2021-01-15</td>\n",
              "      <td>New York</td>\n",
              "      <td>36</td>\n",
              "      <td>1213179</td>\n",
              "      <td>40203</td>\n",
              "      <td>2021-01-15</td>\n",
              "    </tr>\n",
              "    <tr>\n",
              "      <th>17592</th>\n",
              "      <td>2021-01-16</td>\n",
              "      <td>New York</td>\n",
              "      <td>36</td>\n",
              "      <td>1229124</td>\n",
              "      <td>40376</td>\n",
              "      <td>2021-01-16</td>\n",
              "    </tr>\n",
              "    <tr>\n",
              "      <th>17647</th>\n",
              "      <td>2021-01-17</td>\n",
              "      <td>New York</td>\n",
              "      <td>36</td>\n",
              "      <td>1242818</td>\n",
              "      <td>40570</td>\n",
              "      <td>2021-01-17</td>\n",
              "    </tr>\n",
              "  </tbody>\n",
              "</table>\n",
              "<p>323 rows × 6 columns</p>\n",
              "</div>"
            ],
            "text/plain": [
              "             date     state  fips    cases  deaths   New_date\n",
              "246    2020-03-01  New York    36        1       0 2020-03-01\n",
              "261    2020-03-02  New York    36        1       0 2020-03-02\n",
              "276    2020-03-03  New York    36        2       0 2020-03-03\n",
              "293    2020-03-04  New York    36       11       0 2020-03-04\n",
              "313    2020-03-05  New York    36       22       0 2020-03-05\n",
              "...           ...       ...   ...      ...     ...        ...\n",
              "17427  2021-01-13  New York    36  1179523   39760 2021-01-13\n",
              "17482  2021-01-14  New York    36  1193710   39997 2021-01-14\n",
              "17537  2021-01-15  New York    36  1213179   40203 2021-01-15\n",
              "17592  2021-01-16  New York    36  1229124   40376 2021-01-16\n",
              "17647  2021-01-17  New York    36  1242818   40570 2021-01-17\n",
              "\n",
              "[323 rows x 6 columns]"
            ]
          },
          "metadata": {
            "tags": []
          },
          "execution_count": 56
        }
      ]
    },
    {
      "cell_type": "code",
      "metadata": {
        "colab": {
          "base_uri": "https://localhost:8080/"
        },
        "id": "_MYNheR2PJ7N",
        "outputId": "06baa76a-4916-4b9f-8cf9-ae14a7976427"
      },
      "source": [
        "# What is the average daily case count?\r\n",
        "Avg_Cases = New_york['cases'].mean()\r\n",
        "Avg_Cases"
      ],
      "execution_count": null,
      "outputs": [
        {
          "output_type": "execute_result",
          "data": {
            "text/plain": [
              "449848.14241486066"
            ]
          },
          "metadata": {
            "tags": []
          },
          "execution_count": 15
        }
      ]
    },
    {
      "cell_type": "code",
      "metadata": {
        "colab": {
          "base_uri": "https://localhost:8080/"
        },
        "id": "qglyFKWZPren",
        "outputId": "dd9caed8-5818-4ac0-a77c-2f178065e376"
      },
      "source": [
        "# What is the average daily death count?\r\n",
        "Avg_Deaths = New_york['deaths'].mean()\r\n",
        "Avg_Deaths"
      ],
      "execution_count": null,
      "outputs": [
        {
          "output_type": "execute_result",
          "data": {
            "text/plain": [
              "27816.811145510837"
            ]
          },
          "metadata": {
            "tags": []
          },
          "execution_count": 18
        }
      ]
    },
    {
      "cell_type": "code",
      "metadata": {
        "id": "KrHDtvA2Vyar",
        "colab": {
          "base_uri": "https://localhost:8080/",
          "height": 1000
        },
        "outputId": "c2b0fa51-f046-4740-eca2-a7d341ea13ba"
      },
      "source": [
        "sns.jointplot(x='New_date',y='cases',data=New_york)\r\n",
        "New_york.plot(x='New_date',y='cases',linewidth=2.0)\r\n",
        "sns.jointplot(x='New_date',y='deaths',data=New_york)\r\n",
        "New_york.plot(x='New_date',y='deaths',linewidth=2.0)"
      ],
      "execution_count": null,
      "outputs": [
        {
          "output_type": "execute_result",
          "data": {
            "text/plain": [
              "<matplotlib.axes._subplots.AxesSubplot at 0x7ff995575e48>"
            ]
          },
          "metadata": {
            "tags": []
          },
          "execution_count": 96
        },
        {
          "output_type": "display_data",
          "data": {
            "image/png": "[encoded data removed]",
            "text/plain": [
              "<Figure size 432x432 with 3 Axes>"
            ]
          },
          "metadata": {
            "tags": []
          }
        },
        {
          "output_type": "display_data",
          "data": {
            "image/png": "[encoded data removed]",
            "text/plain": [
              "<Figure size 432x288 with 1 Axes>"
            ]
          },
          "metadata": {
            "tags": []
          }
        },
        {
          "output_type": "display_data",
          "data": {
            "image/png": "[encoded data removed]",
            "text/plain": [
              "<Figure size 432x432 with 3 Axes>"
            ]
          },
          "metadata": {
            "tags": []
          }
        },
        {
          "output_type": "display_data",
          "data": {
            "image/png": "[encoded data removed]",
            "text/plain": [
              "<Figure size 432x288 with 1 Axes>"
            ]
          },
          "metadata": {
            "tags": []
          }
        }
      ]
    },
    {
      "cell_type": "markdown",
      "metadata": {
        "id": "vUbZP5tccvEp"
      },
      "source": [
        "**2. Find new covid 19 cases daily basis (new cases added everyday)**"
      ]
    },
    {
      "cell_type": "markdown",
      "metadata": {
        "id": "DE3wSEUKdWEb"
      },
      "source": [
        "the difference in count between the previous day and new days\r\n",
        "\r\n"
      ]
    },
    {
      "cell_type": "code",
      "metadata": {
        "colab": {
          "base_uri": "https://localhost:8080/"
        },
        "id": "dkMzBbpzA_uP",
        "outputId": "4dd517ea-3200-4242-d253-7b874962c086"
      },
      "source": [
        "print(New_york.groupby(['New_date'])['deaths'].max())\r\n",
        "print(New_york.groupby(['New_date'])['cases'].max())\r\n",
        "#found the accumlated number of deaths & cases per day... having difficulty creating a function that isolates differences"
      ],
      "execution_count": null,
      "outputs": [
        {
          "output_type": "stream",
          "text": [
            "New_date\n",
            "2020-03-01        0\n",
            "2020-03-02        0\n",
            "2020-03-03        0\n",
            "2020-03-04        0\n",
            "2020-03-05        0\n",
            "              ...  \n",
            "2021-01-12    39588\n",
            "2021-01-13    39760\n",
            "2021-01-14    39997\n",
            "2021-01-15    40203\n",
            "2021-01-16    40376\n",
            "Name: deaths, Length: 322, dtype: int64\n",
            "New_date\n",
            "2020-03-01          1\n",
            "2020-03-02          1\n",
            "2020-03-03          2\n",
            "2020-03-04         11\n",
            "2020-03-05         22\n",
            "               ...   \n",
            "2021-01-12    1164819\n",
            "2021-01-13    1179523\n",
            "2021-01-14    1193710\n",
            "2021-01-15    1213179\n",
            "2021-01-16    1229124\n",
            "Name: cases, Length: 322, dtype: int64\n"
          ],
          "name": "stdout"
        }
      ]
    },
    {
      "cell_type": "code",
      "metadata": {
        "colab": {
          "base_uri": "https://localhost:8080/"
        },
        "id": "5aH_N171RsS0",
        "outputId": "cba3344b-d00d-4344-b237-5c3882d537e7"
      },
      "source": [
        "#difference in cases overtime\r\n",
        "diff=New_york['cases'].diff()\r\n",
        "diff"
      ],
      "execution_count": null,
      "outputs": [
        {
          "output_type": "execute_result",
          "data": {
            "text/plain": [
              "246          NaN\n",
              "261          0.0\n",
              "276          1.0\n",
              "293          9.0\n",
              "313         11.0\n",
              "          ...   \n",
              "17427    14704.0\n",
              "17482    14187.0\n",
              "17537    19469.0\n",
              "17592    15945.0\n",
              "17647    13694.0\n",
              "Name: cases, Length: 323, dtype: float64"
            ]
          },
          "metadata": {
            "tags": []
          },
          "execution_count": 21
        }
      ]
    },
    {
      "cell_type": "code",
      "metadata": {
        "colab": {
          "base_uri": "https://localhost:8080/",
          "height": 502
        },
        "id": "q4zVcxXASQEG",
        "outputId": "5d08a001-ae65-47b5-b72c-483da8d7e460"
      },
      "source": [
        "#Add 'New Daily Cases'\r\n",
        "New_york['New Daily Cases'] = diff\r\n",
        "New_york"
      ],
      "execution_count": null,
      "outputs": [
        {
          "output_type": "stream",
          "text": [
            "/usr/local/lib/python3.6/dist-packages/ipykernel_launcher.py:1: SettingWithCopyWarning: \n",
            "A value is trying to be set on a copy of a slice from a DataFrame.\n",
            "Try using .loc[row_indexer,col_indexer] = value instead\n",
            "\n",
            "See the caveats in the documentation: https://pandas.pydata.org/pandas-docs/stable/user_guide/indexing.html#returning-a-view-versus-a-copy\n",
            "  \"\"\"Entry point for launching an IPython kernel.\n"
          ],
          "name": "stderr"
        },
        {
          "output_type": "execute_result",
          "data": {
            "text/html": [
              "<div>\n",
              "<style scoped>\n",
              "    .dataframe tbody tr th:only-of-type {\n",
              "        vertical-align: middle;\n",
              "    }\n",
              "\n",
              "    .dataframe tbody tr th {\n",
              "        vertical-align: top;\n",
              "    }\n",
              "\n",
              "    .dataframe thead th {\n",
              "        text-align: right;\n",
              "    }\n",
              "</style>\n",
              "<table border=\"1\" class=\"dataframe\">\n",
              "  <thead>\n",
              "    <tr style=\"text-align: right;\">\n",
              "      <th></th>\n",
              "      <th>date</th>\n",
              "      <th>state</th>\n",
              "      <th>fips</th>\n",
              "      <th>cases</th>\n",
              "      <th>deaths</th>\n",
              "      <th>New_date</th>\n",
              "      <th>New Daily Cases</th>\n",
              "    </tr>\n",
              "  </thead>\n",
              "  <tbody>\n",
              "    <tr>\n",
              "      <th>246</th>\n",
              "      <td>2020-03-01</td>\n",
              "      <td>New York</td>\n",
              "      <td>36</td>\n",
              "      <td>1</td>\n",
              "      <td>0</td>\n",
              "      <td>2020-03-01</td>\n",
              "      <td>NaN</td>\n",
              "    </tr>\n",
              "    <tr>\n",
              "      <th>261</th>\n",
              "      <td>2020-03-02</td>\n",
              "      <td>New York</td>\n",
              "      <td>36</td>\n",
              "      <td>1</td>\n",
              "      <td>0</td>\n",
              "      <td>2020-03-02</td>\n",
              "      <td>0.0</td>\n",
              "    </tr>\n",
              "    <tr>\n",
              "      <th>276</th>\n",
              "      <td>2020-03-03</td>\n",
              "      <td>New York</td>\n",
              "      <td>36</td>\n",
              "      <td>2</td>\n",
              "      <td>0</td>\n",
              "      <td>2020-03-03</td>\n",
              "      <td>1.0</td>\n",
              "    </tr>\n",
              "    <tr>\n",
              "      <th>293</th>\n",
              "      <td>2020-03-04</td>\n",
              "      <td>New York</td>\n",
              "      <td>36</td>\n",
              "      <td>11</td>\n",
              "      <td>0</td>\n",
              "      <td>2020-03-04</td>\n",
              "      <td>9.0</td>\n",
              "    </tr>\n",
              "    <tr>\n",
              "      <th>313</th>\n",
              "      <td>2020-03-05</td>\n",
              "      <td>New York</td>\n",
              "      <td>36</td>\n",
              "      <td>22</td>\n",
              "      <td>0</td>\n",
              "      <td>2020-03-05</td>\n",
              "      <td>11.0</td>\n",
              "    </tr>\n",
              "    <tr>\n",
              "      <th>...</th>\n",
              "      <td>...</td>\n",
              "      <td>...</td>\n",
              "      <td>...</td>\n",
              "      <td>...</td>\n",
              "      <td>...</td>\n",
              "      <td>...</td>\n",
              "      <td>...</td>\n",
              "    </tr>\n",
              "    <tr>\n",
              "      <th>17427</th>\n",
              "      <td>2021-01-13</td>\n",
              "      <td>New York</td>\n",
              "      <td>36</td>\n",
              "      <td>1179523</td>\n",
              "      <td>39760</td>\n",
              "      <td>2021-01-13</td>\n",
              "      <td>14704.0</td>\n",
              "    </tr>\n",
              "    <tr>\n",
              "      <th>17482</th>\n",
              "      <td>2021-01-14</td>\n",
              "      <td>New York</td>\n",
              "      <td>36</td>\n",
              "      <td>1193710</td>\n",
              "      <td>39997</td>\n",
              "      <td>2021-01-14</td>\n",
              "      <td>14187.0</td>\n",
              "    </tr>\n",
              "    <tr>\n",
              "      <th>17537</th>\n",
              "      <td>2021-01-15</td>\n",
              "      <td>New York</td>\n",
              "      <td>36</td>\n",
              "      <td>1213179</td>\n",
              "      <td>40203</td>\n",
              "      <td>2021-01-15</td>\n",
              "      <td>19469.0</td>\n",
              "    </tr>\n",
              "    <tr>\n",
              "      <th>17592</th>\n",
              "      <td>2021-01-16</td>\n",
              "      <td>New York</td>\n",
              "      <td>36</td>\n",
              "      <td>1229124</td>\n",
              "      <td>40376</td>\n",
              "      <td>2021-01-16</td>\n",
              "      <td>15945.0</td>\n",
              "    </tr>\n",
              "    <tr>\n",
              "      <th>17647</th>\n",
              "      <td>2021-01-17</td>\n",
              "      <td>New York</td>\n",
              "      <td>36</td>\n",
              "      <td>1242818</td>\n",
              "      <td>40570</td>\n",
              "      <td>2021-01-17</td>\n",
              "      <td>13694.0</td>\n",
              "    </tr>\n",
              "  </tbody>\n",
              "</table>\n",
              "<p>323 rows × 7 columns</p>\n",
              "</div>"
            ],
            "text/plain": [
              "             date     state  fips    cases  deaths   New_date  New Daily Cases\n",
              "246    2020-03-01  New York    36        1       0 2020-03-01              NaN\n",
              "261    2020-03-02  New York    36        1       0 2020-03-02              0.0\n",
              "276    2020-03-03  New York    36        2       0 2020-03-03              1.0\n",
              "293    2020-03-04  New York    36       11       0 2020-03-04              9.0\n",
              "313    2020-03-05  New York    36       22       0 2020-03-05             11.0\n",
              "...           ...       ...   ...      ...     ...        ...              ...\n",
              "17427  2021-01-13  New York    36  1179523   39760 2021-01-13          14704.0\n",
              "17482  2021-01-14  New York    36  1193710   39997 2021-01-14          14187.0\n",
              "17537  2021-01-15  New York    36  1213179   40203 2021-01-15          19469.0\n",
              "17592  2021-01-16  New York    36  1229124   40376 2021-01-16          15945.0\n",
              "17647  2021-01-17  New York    36  1242818   40570 2021-01-17          13694.0\n",
              "\n",
              "[323 rows x 7 columns]"
            ]
          },
          "metadata": {
            "tags": []
          },
          "execution_count": 24
        }
      ]
    },
    {
      "cell_type": "code",
      "metadata": {
        "colab": {
          "base_uri": "https://localhost:8080/",
          "height": 733
        },
        "id": "26pJrGjPSv8B",
        "outputId": "1737fae5-b43c-428b-e898-92fedfba6230"
      },
      "source": [
        "# plotting New Cases over time\r\n",
        "\r\n",
        "sns.jointplot(x='New_date', y='New Daily Cases', data=New_york)\r\n",
        "New_york.plot(x='New_date',y='New Daily Cases',linewidth=2.0)"
      ],
      "execution_count": null,
      "outputs": [
        {
          "output_type": "execute_result",
          "data": {
            "text/plain": [
              "<matplotlib.axes._subplots.AxesSubplot at 0x7fa31bc0b668>"
            ]
          },
          "metadata": {
            "tags": []
          },
          "execution_count": 26
        },
        {
          "output_type": "display_data",
          "data": {
            "image/png": "[encoded data removed]",
            "text/plain": [
              "<Figure size 432x432 with 3 Axes>"
            ]
          },
          "metadata": {
            "tags": [],
            "needs_background": "light"
          }
        },
        {
          "output_type": "display_data",
          "data": {
            "image/png": "[encoded data removed]",
            "text/plain": [
              "<Figure size 432x288 with 1 Axes>"
            ]
          },
          "metadata": {
            "tags": [],
            "needs_background": "light"
          }
        }
      ]
    },
    {
      "cell_type": "markdown",
      "metadata": {
        "id": "IKuLfv3SF27O"
      },
      "source": [
        "# Task4: Understand NY covid 19 data in last 30 days"
      ]
    },
    {
      "cell_type": "code",
      "metadata": {
        "id": "280y4sHrAyuk",
        "colab": {
          "base_uri": "https://localhost:8080/",
          "height": 935
        },
        "outputId": "04e0cfb1-c96a-4405-9a83-bb98d409b85f"
      },
      "source": [
        "New_york.iloc[-30:]\r\n",
        "#displaying the NY data within the last 30 days\r\n",
        "New_york.month=New_york.iloc[-30:]\r\n",
        "New_york.month\r\n",
        "#storing data in a variable"
      ],
      "execution_count": null,
      "outputs": [
        {
          "output_type": "execute_result",
          "data": {
            "text/html": [
              "<div>\n",
              "<style scoped>\n",
              "    .dataframe tbody tr th:only-of-type {\n",
              "        vertical-align: middle;\n",
              "    }\n",
              "\n",
              "    .dataframe tbody tr th {\n",
              "        vertical-align: top;\n",
              "    }\n",
              "\n",
              "    .dataframe thead th {\n",
              "        text-align: right;\n",
              "    }\n",
              "</style>\n",
              "<table border=\"1\" class=\"dataframe\">\n",
              "  <thead>\n",
              "    <tr style=\"text-align: right;\">\n",
              "      <th></th>\n",
              "      <th>date</th>\n",
              "      <th>state</th>\n",
              "      <th>cases</th>\n",
              "      <th>deaths</th>\n",
              "      <th>New_date</th>\n",
              "    </tr>\n",
              "  </thead>\n",
              "  <tbody>\n",
              "    <tr>\n",
              "      <th>15997</th>\n",
              "      <td>2020-12-18</td>\n",
              "      <td>New York</td>\n",
              "      <td>832033</td>\n",
              "      <td>35775</td>\n",
              "      <td>2020-12-18</td>\n",
              "    </tr>\n",
              "    <tr>\n",
              "      <th>16052</th>\n",
              "      <td>2020-12-19</td>\n",
              "      <td>New York</td>\n",
              "      <td>841946</td>\n",
              "      <td>35897</td>\n",
              "      <td>2020-12-19</td>\n",
              "    </tr>\n",
              "    <tr>\n",
              "      <th>16107</th>\n",
              "      <td>2020-12-20</td>\n",
              "      <td>New York</td>\n",
              "      <td>851400</td>\n",
              "      <td>36017</td>\n",
              "      <td>2020-12-20</td>\n",
              "    </tr>\n",
              "    <tr>\n",
              "      <th>16162</th>\n",
              "      <td>2020-12-21</td>\n",
              "      <td>New York</td>\n",
              "      <td>860856</td>\n",
              "      <td>36147</td>\n",
              "      <td>2020-12-21</td>\n",
              "    </tr>\n",
              "    <tr>\n",
              "      <th>16217</th>\n",
              "      <td>2020-12-22</td>\n",
              "      <td>New York</td>\n",
              "      <td>871155</td>\n",
              "      <td>36300</td>\n",
              "      <td>2020-12-22</td>\n",
              "    </tr>\n",
              "    <tr>\n",
              "      <th>16272</th>\n",
              "      <td>2020-12-23</td>\n",
              "      <td>New York</td>\n",
              "      <td>882895</td>\n",
              "      <td>36454</td>\n",
              "      <td>2020-12-23</td>\n",
              "    </tr>\n",
              "    <tr>\n",
              "      <th>16327</th>\n",
              "      <td>2020-12-24</td>\n",
              "      <td>New York</td>\n",
              "      <td>896242</td>\n",
              "      <td>36604</td>\n",
              "      <td>2020-12-24</td>\n",
              "    </tr>\n",
              "    <tr>\n",
              "      <th>16382</th>\n",
              "      <td>2020-12-25</td>\n",
              "      <td>New York</td>\n",
              "      <td>909123</td>\n",
              "      <td>36739</td>\n",
              "      <td>2020-12-25</td>\n",
              "    </tr>\n",
              "    <tr>\n",
              "      <th>16437</th>\n",
              "      <td>2020-12-26</td>\n",
              "      <td>New York</td>\n",
              "      <td>920171</td>\n",
              "      <td>36870</td>\n",
              "      <td>2020-12-26</td>\n",
              "    </tr>\n",
              "    <tr>\n",
              "      <th>16492</th>\n",
              "      <td>2020-12-27</td>\n",
              "      <td>New York</td>\n",
              "      <td>928376</td>\n",
              "      <td>37000</td>\n",
              "      <td>2020-12-27</td>\n",
              "    </tr>\n",
              "    <tr>\n",
              "      <th>16547</th>\n",
              "      <td>2020-12-28</td>\n",
              "      <td>New York</td>\n",
              "      <td>938710</td>\n",
              "      <td>37118</td>\n",
              "      <td>2020-12-28</td>\n",
              "    </tr>\n",
              "    <tr>\n",
              "      <th>16602</th>\n",
              "      <td>2020-12-29</td>\n",
              "      <td>New York</td>\n",
              "      <td>950730</td>\n",
              "      <td>37256</td>\n",
              "      <td>2020-12-29</td>\n",
              "    </tr>\n",
              "    <tr>\n",
              "      <th>16657</th>\n",
              "      <td>2020-12-30</td>\n",
              "      <td>New York</td>\n",
              "      <td>963647</td>\n",
              "      <td>37412</td>\n",
              "      <td>2020-12-30</td>\n",
              "    </tr>\n",
              "    <tr>\n",
              "      <th>16712</th>\n",
              "      <td>2020-12-31</td>\n",
              "      <td>New York</td>\n",
              "      <td>979040</td>\n",
              "      <td>37557</td>\n",
              "      <td>2020-12-31</td>\n",
              "    </tr>\n",
              "    <tr>\n",
              "      <th>16767</th>\n",
              "      <td>2021-01-01</td>\n",
              "      <td>New York</td>\n",
              "      <td>996073</td>\n",
              "      <td>37733</td>\n",
              "      <td>2021-01-01</td>\n",
              "    </tr>\n",
              "    <tr>\n",
              "      <th>16822</th>\n",
              "      <td>2021-01-02</td>\n",
              "      <td>New York</td>\n",
              "      <td>1011922</td>\n",
              "      <td>37854</td>\n",
              "      <td>2021-01-02</td>\n",
              "    </tr>\n",
              "    <tr>\n",
              "      <th>16877</th>\n",
              "      <td>2021-01-03</td>\n",
              "      <td>New York</td>\n",
              "      <td>1024154</td>\n",
              "      <td>38001</td>\n",
              "      <td>2021-01-03</td>\n",
              "    </tr>\n",
              "    <tr>\n",
              "      <th>16932</th>\n",
              "      <td>2021-01-04</td>\n",
              "      <td>New York</td>\n",
              "      <td>1035396</td>\n",
              "      <td>38167</td>\n",
              "      <td>2021-01-04</td>\n",
              "    </tr>\n",
              "    <tr>\n",
              "      <th>16987</th>\n",
              "      <td>2021-01-05</td>\n",
              "      <td>New York</td>\n",
              "      <td>1048538</td>\n",
              "      <td>38315</td>\n",
              "      <td>2021-01-05</td>\n",
              "    </tr>\n",
              "    <tr>\n",
              "      <th>17042</th>\n",
              "      <td>2021-01-06</td>\n",
              "      <td>New York</td>\n",
              "      <td>1064554</td>\n",
              "      <td>38486</td>\n",
              "      <td>2021-01-06</td>\n",
              "    </tr>\n",
              "    <tr>\n",
              "      <th>17097</th>\n",
              "      <td>2021-01-07</td>\n",
              "      <td>New York</td>\n",
              "      <td>1082142</td>\n",
              "      <td>38683</td>\n",
              "      <td>2021-01-07</td>\n",
              "    </tr>\n",
              "    <tr>\n",
              "      <th>17152</th>\n",
              "      <td>2021-01-08</td>\n",
              "      <td>New York</td>\n",
              "      <td>1101702</td>\n",
              "      <td>38846</td>\n",
              "      <td>2021-01-08</td>\n",
              "    </tr>\n",
              "    <tr>\n",
              "      <th>17207</th>\n",
              "      <td>2021-01-09</td>\n",
              "      <td>New York</td>\n",
              "      <td>1119541</td>\n",
              "      <td>39041</td>\n",
              "      <td>2021-01-09</td>\n",
              "    </tr>\n",
              "    <tr>\n",
              "      <th>17262</th>\n",
              "      <td>2021-01-10</td>\n",
              "      <td>New York</td>\n",
              "      <td>1135849</td>\n",
              "      <td>39208</td>\n",
              "      <td>2021-01-10</td>\n",
              "    </tr>\n",
              "    <tr>\n",
              "      <th>17317</th>\n",
              "      <td>2021-01-11</td>\n",
              "      <td>New York</td>\n",
              "      <td>1150028</td>\n",
              "      <td>39404</td>\n",
              "      <td>2021-01-11</td>\n",
              "    </tr>\n",
              "    <tr>\n",
              "      <th>17372</th>\n",
              "      <td>2021-01-12</td>\n",
              "      <td>New York</td>\n",
              "      <td>1164819</td>\n",
              "      <td>39588</td>\n",
              "      <td>2021-01-12</td>\n",
              "    </tr>\n",
              "    <tr>\n",
              "      <th>17427</th>\n",
              "      <td>2021-01-13</td>\n",
              "      <td>New York</td>\n",
              "      <td>1179523</td>\n",
              "      <td>39760</td>\n",
              "      <td>2021-01-13</td>\n",
              "    </tr>\n",
              "    <tr>\n",
              "      <th>17482</th>\n",
              "      <td>2021-01-14</td>\n",
              "      <td>New York</td>\n",
              "      <td>1193710</td>\n",
              "      <td>39997</td>\n",
              "      <td>2021-01-14</td>\n",
              "    </tr>\n",
              "    <tr>\n",
              "      <th>17537</th>\n",
              "      <td>2021-01-15</td>\n",
              "      <td>New York</td>\n",
              "      <td>1213179</td>\n",
              "      <td>40203</td>\n",
              "      <td>2021-01-15</td>\n",
              "    </tr>\n",
              "    <tr>\n",
              "      <th>17592</th>\n",
              "      <td>2021-01-16</td>\n",
              "      <td>New York</td>\n",
              "      <td>1229124</td>\n",
              "      <td>40376</td>\n",
              "      <td>2021-01-16</td>\n",
              "    </tr>\n",
              "  </tbody>\n",
              "</table>\n",
              "</div>"
            ],
            "text/plain": [
              "             date     state    cases  deaths   New_date\n",
              "15997  2020-12-18  New York   832033   35775 2020-12-18\n",
              "16052  2020-12-19  New York   841946   35897 2020-12-19\n",
              "16107  2020-12-20  New York   851400   36017 2020-12-20\n",
              "16162  2020-12-21  New York   860856   36147 2020-12-21\n",
              "16217  2020-12-22  New York   871155   36300 2020-12-22\n",
              "16272  2020-12-23  New York   882895   36454 2020-12-23\n",
              "16327  2020-12-24  New York   896242   36604 2020-12-24\n",
              "16382  2020-12-25  New York   909123   36739 2020-12-25\n",
              "16437  2020-12-26  New York   920171   36870 2020-12-26\n",
              "16492  2020-12-27  New York   928376   37000 2020-12-27\n",
              "16547  2020-12-28  New York   938710   37118 2020-12-28\n",
              "16602  2020-12-29  New York   950730   37256 2020-12-29\n",
              "16657  2020-12-30  New York   963647   37412 2020-12-30\n",
              "16712  2020-12-31  New York   979040   37557 2020-12-31\n",
              "16767  2021-01-01  New York   996073   37733 2021-01-01\n",
              "16822  2021-01-02  New York  1011922   37854 2021-01-02\n",
              "16877  2021-01-03  New York  1024154   38001 2021-01-03\n",
              "16932  2021-01-04  New York  1035396   38167 2021-01-04\n",
              "16987  2021-01-05  New York  1048538   38315 2021-01-05\n",
              "17042  2021-01-06  New York  1064554   38486 2021-01-06\n",
              "17097  2021-01-07  New York  1082142   38683 2021-01-07\n",
              "17152  2021-01-08  New York  1101702   38846 2021-01-08\n",
              "17207  2021-01-09  New York  1119541   39041 2021-01-09\n",
              "17262  2021-01-10  New York  1135849   39208 2021-01-10\n",
              "17317  2021-01-11  New York  1150028   39404 2021-01-11\n",
              "17372  2021-01-12  New York  1164819   39588 2021-01-12\n",
              "17427  2021-01-13  New York  1179523   39760 2021-01-13\n",
              "17482  2021-01-14  New York  1193710   39997 2021-01-14\n",
              "17537  2021-01-15  New York  1213179   40203 2021-01-15\n",
              "17592  2021-01-16  New York  1229124   40376 2021-01-16"
            ]
          },
          "metadata": {
            "tags": []
          },
          "execution_count": 98
        }
      ]
    },
    {
      "cell_type": "code",
      "metadata": {
        "colab": {
          "base_uri": "https://localhost:8080/",
          "height": 1000
        },
        "id": "Qnf7TBlGfOQe",
        "outputId": "e2765045-f602-419a-99b6-93be3b9e44a3"
      },
      "source": [
        "sns.jointplot(x='New_date',y='cases',data=New_york.month)\r\n",
        "New_york.month.plot(x='New_date',y='cases',linewidth=2.0)\r\n",
        "sns.jointplot(x='New_date',y='deaths',data=New_york.month)\r\n",
        "New_york.month.plot(x='New_date',y='deaths',linewidth=2.0)"
      ],
      "execution_count": null,
      "outputs": [
        {
          "output_type": "execute_result",
          "data": {
            "text/plain": [
              "<matplotlib.axes._subplots.AxesSubplot at 0x7ff996411668>"
            ]
          },
          "metadata": {
            "tags": []
          },
          "execution_count": 104
        },
        {
          "output_type": "display_data",
          "data": {
            "image/png": "[encoded data removed]",
            "text/plain": [
              "<Figure size 432x432 with 3 Axes>"
            ]
          },
          "metadata": {
            "tags": []
          }
        },
        {
          "output_type": "display_data",
          "data": {
            "image/png": "[encoded data removed]",
            "text/plain": [
              "<Figure size 432x288 with 1 Axes>"
            ]
          },
          "metadata": {
            "tags": []
          }
        },
        {
          "output_type": "display_data",
          "data": {
            "image/png": "[encoded data removed]",
            "text/plain": [
              "<Figure size 432x432 with 3 Axes>"
            ]
          },
          "metadata": {
            "tags": []
          }
        },
        {
          "output_type": "display_data",
          "data": {
            "image/png": "[encoded data removed]",
            "text/plain": [
              "<Figure size 432x288 with 1 Axes>"
            ]
          },
          "metadata": {
            "tags": []
          }
        }
      ]
    },
    {
      "cell_type": "markdown",
      "metadata": {
        "id": "PtjNZZmOdAhy"
      },
      "source": [
        "# Task5: Comparing Covid 19 data with different states"
      ]
    },
    {
      "cell_type": "markdown",
      "metadata": {
        "id": "HInHQMh0dHvu"
      },
      "source": [
        "**Let's compare the Covid 19 cases after July for states: New York, California, Florida, Texas, Arizona**"
      ]
    },
    {
      "cell_type": "code",
      "metadata": {
        "colab": {
          "base_uri": "https://localhost:8080/",
          "height": 402
        },
        "id": "tx-wOAytRmHQ",
        "outputId": "cd64b712-e16d-4b45-bbc3-99e4719ab951"
      },
      "source": [
        "#Isolation of states, latest state is shown (Arizona)\r\n",
        "df.loc[df['state']==\"New York\"]\r\n",
        "df.loc[df['state']==\"California\"]\r\n",
        "df.loc[df['state']==\"Florida\"]\r\n",
        "df.loc[df['state']==\"Texas\"]\r\n",
        "df.loc[df['state']==\"Arizona\"]"
      ],
      "execution_count": null,
      "outputs": [
        {
          "output_type": "execute_result",
          "data": {
            "text/html": [
              "<div>\n",
              "<style scoped>\n",
              "    .dataframe tbody tr th:only-of-type {\n",
              "        vertical-align: middle;\n",
              "    }\n",
              "\n",
              "    .dataframe tbody tr th {\n",
              "        vertical-align: top;\n",
              "    }\n",
              "\n",
              "    .dataframe thead th {\n",
              "        text-align: right;\n",
              "    }\n",
              "</style>\n",
              "<table border=\"1\" class=\"dataframe\">\n",
              "  <thead>\n",
              "    <tr style=\"text-align: right;\">\n",
              "      <th></th>\n",
              "      <th>date</th>\n",
              "      <th>state</th>\n",
              "      <th>fips</th>\n",
              "      <th>cases</th>\n",
              "      <th>deaths</th>\n",
              "      <th>New_date</th>\n",
              "    </tr>\n",
              "  </thead>\n",
              "  <tbody>\n",
              "    <tr>\n",
              "      <th>8</th>\n",
              "      <td>2020-01-26</td>\n",
              "      <td>Arizona</td>\n",
              "      <td>4</td>\n",
              "      <td>1</td>\n",
              "      <td>0</td>\n",
              "      <td>2020-01-26</td>\n",
              "    </tr>\n",
              "    <tr>\n",
              "      <th>12</th>\n",
              "      <td>2020-01-27</td>\n",
              "      <td>Arizona</td>\n",
              "      <td>4</td>\n",
              "      <td>1</td>\n",
              "      <td>0</td>\n",
              "      <td>2020-01-27</td>\n",
              "    </tr>\n",
              "    <tr>\n",
              "      <th>16</th>\n",
              "      <td>2020-01-28</td>\n",
              "      <td>Arizona</td>\n",
              "      <td>4</td>\n",
              "      <td>1</td>\n",
              "      <td>0</td>\n",
              "      <td>2020-01-28</td>\n",
              "    </tr>\n",
              "    <tr>\n",
              "      <th>20</th>\n",
              "      <td>2020-01-29</td>\n",
              "      <td>Arizona</td>\n",
              "      <td>4</td>\n",
              "      <td>1</td>\n",
              "      <td>0</td>\n",
              "      <td>2020-01-29</td>\n",
              "    </tr>\n",
              "    <tr>\n",
              "      <th>24</th>\n",
              "      <td>2020-01-30</td>\n",
              "      <td>Arizona</td>\n",
              "      <td>4</td>\n",
              "      <td>1</td>\n",
              "      <td>0</td>\n",
              "      <td>2020-01-30</td>\n",
              "    </tr>\n",
              "    <tr>\n",
              "      <th>...</th>\n",
              "      <td>...</td>\n",
              "      <td>...</td>\n",
              "      <td>...</td>\n",
              "      <td>...</td>\n",
              "      <td>...</td>\n",
              "      <td>...</td>\n",
              "    </tr>\n",
              "    <tr>\n",
              "      <th>17396</th>\n",
              "      <td>2021-01-13</td>\n",
              "      <td>Arizona</td>\n",
              "      <td>4</td>\n",
              "      <td>643683</td>\n",
              "      <td>10689</td>\n",
              "      <td>2021-01-13</td>\n",
              "    </tr>\n",
              "    <tr>\n",
              "      <th>17451</th>\n",
              "      <td>2021-01-14</td>\n",
              "      <td>Arizona</td>\n",
              "      <td>4</td>\n",
              "      <td>653546</td>\n",
              "      <td>10876</td>\n",
              "      <td>2021-01-14</td>\n",
              "    </tr>\n",
              "    <tr>\n",
              "      <th>17506</th>\n",
              "      <td>2021-01-15</td>\n",
              "      <td>Arizona</td>\n",
              "      <td>4</td>\n",
              "      <td>662597</td>\n",
              "      <td>11060</td>\n",
              "      <td>2021-01-15</td>\n",
              "    </tr>\n",
              "    <tr>\n",
              "      <th>17561</th>\n",
              "      <td>2021-01-16</td>\n",
              "      <td>Arizona</td>\n",
              "      <td>4</td>\n",
              "      <td>670234</td>\n",
              "      <td>11248</td>\n",
              "      <td>2021-01-16</td>\n",
              "    </tr>\n",
              "    <tr>\n",
              "      <th>17616</th>\n",
              "      <td>2021-01-17</td>\n",
              "      <td>Arizona</td>\n",
              "      <td>4</td>\n",
              "      <td>673882</td>\n",
              "      <td>11266</td>\n",
              "      <td>2021-01-17</td>\n",
              "    </tr>\n",
              "  </tbody>\n",
              "</table>\n",
              "<p>358 rows × 6 columns</p>\n",
              "</div>"
            ],
            "text/plain": [
              "             date    state  fips   cases  deaths   New_date\n",
              "8      2020-01-26  Arizona     4       1       0 2020-01-26\n",
              "12     2020-01-27  Arizona     4       1       0 2020-01-27\n",
              "16     2020-01-28  Arizona     4       1       0 2020-01-28\n",
              "20     2020-01-29  Arizona     4       1       0 2020-01-29\n",
              "24     2020-01-30  Arizona     4       1       0 2020-01-30\n",
              "...           ...      ...   ...     ...     ...        ...\n",
              "17396  2021-01-13  Arizona     4  643683   10689 2021-01-13\n",
              "17451  2021-01-14  Arizona     4  653546   10876 2021-01-14\n",
              "17506  2021-01-15  Arizona     4  662597   11060 2021-01-15\n",
              "17561  2021-01-16  Arizona     4  670234   11248 2021-01-16\n",
              "17616  2021-01-17  Arizona     4  673882   11266 2021-01-17\n",
              "\n",
              "[358 rows x 6 columns]"
            ]
          },
          "metadata": {
            "tags": []
          },
          "execution_count": 55
        }
      ]
    },
    {
      "cell_type": "code",
      "metadata": {
        "id": "4B6UnNytigAV"
      },
      "source": [
        "# save states as variables\r\n",
        "arizona=df.loc[df['state']==\"Arizona\"]\r\n",
        "newyork=df.loc[df['state']==\"New York\"]\r\n",
        "california=df.loc[df['state']==\"California\"]\r\n",
        "florida=df.loc[df['state']==\"Florida\"]\r\n",
        "texas=df.loc[df['state']==\"Texas\"]\r\n",
        "\r\n"
      ],
      "execution_count": null,
      "outputs": []
    },
    {
      "cell_type": "code",
      "metadata": {
        "colab": {
          "base_uri": "https://localhost:8080/",
          "height": 293
        },
        "id": "UQpITtgrW_zq",
        "outputId": "8c750736-934a-4925-c32b-ae578e69c933"
      },
      "source": [
        "# multiple line plot, case increase per state overtime\r\n",
        "plt.plot( 'New_date', 'cases', data=newyork, marker='',color='blue', linewidth=2, linestyle='dashed',label='new york')\r\n",
        "plt.plot( 'New_date', 'cases', data=arizona, marker='', color='olive', linewidth=2,linestyle='dashed',label='arizona')\r\n",
        "plt.plot( 'New_date', 'cases', data=california, marker='', color='pink', linewidth=2, linestyle='dashed', label=\"california\")\r\n",
        "plt.plot( 'New_date', 'cases', data=florida, marker='', color='black', linewidth=2, linestyle='dashed', label=\"florida\")\r\n",
        "plt.plot( 'New_date', 'cases', data=texas, marker='', color='red', linewidth=2, linestyle='dashed', label=\"texas\")\r\n",
        "plt.legend()\r\n"
      ],
      "execution_count": null,
      "outputs": [
        {
          "output_type": "execute_result",
          "data": {
            "text/plain": [
              "<matplotlib.legend.Legend at 0x7fa31b11a160>"
            ]
          },
          "metadata": {
            "tags": []
          },
          "execution_count": 44
        },
        {
          "output_type": "display_data",
          "data": {
            "image/png": "[encoded data removed]",
            "text/plain": [
              "<Figure size 432x288 with 1 Axes>"
            ]
          },
          "metadata": {
            "tags": [],
            "needs_background": "light"
          }
        }
      ]
    },
    {
      "cell_type": "code",
      "metadata": {
        "colab": {
          "base_uri": "https://localhost:8080/",
          "height": 282
        },
        "id": "hZK0iB0obIFu",
        "outputId": "6609e960-6b9c-40a8-fb8c-2687f67a5e56"
      },
      "source": [
        "# multiple line plot, death increase per state overtime\r\n",
        "plt.plot( 'New_date', 'deaths', data=newyork, marker='',color='blue', linewidth=2, linestyle='dashed',label='new york')\r\n",
        "plt.plot( 'New_date', 'deaths', data=arizona, marker='', color='olive', linewidth=2,linestyle='dashed',label='arizona')\r\n",
        "plt.plot( 'New_date', 'deaths', data=california, marker='', color='pink', linewidth=2, linestyle='dashed', label=\"california\")\r\n",
        "plt.plot( 'New_date', 'deaths', data=florida, marker='', color='black', linewidth=2, linestyle='dashed', label=\"florida\")\r\n",
        "plt.plot( 'New_date', 'deaths', data=texas, marker='', color='red', linewidth=2, linestyle='dashed', label=\"texas\")\r\n",
        "plt.legend()\r\n"
      ],
      "execution_count": null,
      "outputs": [
        {
          "output_type": "execute_result",
          "data": {
            "text/plain": [
              "<matplotlib.legend.Legend at 0x7fa31c2c54a8>"
            ]
          },
          "metadata": {
            "tags": []
          },
          "execution_count": 50
        },
        {
          "output_type": "display_data",
          "data": {
            "image/png": "[encoded data removed]",
            "text/plain": [
              "<Figure size 432x288 with 1 Axes>"
            ]
          },
          "metadata": {
            "tags": [],
            "needs_background": "light"
          }
        }
      ]
    },
    {
      "cell_type": "markdown",
      "metadata": {
        "id": "Hwch-J5PIHA1"
      },
      "source": [
        "# Task6: Conclusion"
      ]
    },
    {
      "cell_type": "markdown",
      "metadata": {
        "id": "q5G5KP6CINBS"
      },
      "source": [
        "Below are the conclusions:\r\n",
        "\r\n",
        "1.   Task 3\r\n",
        "          a.Since March 1, 2020, cases and deaths from COVID-19 have been increasing on an upward curve.\r\n",
        "          b.The average daily case count in New York is 447,385.\r\n",
        "          c.The average daily death count in New York is 27,777.\r\n",
        "          d.In the beginning, the case count and the death count were both increasing. \r\n",
        "          As time went on, the death count started to decrease as the case increased. \r\n",
        "          This could be attributed to effective treatments and a better understanding of the virus.\r\n",
        "          \r\n",
        "2.  Task 4\r\n",
        "          a.In the past 30 days, New York as seen a steady increase in both cases and deaths.\r\n",
        "3. Task 5\r\n",
        "          a.Comparing New York cases to other states after July 2020, we see a leveling of cases until Nov 2020. \r\n",
        "          b.After Nov 2020, cases start rising in five states with the biggest rise in California, Texas and Florida.\r\n",
        "          This is followed by New York and Arizona.\r\n",
        "          c.Comparing New York total deaths to other states after July 2020, New York still has the highest death toll. \r\n",
        "          d.However, after November 2020, Texas and California's death toll is steadily rising followed by Florida and Arizona.\r\n",
        "          e.California's death toll matched the death toll of Texas and then surpased it.\r\n",
        "          The rise in cases can be contributed to numerous factors including holiday travel and the 2020 election.\r\n",
        "\r\n",
        "      \r\n",
        " \r\n",
        "\r\n",
        "\r\n",
        "\r\n",
        "\r\n",
        "\r\n",
        "\r\n",
        "\r\n"
      ]
    }
  ]
}