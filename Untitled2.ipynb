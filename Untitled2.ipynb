{
  "nbformat": 4,
  "nbformat_minor": 0,
  "metadata": {
    "colab": {
      "name": "Untitled2.ipynb",
      "provenance": [],
      "authorship_tag": "ABX9TyNLP+e+95h7r4Z6cWtJqCuL",
      "include_colab_link": true
    },
    "kernelspec": {
      "name": "python3",
      "display_name": "Python 3"
    }
  },
  "cells": [
    {
      "cell_type": "markdown",
      "metadata": {
        "id": "view-in-github",
        "colab_type": "text"
      },
      "source": [
        "<a href=\"https://colab.research.google.com/github/neilsubick/data_analytics/blob/main/Untitled2.ipynb\" target=\"_parent\"><img src=\"https://colab.research.google.com/assets/colab-badge.svg\" alt=\"Open In Colab\"/></a>"
      ]
    },
    {
      "cell_type": "code",
      "metadata": {
        "colab": {
          "base_uri": "https://localhost:8080/"
        },
        "id": "xDCt3rIvrWWP",
        "outputId": "0365f763-bd0b-4dc8-ec98-9a8b003ddd4a"
      },
      "source": [
        "friends = ['Amy','David','Michael']\r\n",
        "print(friends)\r\n",
        "print(friends[1])\r\n",
        "print(friends[-1])\r\n",
        "print(friends[0])\r\n",
        "\r\n",
        "message = \"Long time no see, \" + friends[0]\r\n",
        "print(message)\r\n"
      ],
      "execution_count": 8,
      "outputs": [
        {
          "output_type": "stream",
          "text": [
            "['Amy', 'David', 'Michael']\n",
            "David\n",
            "Michael\n",
            "Amy\n",
            "Long time no see, Amy\n"
          ],
          "name": "stdout"
        }
      ]
    },
    {
      "cell_type": "code",
      "metadata": {
        "colab": {
          "base_uri": "https://localhost:8080/"
        },
        "id": "mQmYN8Q6ygvF",
        "outputId": "257d3a9a-25ef-43e4-e7df-6b02101999f1"
      },
      "source": [
        "friends = ['Amy','David','Michael']\r\n",
        "friends[1] = \"Susan\"\r\n",
        "print(friends)\r\n",
        "friendsnew = ['Chloe', 'Mathew']\r\n",
        "friends.append([\"Chloe\",\"Mathew\"])\r\n",
        "print(friends)"
      ],
      "execution_count": 13,
      "outputs": [
        {
          "output_type": "stream",
          "text": [
            "['Amy', 'Susan', 'Michael']\n",
            "['Amy', 'Susan', 'Michael', ['Chloe', 'Mathew']]\n"
          ],
          "name": "stdout"
        }
      ]
    },
    {
      "cell_type": "code",
      "metadata": {
        "colab": {
          "base_uri": "https://localhost:8080/"
        },
        "id": "_8qeZRXS2V7a",
        "outputId": "8c13f5fa-eecb-4a9f-a6a7-ba83a2c74b05"
      },
      "source": [
        "friends =  ['Amy','David','Michael']\r\n",
        "print(friends)\r\n",
        "del friends[1]\r\n",
        "print(friends)"
      ],
      "execution_count": 14,
      "outputs": [
        {
          "output_type": "stream",
          "text": [
            "['Amy', 'David', 'Michael']\n",
            "['Amy', 'Michael']\n"
          ],
          "name": "stdout"
        }
      ]
    },
    {
      "cell_type": "code",
      "metadata": {
        "colab": {
          "base_uri": "https://localhost:8080/"
        },
        "id": "tX6-55V63SWt",
        "outputId": "cf16e3a3-fff5-4fe5-a6e0-0beed4ca92bc"
      },
      "source": [
        "friends = ['Amy','David','Michael']\r\n",
        "print(friends)\r\n",
        "friends.remove('Amy')\r\n",
        "print(friends)"
      ],
      "execution_count": 15,
      "outputs": [
        {
          "output_type": "stream",
          "text": [
            "['Amy', 'David', 'Michael']\n",
            "['David', 'Michael']\n"
          ],
          "name": "stdout"
        }
      ]
    },
    {
      "cell_type": "code",
      "metadata": {
        "colab": {
          "base_uri": "https://localhost:8080/"
        },
        "id": "rxafyAV45PBa",
        "outputId": "578a7f71-1a71-4983-b784-019acfe4cac2"
      },
      "source": [
        "foodordered = [\"Bread\",\"Salad\",\"Soup\"]\r\n",
        "print(foodordered)\r\n",
        "foodordered.append(\"Pie\")\r\n",
        "print(foodordered)\r\n",
        "foodordered.insert(2,\"Coke\")\r\n",
        "print(foodordered)"
      ],
      "execution_count": 19,
      "outputs": [
        {
          "output_type": "stream",
          "text": [
            "['Bread', 'Salad', 'Soup']\n",
            "['Bread', 'Salad', 'Soup', 'Pie']\n",
            "['Bread', 'Salad', 'Coke', 'Soup', 'Pie']\n"
          ],
          "name": "stdout"
        }
      ]
    },
    {
      "cell_type": "code",
      "metadata": {
        "colab": {
          "base_uri": "https://localhost:8080/"
        },
        "id": "3QO4mEEA7BFL",
        "outputId": "4a5491f1-cc99-4c1d-b314-cbb0930b6b63"
      },
      "source": [
        "print(foodordered)\r\n",
        "foodordered.sort()\r\n",
        "print(foodordered)\r\n",
        "foodordered.sort(reverse=True)\r\n",
        "print(foodordered)\r\n",
        "len(foodordered)"
      ],
      "execution_count": 25,
      "outputs": [
        {
          "output_type": "stream",
          "text": [
            "['Soup', 'Salad', 'Pie', 'Coke', 'Bread']\n",
            "['Bread', 'Coke', 'Pie', 'Salad', 'Soup']\n",
            "['Soup', 'Salad', 'Pie', 'Coke', 'Bread']\n"
          ],
          "name": "stdout"
        },
        {
          "output_type": "execute_result",
          "data": {
            "text/plain": [
              "5"
            ]
          },
          "metadata": {
            "tags": []
          },
          "execution_count": 25
        }
      ]
    },
    {
      "cell_type": "code",
      "metadata": {
        "colab": {
          "base_uri": "https://localhost:8080/"
        },
        "id": "VUdz1k4Z72NR",
        "outputId": "28c3c4ff-1d2c-47b9-b4e8-8a6eb705307d"
      },
      "source": [
        "vacationlist = [\"India\",\"Korean\",\"Bali\", \"Russia\",\"Canada\"]\r\n",
        "print(vacationlist)\r\n",
        "vacationlist.sort()\r\n",
        "print(vacationlist)\r\n",
        "vacationlist.sort(reverse=True)\r\n",
        "print(vacationlist)\r\n",
        "len(vacationlist)\r\n"
      ],
      "execution_count": 37,
      "outputs": [
        {
          "output_type": "stream",
          "text": [
            "['India', 'Korean', 'Bali', 'Russia', 'Canada']\n",
            "['Bali', 'Canada', 'India', 'Korean', 'Russia']\n",
            "['Russia', 'Korean', 'India', 'Canada', 'Bali']\n"
          ],
          "name": "stdout"
        },
        {
          "output_type": "execute_result",
          "data": {
            "text/plain": [
              "5"
            ]
          },
          "metadata": {
            "tags": []
          },
          "execution_count": 37
        }
      ]
    },
    {
      "cell_type": "code",
      "metadata": {
        "colab": {
          "base_uri": "https://localhost:8080/"
        },
        "id": "6bnsoJzdC3s5",
        "outputId": "e008d1fa-e67e-4478-b4e3-581f07cafddf"
      },
      "source": [
        "tv_shows = ['Game of Thrones','Greys Anatomy', 'A Teacher','Locke and key','The OA' ]\r\n",
        "print(tv_shows)\r\n",
        "tv_shows.sort()\r\n",
        "print(tv_shows)\r\n",
        "tv_shows.sort(reverse=True)\r\n",
        "print(tv_shows)\r\n",
        "len(tv_shows)"
      ],
      "execution_count": 41,
      "outputs": [
        {
          "output_type": "stream",
          "text": [
            "['Game of Thrones', 'Greys Anatomy', 'A Teacher', 'Locke and key', 'The OA']\n",
            "['A Teacher', 'Game of Thrones', 'Greys Anatomy', 'Locke and key', 'The OA']\n",
            "['The OA', 'Locke and key', 'Greys Anatomy', 'Game of Thrones', 'A Teacher']\n"
          ],
          "name": "stdout"
        },
        {
          "output_type": "execute_result",
          "data": {
            "text/plain": [
              "5"
            ]
          },
          "metadata": {
            "tags": []
          },
          "execution_count": 41
        }
      ]
    }
  ]
}