{
  "nbformat": 4,
  "nbformat_minor": 0,
  "metadata": {
    "colab": {
      "name": "Practice Exercise for Review011221",
      "provenance": [],
      "collapsed_sections": [],
      "include_colab_link": true
    },
    "kernelspec": {
      "name": "python3",
      "display_name": "Python 3"
    }
  },
  "cells": [
    {
      "cell_type": "markdown",
      "metadata": {
        "id": "view-in-github",
        "colab_type": "text"
      },
      "source": [
        "<a href=\"https://colab.research.google.com/github/neilsubick/data_analytics/blob/main/Practice_Exercise_for_Review011221.ipynb\" target=\"_parent\"><img src=\"https://colab.research.google.com/assets/colab-badge.svg\" alt=\"Open In Colab\"/></a>"
      ]
    },
    {
      "cell_type": "markdown",
      "metadata": {
        "id": "tXcr7hqpYFIo"
      },
      "source": [
        "1. Write a Python program to sum all the items in a list"
      ]
    },
    {
      "cell_type": "code",
      "metadata": {
        "id": "Htkj5scKX53s",
        "outputId": "98d6714c-58ab-455b-dbea-fbc2ab18e32b",
        "colab": {
          "base_uri": "https://localhost:8080/"
        }
      },
      "source": [
        "def sum_list(items):\r\n",
        "    sum_numbers = 0\r\n",
        "    for x in items:\r\n",
        "        sum_numbers += x\r\n",
        "    return sum_numbers\r\n",
        "print(sum_list([19,77,89]))"
      ],
      "execution_count": 29,
      "outputs": [
        {
          "output_type": "stream",
          "text": [
            "185\n"
          ],
          "name": "stdout"
        }
      ]
    },
    {
      "cell_type": "markdown",
      "metadata": {
        "id": "2P9TAiyYYOcc"
      },
      "source": [
        "2. Write a Python program to count the number of strings where the string length is 2 or more and the first and last character are same from a given list of strings\r\n",
        "* Sample List : ['abc', 'xyz', 'aba', '1221']\r\n",
        "\r\n",
        "\r\n"
      ]
    },
    {
      "cell_type": "code",
      "metadata": {
        "id": "0XL35NokYpBZ",
        "outputId": "8d3ad97f-03e0-4a09-aab8-2c5caefa97d0",
        "colab": {
          "base_uri": "https://localhost:8080/"
        }
      },
      "source": [
        "def match_words(words):\r\n",
        "  ctr = 0\r\n",
        "\r\n",
        "  for word in words:\r\n",
        "    if len(word) > 1 and word[0] == word[-1]:\r\n",
        "      ctr += 1\r\n",
        "  return ctr\r\n",
        "\r\n",
        "print(match_words(['abc', 'xyz', 'aba', '1221']))"
      ],
      "execution_count": 1,
      "outputs": [
        {
          "output_type": "stream",
          "text": [
            "2\n"
          ],
          "name": "stdout"
        }
      ]
    },
    {
      "cell_type": "markdown",
      "metadata": {
        "id": "4lsqufkdYqHg"
      },
      "source": [
        "3. Write a Python function that takes two lists and returns True if they have at least one common member."
      ]
    },
    {
      "cell_type": "code",
      "metadata": {
        "id": "hNhFSqHFYsWa",
        "outputId": "d5f11834-329d-4452-d8c2-67df71a53a05",
        "colab": {
          "base_uri": "https://localhost:8080/"
        }
      },
      "source": [
        "def common_data(list1, list2):\r\n",
        "     result = False\r\n",
        "     for x in list1:\r\n",
        "         for y in list2:\r\n",
        "             if x == y:\r\n",
        "                 result = True\r\n",
        "                 return result\r\n",
        "print(common_data([11,12,13,14,15], [15,16,17,18,19]))\r\n",
        "print(common_data([11,12,13,14,15], [16,17,18,19]))"
      ],
      "execution_count": 4,
      "outputs": [
        {
          "output_type": "stream",
          "text": [
            "True\n",
            "None\n"
          ],
          "name": "stdout"
        }
      ]
    },
    {
      "cell_type": "markdown",
      "metadata": {
        "id": "vYfPDaBmYtFo"
      },
      "source": [
        "4. Write a Python program to print a specified list after removing the 0th, 4th and 5th elements.\r\n",
        "* Sample List : ['Red', 'Green', 'White', 'Black', 'Pink', 'Yellow']\r\n",
        "\r\n",
        "\r\n",
        "\r\n",
        "\r\n",
        "\r\n"
      ]
    },
    {
      "cell_type": "code",
      "metadata": {
        "id": "wXCNsI3qZAjB",
        "outputId": "14797690-6247-468d-b9f2-3e4c2ad12fb7",
        "colab": {
          "base_uri": "https://localhost:8080/"
        }
      },
      "source": [
        "color = ['Red', 'Green', 'White', 'Black', 'Pink', 'Yellow']\r\n",
        "color = [x for (i,x) in enumerate(color) if i not in (0,4,5)]\r\n",
        "print(color)"
      ],
      "execution_count": 2,
      "outputs": [
        {
          "output_type": "stream",
          "text": [
            "['Green', 'White', 'Black']\n"
          ],
          "name": "stdout"
        }
      ]
    },
    {
      "cell_type": "markdown",
      "metadata": {
        "id": "TR8c2eW_ZBJI"
      },
      "source": [
        ""
      ]
    },
    {
      "cell_type": "markdown",
      "metadata": {
        "id": "6qkBW70uZEkh"
      },
      "source": [
        "5. Write a Python program to print the numbers of a specified list after removing even numbers from it."
      ]
    },
    {
      "cell_type": "code",
      "metadata": {
        "id": "4BZTc8uqZHQo",
        "outputId": "04f101b2-8cc4-408c-9772-9dec1b9c6725",
        "colab": {
          "base_uri": "https://localhost:8080/"
        }
      },
      "source": [
        "num = [3, 5, 7, 8, 125, 42, 10, 35]\r\n",
        "num = [x for x in num if x%2!=0]\r\n",
        "print(num)"
      ],
      "execution_count": 6,
      "outputs": [
        {
          "output_type": "stream",
          "text": [
            "[3, 5, 7, 125, 35]\n"
          ],
          "name": "stdout"
        }
      ]
    },
    {
      "cell_type": "markdown",
      "metadata": {
        "id": "iIrq_TfAZQhk"
      },
      "source": [
        "6. Write a Python program to convert a list of characters into a string."
      ]
    },
    {
      "cell_type": "code",
      "metadata": {
        "id": "9hPTJj5gZSnk",
        "outputId": "7240d5a4-048b-45e2-c49e-73dd2f60f71a",
        "colab": {
          "base_uri": "https://localhost:8080/"
        }
      },
      "source": [
        "s = ['C', 'h', 'a', 't']\r\n",
        "str1 = ''.join(s)\r\n",
        "print(str1)"
      ],
      "execution_count": 8,
      "outputs": [
        {
          "output_type": "stream",
          "text": [
            "Chat\n"
          ],
          "name": "stdout"
        }
      ]
    },
    {
      "cell_type": "markdown",
      "metadata": {
        "id": "SkdABAMBZgar"
      },
      "source": [
        "8. Write a Python program to count the number of elements in a list within a specified range."
      ]
    },
    {
      "cell_type": "code",
      "metadata": {
        "id": "-7xMT5hwaDsO",
        "outputId": "e83a6ebb-fea5-4fd4-ddbe-54b97c801e36",
        "colab": {
          "base_uri": "https://localhost:8080/"
        }
      },
      "source": [
        "def count_range_in_list(li, min, max):\r\n",
        "\tctr = 0\r\n",
        "\tfor x in li:\r\n",
        "\t\tif min <= x <= max:\r\n",
        "\t\t\tctr += 1\r\n",
        "\treturn ctr\r\n",
        "\r\n",
        "list1 = [1,2,3,4,5,6,7,8,9]\r\n",
        "print(count_range_in_list(list1, 4, 9))\r\n",
        "\r\n",
        "list2 = ['a','b','c','d']\r\n",
        "print(count_range_in_list(list2, 'a', 'c'))"
      ],
      "execution_count": 14,
      "outputs": [
        {
          "output_type": "stream",
          "text": [
            "6\n",
            "3\n"
          ],
          "name": "stdout"
        }
      ]
    },
    {
      "cell_type": "markdown",
      "metadata": {
        "id": "3LxonRtgceIz"
      },
      "source": [
        "9. Write a Python program to convert a list of multiple integers into a single integer\r\n",
        "*  Sample list: [11, 33, 50]\r\n",
        "\r\n"
      ]
    },
    {
      "cell_type": "code",
      "metadata": {
        "id": "TCkuaRkAciey",
        "outputId": "9fc93f8d-5a16-4585-8812-843248c35db6",
        "colab": {
          "base_uri": "https://localhost:8080/"
        }
      },
      "source": [
        "L = [11, 33, 50]\r\n",
        "print(\"Original List: \",L)\r\n",
        "x = int(\"\".join(map(str, L)))\r\n",
        "print(\"Single Integer: \",x)"
      ],
      "execution_count": 15,
      "outputs": [
        {
          "output_type": "stream",
          "text": [
            "Original List:  [11, 33, 50]\n",
            "Single Integer:  113350\n"
          ],
          "name": "stdout"
        }
      ]
    },
    {
      "cell_type": "markdown",
      "metadata": {
        "id": "X5V3Hvh1hafZ"
      },
      "source": [
        "10.Write a Python program to print a nested lists (each list on a new line) using the print() function.\r\n",
        "\r\n",
        "*  colors = [['Red'], ['Green'], ['Black']]\r\n",
        "\r\n"
      ]
    },
    {
      "cell_type": "code",
      "metadata": {
        "id": "04nRLJj1eYjM",
        "outputId": "32d4f1c2-920a-4d80-c2cc-da5976ea9ca7",
        "colab": {
          "base_uri": "https://localhost:8080/"
        }
      },
      "source": [
        "colors = [['Red'], ['Green'], ['Black']]\r\n",
        "print('\\n'.join([str(lst) for lst in colors]))"
      ],
      "execution_count": 16,
      "outputs": [
        {
          "output_type": "stream",
          "text": [
            "['Red']\n",
            "['Green']\n",
            "['Black']\n"
          ],
          "name": "stdout"
        }
      ]
    },
    {
      "cell_type": "markdown",
      "metadata": {
        "id": "6aoN9DIcik2G"
      },
      "source": [
        "11. Write a Python script to concatenate following dictionaries to create a new one using a loop\r\n",
        "\r\n",
        "* dic1={1:10, 2:20}\r\n",
        "* dic2={3:30, 4:40}\r\n",
        "* dic3={5:50,6:60}\r\n",
        "\r\n",
        "\r\n",
        "\r\n",
        "\r\n"
      ]
    },
    {
      "cell_type": "code",
      "metadata": {
        "id": "tRcQVNDajOBG",
        "outputId": "1b7ff7c4-aa35-4b5b-bf47-d3c68b46a11e",
        "colab": {
          "base_uri": "https://localhost:8080/"
        }
      },
      "source": [
        "dic1={1:10, 2:20}\r\n",
        "dic2={3:30, 4:40}\r\n",
        "dic3={5:50,6:60}\r\n",
        "dic4 = {}\r\n",
        "for d in (dic1, dic2, dic3): dic4.update(d)\r\n",
        "print(dic4)"
      ],
      "execution_count": 17,
      "outputs": [
        {
          "output_type": "stream",
          "text": [
            "{1: 10, 2: 20, 3: 30, 4: 40, 5: 50, 6: 60}\n"
          ],
          "name": "stdout"
        }
      ]
    },
    {
      "cell_type": "markdown",
      "metadata": {
        "id": "LJ9xp0nmjV-0"
      },
      "source": [
        "12.Write a Python script to check whether a given key already exists in a dictionary."
      ]
    },
    {
      "cell_type": "code",
      "metadata": {
        "id": "o6eNQ9RQjlHc",
        "outputId": "de66c8ba-bb7a-44dc-d6c0-e09a2c13ab1a",
        "colab": {
          "base_uri": "https://localhost:8080/"
        }
      },
      "source": [
        "d = {1: 10, 2: 20, 3: 30, 4: 40, 5: 50, 6: 60}\r\n",
        "def is_key_present(x):\r\n",
        "  if x in d:\r\n",
        "      print('Key is present in the dictionary')\r\n",
        "  else:\r\n",
        "      print('Key is not present in the dictionary')\r\n",
        "is_key_present(5)\r\n",
        "is_key_present(9)"
      ],
      "execution_count": 18,
      "outputs": [
        {
          "output_type": "stream",
          "text": [
            "Key is present in the dictionary\n",
            "Key is not present in the dictionary\n"
          ],
          "name": "stdout"
        }
      ]
    },
    {
      "cell_type": "markdown",
      "metadata": {
        "id": "u49NsDHVkGed"
      },
      "source": [
        "13  Write a Python program to check the validity of password input by users. Go to the editor\r\n",
        "Validation :\r\n",
        "*  At least 1 character from [$#@].\r\n",
        "*  Minimum length 6 characters.\r\n",
        "\r\n",
        "\r\n",
        "\r\n"
      ]
    },
    {
      "cell_type": "code",
      "metadata": {
        "id": "tBrQdblskbzJ",
        "outputId": "a525a346-e9b0-4338-be86-299a7df29e7a",
        "colab": {
          "base_uri": "https://localhost:8080/"
        }
      },
      "source": [
        "import re\r\n",
        "p= input(\"Input your password\")\r\n",
        "x = True\r\n",
        "while x:  \r\n",
        "    if (len(p)<=6):\r\n",
        "        break\r\n",
        "    elif not re.search(\"[$#@]\",p):\r\n",
        "        break\r\n",
        "    else:\r\n",
        "        print(\"Valid Password\")\r\n",
        "        x=False\r\n",
        "        break\r\n",
        "\r\n",
        "if x:\r\n",
        "    print(\"Not a Valid Password\")"
      ],
      "execution_count": 37,
      "outputs": [
        {
          "output_type": "stream",
          "text": [
            "Input your passwordNeilSu$\n",
            "Valid Password\n"
          ],
          "name": "stdout"
        }
      ]
    },
    {
      "cell_type": "markdown",
      "metadata": {
        "id": "bgyJXNNKlpnh"
      },
      "source": [
        "14. Write a Python program to reverse a string"
      ]
    },
    {
      "cell_type": "code",
      "metadata": {
        "id": "ajCggiVklvqT",
        "outputId": "fc7ed28e-679a-4d86-8950-b00c0ed2ba23",
        "colab": {
          "base_uri": "https://localhost:8080/"
        }
      },
      "source": [
        "def string_reverse(str1):\r\n",
        "\r\n",
        "    rstr1 = ''\r\n",
        "    index = len(str1)\r\n",
        "    while index > 0:\r\n",
        "        rstr1 += str1[ index - 1 ]\r\n",
        "        index = index - 1\r\n",
        "    return rstr1\r\n",
        "print(string_reverse('5656556ghghvbvh'))"
      ],
      "execution_count": 27,
      "outputs": [
        {
          "output_type": "stream",
          "text": [
            "hvbvhghg6556565\n"
          ],
          "name": "stdout"
        }
      ]
    },
    {
      "cell_type": "markdown",
      "metadata": {
        "id": "6td2aFajmDEY"
      },
      "source": [
        "15. rite a Python program that accepts a hyphen-separated sequence of words as input and prints the words in a hyphen-separated sequence after sorting them alphabetically\r\n",
        "* green-red-yellow-black-white\r\n",
        "\r\n",
        "\r\n"
      ]
    },
    {
      "cell_type": "code",
      "metadata": {
        "id": "ZKYkFqtymN8r",
        "outputId": "9877a901-0e6b-40d6-97b5-b153b7722681",
        "colab": {
          "base_uri": "https://localhost:8080/"
        }
      },
      "source": [
        "items=[n for n in input().split('-')]\r\n",
        "items.sort()\r\n",
        "print('-'.join(items))"
      ],
      "execution_count": 28,
      "outputs": [
        {
          "output_type": "stream",
          "text": [
            "green-red-yellow-black-white\n",
            "black-green-red-white-yellow\n"
          ],
          "name": "stdout"
        }
      ]
    }
  ]
}