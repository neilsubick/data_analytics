{
  "nbformat": 4,
  "nbformat_minor": 0,
  "metadata": {
    "colab": {
      "name": "Python_Basics_Exercise1.ipynb",
      "provenance": [],
      "collapsed_sections": [],
      "include_colab_link": true
    },
    "kernelspec": {
      "name": "python3",
      "display_name": "Python 3"
    }
  },
  "cells": [
    {
      "cell_type": "markdown",
      "metadata": {
        "id": "view-in-github",
        "colab_type": "text"
      },
      "source": [
        "<a href=\"https://colab.research.google.com/github/neilsubick/data_analytics/blob/main/Python_Basics_Exercise1.ipynb\" target=\"_parent\"><img src=\"https://colab.research.google.com/assets/colab-badge.svg\" alt=\"Open In Colab\"/></a>"
      ]
    },
    {
      "cell_type": "markdown",
      "metadata": {
        "id": "g3-tSKRt_mkM"
      },
      "source": [
        "**PYTHON EXERCISE FOR PRACTICE**"
      ]
    },
    {
      "cell_type": "markdown",
      "metadata": {
        "id": "bC_6Uz7DBqBH"
      },
      "source": [
        "**1: Given a two integer numbers return their product and  if the product is greater than 1000, then return their sum**\r\n",
        "\r\n",
        "number1 = 20\r\n",
        "\r\n",
        "number2 = 30"
      ]
    },
    {
      "cell_type": "code",
      "metadata": {
        "id": "HKa8yElOCEhb",
        "outputId": "4ae98ce4-1a18-409a-f89a-66354ef4dd0c",
        "colab": {
          "base_uri": "https://localhost:8080/"
        }
      },
      "source": [
        "def multiplication_sum(num1, num2):\r\n",
        "    product = num1 * num2\r\n",
        "    if product <= 1000:\r\n",
        "        return product\r\n",
        "    else:\r\n",
        "        return num1 + num2\r\n",
        "\r\n",
        "number1 = 20\r\n",
        "number2 = 30\r\n",
        "\r\n",
        "print(\"\\n\")\r\n",
        "result = multiplication_or_sum(number1, number2)\r\n",
        "print(\"The result is\", result)"
      ],
      "execution_count": 5,
      "outputs": [
        {
          "output_type": "stream",
          "text": [
            "\n",
            "\n",
            "The result is 600\n"
          ],
          "name": "stdout"
        }
      ]
    },
    {
      "cell_type": "markdown",
      "metadata": {
        "id": "gi4_I_PzCG8b"
      },
      "source": [
        "**2: Given a range of first 10 numbers, Iterate from start number to the end number and print the sum of the current number and previous number.**"
      ]
    },
    {
      "cell_type": "code",
      "metadata": {
        "id": "kEiCkup1CPI-",
        "outputId": "7aa47484-54fd-4ad3-f16f-5fe0524920e6",
        "colab": {
          "base_uri": "https://localhost:8080/"
        }
      },
      "source": [
        "def sumNum(num):\r\n",
        "    previousNum = 0\r\n",
        "    for i in range(num):\r\n",
        "        sum = previousNum + i\r\n",
        "        print(\"Current Number\", i, \"Previous Number \", previousNum,\" Sum: \", sum)\r\n",
        "        previousNum = i\r\n",
        "\r\n",
        "print(\"Printing current and previous number sum in a given range(10)\")\r\n",
        "sumNum(10)"
      ],
      "execution_count": 6,
      "outputs": [
        {
          "output_type": "stream",
          "text": [
            "Printing current and previous number sum in a given range(10)\n",
            "Current Number 0 Previous Number  0  Sum:  0\n",
            "Current Number 1 Previous Number  0  Sum:  1\n",
            "Current Number 2 Previous Number  1  Sum:  3\n",
            "Current Number 3 Previous Number  2  Sum:  5\n",
            "Current Number 4 Previous Number  3  Sum:  7\n",
            "Current Number 5 Previous Number  4  Sum:  9\n",
            "Current Number 6 Previous Number  5  Sum:  11\n",
            "Current Number 7 Previous Number  6  Sum:  13\n",
            "Current Number 8 Previous Number  7  Sum:  15\n",
            "Current Number 9 Previous Number  8  Sum:  17\n"
          ],
          "name": "stdout"
        }
      ]
    },
    {
      "cell_type": "markdown",
      "metadata": {
        "id": "TC9qS9y1CXub"
      },
      "source": [
        "**3: In the string \"pynative\", display only those characters which are present at an even index number.**"
      ]
    },
    {
      "cell_type": "code",
      "metadata": {
        "id": "TuKk3dabCsNB",
        "outputId": "45119d1e-148e-414a-ef3b-bdeebb160279",
        "colab": {
          "base_uri": "https://localhost:8080/"
        }
      },
      "source": [
        "def printEveIndexChar(str):\r\n",
        "  for i in range(0, len(str)-1, 2):\r\n",
        "    print(\"index[\",i,\"]\", str[i] )\r\n",
        "\r\n",
        "inputStr = \"pynative\" \r\n",
        "print(\"Orginal String is \", inputStr)\r\n",
        "\r\n",
        "print(\"Printing only even index chars\")\r\n",
        "printEveIndexChar(inputStr)"
      ],
      "execution_count": 7,
      "outputs": [
        {
          "output_type": "stream",
          "text": [
            "Orginal String is  pynative\n",
            "Printing only even index chars\n",
            "index[ 0 ] p\n",
            "index[ 2 ] n\n",
            "index[ 4 ] t\n",
            "index[ 6 ] v\n"
          ],
          "name": "stdout"
        }
      ]
    },
    {
      "cell_type": "markdown",
      "metadata": {
        "id": "I0P344TnCtM_"
      },
      "source": [
        "**4: In the string \"pynative\" remove characters from zero up to 5 and return a new string**"
      ]
    },
    {
      "cell_type": "code",
      "metadata": {
        "id": "Ydf43l5_DB3E",
        "outputId": "b7668045-6bc7-46dd-e45c-fe0f90ecfcca",
        "colab": {
          "base_uri": "https://localhost:8080/"
        }
      },
      "source": [
        "def removeChars(str, t):\r\n",
        "  return str[t:]\r\n",
        "\r\n",
        "print(\"Removing characters from zero up to five chars.\")\r\n",
        "print(removeChars(\"pynative\", 5))"
      ],
      "execution_count": 17,
      "outputs": [
        {
          "output_type": "stream",
          "text": [
            "Removing characters from zero up to five chars.\n",
            "ive\n"
          ],
          "name": "stdout"
        }
      ]
    },
    {
      "cell_type": "markdown",
      "metadata": {
        "id": "5i7uTUBtDQDL"
      },
      "source": [
        "**5: Reverse numbers 121 and 125 and return true if it is the same as the original number.**"
      ]
    },
    {
      "cell_type": "code",
      "metadata": {
        "id": "uVb1zuoiDl4C",
        "outputId": "cd8660af-5664-4fe5-b768-db487b030226",
        "colab": {
          "base_uri": "https://localhost:8080/"
        }
      },
      "source": [
        "def reverseCheck(number):\r\n",
        "    print(\"original number\", number)\r\n",
        "    originalNum = number\r\n",
        "    reverseNum = 0\r\n",
        "    while (number > 0):\r\n",
        "        reminder = number % 10\r\n",
        "        reverseNum = (reverseNum * 10) + reminder\r\n",
        "        number = number // 10\r\n",
        "    if (originalNum == reverseNum):\r\n",
        "        return True\r\n",
        "    else:\r\n",
        "        return False\r\n",
        "\r\n",
        "print(\"The original and reverse number is the same:\", reverseCheck(121))"
      ],
      "execution_count": 8,
      "outputs": [
        {
          "output_type": "stream",
          "text": [
            "original number 121\n",
            "The original and reverse number is the same: True\n"
          ],
          "name": "stdout"
        }
      ]
    },
    {
      "cell_type": "markdown",
      "metadata": {
        "id": "cf2_0MYzDuxl"
      },
      "source": [
        "**6: Given two list of numbers create a new list such that new list should contain only odd numbers from the first list and even numbers from the second list.**\r\n",
        "\r\n",
        "1.  List 1  [10, 20, 23, 11, 17]\r\n",
        "2.  List 2  [13, 43, 24, 36, 12]\r\n",
        "\r\n",
        "\r\n",
        "\r\n",
        " \r\n"
      ]
    },
    {
      "cell_type": "code",
      "metadata": {
        "id": "KA27ivt9EfVR",
        "outputId": "e083b2b5-6fbc-4146-c959-c02c0c2b44b2",
        "colab": {
          "base_uri": "https://localhost:8080/"
        }
      },
      "source": [
        "def mergeList(listOne, listTwo):\r\n",
        "    print(\"First List \", listOne)\r\n",
        "    print(\"Second List \", listTwo)\r\n",
        "    thirdList = []\r\n",
        "    \r\n",
        "    for num in listOne:\r\n",
        "        if (num % 2 != 0):\r\n",
        "            thirdList.append(num)\r\n",
        "    for num in listTwo:\r\n",
        "        if (num % 2 == 0):\r\n",
        "            thirdList.append(num)\r\n",
        "    return thirdList\r\n",
        "\r\n",
        "listOne = [10, 20, 23, 11, 17]\r\n",
        "listTwo = [13, 43, 24, 36, 12]\r\n",
        "\r\n",
        "print(\"result List is\", mergeList(listOne, listTwo))"
      ],
      "execution_count": 9,
      "outputs": [
        {
          "output_type": "stream",
          "text": [
            "First List  [10, 20, 23, 11, 17]\n",
            "Second List  [13, 43, 24, 36, 12]\n",
            "result List is [23, 11, 17, 24, 36, 12]\n"
          ],
          "name": "stdout"
        }
      ]
    },
    {
      "cell_type": "markdown",
      "metadata": {
        "id": "z5GgC036ESdH"
      },
      "source": [
        "**7: Write a code to extract each digit from the integer 7536  in the reverse order**"
      ]
    },
    {
      "cell_type": "code",
      "metadata": {
        "id": "Jsgyq_onUbft",
        "outputId": "78d7d389-eb38-48dc-a39c-e4b2d1ad0d3a",
        "colab": {
          "base_uri": "https://localhost:8080/"
        }
      },
      "source": [
        "number = 7536\r\n",
        "print(\"Given number\", number)\r\n",
        "while (number > 0):\r\n",
        "    # get the last digit\r\n",
        "    digit = number % 10\r\n",
        "    \r\n",
        "    # remove the last digit and repeat the loop\r\n",
        "    number = number // 10\r\n",
        "    print(digit, end=\" \")"
      ],
      "execution_count": 12,
      "outputs": [
        {
          "output_type": "stream",
          "text": [
            "Given number 7536\n",
            "6 3 5 7 "
          ],
          "name": "stdout"
        }
      ]
    },
    {
      "cell_type": "markdown",
      "metadata": {
        "id": "Ac2IVsHR_x3f"
      },
      "source": [
        "**8. What is the output of the following code?**"
      ]
    },
    {
      "cell_type": "code",
      "metadata": {
        "id": "dzuN79j2_mE_"
      },
      "source": [
        "sampleList = [\"Jon\", \"Kelly\", \"Jessa\"]\r\n",
        "sampleList.append(2, \"Scott\")\r\n",
        "print(sampleList)"
      ],
      "execution_count": null,
      "outputs": []
    },
    {
      "cell_type": "markdown",
      "metadata": {
        "id": "NhrKE9zyctA5"
      },
      "source": [
        "#1. The program executed with errors."
      ]
    },
    {
      "cell_type": "markdown",
      "metadata": {
        "id": "mqNHojQj_7Gu"
      },
      "source": [
        "1.   The program executed with errors\r\n",
        "1.   [‘Jon’, ‘Kelly’, ‘Scott’, ‘Jessa’]\r\n",
        "2.   [‘Jon’, ‘Kelly’, ‘Jessa’, ‘Scott’]\r\n",
        "2.   [‘Jon’, ‘Scott’, ‘Kelly’, ‘Jessa’]\r\n",
        "\r\n",
        "\r\n"
      ]
    },
    {
      "cell_type": "markdown",
      "metadata": {
        "id": "hOzDvWv2Aqic"
      },
      "source": [
        "***9. What is the output of the following code?***"
      ]
    },
    {
      "cell_type": "code",
      "metadata": {
        "id": "GYNREZfOAw65",
        "outputId": "00c442b0-00eb-4f61-ed57-c7780d958247",
        "colab": {
          "base_uri": "https://localhost:8080/"
        }
      },
      "source": [
        "valueOne = 5 ** 2\r\n",
        "valueTwo = 5 ** 3\r\n",
        "\r\n",
        "print(valueOne)\r\n",
        "print(valueTwo)"
      ],
      "execution_count": 20,
      "outputs": [
        {
          "output_type": "stream",
          "text": [
            "25\n",
            "125\n"
          ],
          "name": "stdout"
        }
      ]
    },
    {
      "cell_type": "markdown",
      "metadata": {
        "id": "T0-6aleFc9zK"
      },
      "source": [
        "#2. 25 125"
      ]
    },
    {
      "cell_type": "markdown",
      "metadata": {
        "id": "VGsfNQ_QA2HK"
      },
      "source": [
        "\r\n",
        "1. 10\r\n",
        "   15\r\n",
        "2. 25 \r\n",
        "   125\r\n",
        "1.Error: invalid syntax\r\n",
        "\r\n",
        "\r\n",
        "\r\n",
        "\r\n",
        "\r\n",
        "\r\n",
        "\r\n"
      ]
    },
    {
      "cell_type": "markdown",
      "metadata": {
        "id": "GCgvAVj6sG1N"
      },
      "source": [
        "**10. Display the following data using string.format() method and as a message**\r\n",
        "* totalMoney = 1000\r\n",
        "* quantity =3\r\n",
        "* price = 450 \r\n",
        "\r\n",
        "\r\n",
        "\r\n",
        "\r\n"
      ]
    },
    {
      "cell_type": "code",
      "metadata": {
        "id": "dtXfJx31syUY",
        "outputId": "3530d645-619e-4d02-a677-2ede338ae647",
        "colab": {
          "base_uri": "https://localhost:8080/"
        }
      },
      "source": [
        "quantity = 3\r\n",
        "totalMoney = 1000\r\n",
        "price = 450\r\n",
        "statement1 = \"I got {1} dollars so I can  {0} iPad for {2:.2f}.\"\r\n",
        "print(statement1.format(quantity, totalMoney, price))"
      ],
      "execution_count": 24,
      "outputs": [
        {
          "output_type": "stream",
          "text": [
            "I got 1000 dollars so I can  3 iPad for 450.00.\n"
          ],
          "name": "stdout"
        }
      ]
    },
    {
      "cell_type": "markdown",
      "metadata": {
        "id": "yxY9xGyLsywP"
      },
      "source": [
        "**11: Print First 10 natural numbers using while loop**"
      ]
    },
    {
      "cell_type": "code",
      "metadata": {
        "id": "jUvAGvZ3dlEl",
        "outputId": "d73eb6b2-ab31-4fe3-e959-001d91187a97",
        "colab": {
          "base_uri": "https://localhost:8080/"
        }
      },
      "source": [
        "i = 0\r\n",
        "while i <= 10:\r\n",
        "    print(i)\r\n",
        "    i += 1"
      ],
      "execution_count": 21,
      "outputs": [
        {
          "output_type": "stream",
          "text": [
            "0\n",
            "1\n",
            "2\n",
            "3\n",
            "4\n",
            "5\n",
            "6\n",
            "7\n",
            "8\n",
            "9\n",
            "10\n"
          ],
          "name": "stdout"
        }
      ]
    },
    {
      "cell_type": "markdown",
      "metadata": {
        "id": "5MBJ7mAztE0p"
      },
      "source": [
        "**12.  Reverse the following list using for loop**\r\n",
        "\r\n",
        "list1 = [10, 20, 30, 40, 50]"
      ]
    },
    {
      "cell_type": "code",
      "metadata": {
        "id": "TdWqlpJXtUvG",
        "outputId": "87189e14-c259-4b49-b34e-625985a9290d",
        "colab": {
          "base_uri": "https://localhost:8080/"
        }
      },
      "source": [
        "list1 = [10, 20, 30, 40, 50]\r\n",
        "start = len(list1) - 1\r\n",
        "stop = -1\r\n",
        "step = -1\r\n",
        "for i in range(start, stop, step) :\r\n",
        "    print(list1[i])"
      ],
      "execution_count": 14,
      "outputs": [
        {
          "output_type": "stream",
          "text": [
            "50\n",
            "40\n",
            "30\n",
            "20\n",
            "10\n"
          ],
          "name": "stdout"
        }
      ]
    },
    {
      "cell_type": "markdown",
      "metadata": {
        "id": "LyQAuxbgtVTM"
      },
      "source": [
        "**13: Display a message “Done” after successful execution of for loop**"
      ]
    },
    {
      "cell_type": "code",
      "metadata": {
        "id": "K8M3XInHtebM",
        "outputId": "648a75da-f82e-44fa-e012-c3add7fb11f6",
        "colab": {
          "base_uri": "https://localhost:8080/"
        }
      },
      "source": [
        "for i in range(3):\r\n",
        "    print(i)\r\n",
        "else:\r\n",
        "    print(\"Done!\")"
      ],
      "execution_count": 13,
      "outputs": [
        {
          "output_type": "stream",
          "text": [
            "0\n",
            "1\n",
            "2\n",
            "Done!\n"
          ],
          "name": "stdout"
        }
      ]
    },
    {
      "cell_type": "markdown",
      "metadata": {
        "id": "Uggz_8FotmMO"
      },
      "source": [
        "**14. Use a loop to display elements from the given list (my_list) which are present at even positions**\r\n",
        "my_list = [10, 20, 30, 40, 50, 60, 70, 80, 90, 100]"
      ]
    },
    {
      "cell_type": "code",
      "metadata": {
        "id": "XI42cUtJtxha",
        "outputId": "a4dad609-513b-45e7-d92d-30633ac7d708",
        "colab": {
          "base_uri": "https://localhost:8080/"
        }
      },
      "source": [
        "my_list = [10, 20, 30, 40, 50, 60, 70, 80, 90, 100]\r\n",
        "for i in my_list[1::2]:\r\n",
        "    print(i, end=\" \")"
      ],
      "execution_count": 22,
      "outputs": [
        {
          "output_type": "stream",
          "text": [
            "20 40 60 80 100 "
          ],
          "name": "stdout"
        }
      ]
    },
    {
      "cell_type": "markdown",
      "metadata": {
        "id": "usUBQQ0ouFgI"
      },
      "source": [
        "**15. Create a list of your favourite 5 fruits. Then**\r\n",
        "\r\n",
        "Add 2 new fruits to the list\r\n",
        "What's the length of your list now?\r\n",
        "Remove any one fruit from the list\r\n",
        "What's the new length of the list now?\r\n",
        "Could you sort the list? \r\n"
      ]
    },
    {
      "cell_type": "code",
      "metadata": {
        "id": "FyzB7ZnEyq0X"
      },
      "source": [
        ""
      ],
      "execution_count": null,
      "outputs": []
    }
  ]
}