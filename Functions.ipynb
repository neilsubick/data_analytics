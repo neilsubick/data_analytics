{
  "nbformat": 4,
  "nbformat_minor": 0,
  "metadata": {
    "colab": {
      "name": "Functions",
      "provenance": [],
      "authorship_tag": "ABX9TyMAhIpqhOuA8dRiUVgEFqBx",
      "include_colab_link": true
    },
    "kernelspec": {
      "name": "python3",
      "display_name": "Python 3"
    }
  },
  "cells": [
    {
      "cell_type": "markdown",
      "metadata": {
        "id": "view-in-github",
        "colab_type": "text"
      },
      "source": [
        "<a href=\"https://colab.research.google.com/github/neilsubick/data_analytics/blob/main/Functions.ipynb\" target=\"_parent\"><img src=\"https://colab.research.google.com/assets/colab-badge.svg\" alt=\"Open In Colab\"/></a>"
      ]
    },
    {
      "cell_type": "code",
      "metadata": {
        "colab": {
          "base_uri": "https://localhost:8080/"
        },
        "id": "_gDstR4mzFxn",
        "outputId": "b1a8d2cd-fc4e-4d76-d218-40dc9d704ee1"
      },
      "source": [
        "def greetings(name):\r\n",
        "  print(\"Hello, \" + name + \" !\")\r\n",
        "\r\n",
        "greeting('Haley')"
      ],
      "execution_count": 6,
      "outputs": [
        {
          "output_type": "stream",
          "text": [
            "Hello, I am Haley years old!\n"
          ],
          "name": "stdout"
        }
      ]
    },
    {
      "cell_type": "code",
      "metadata": {
        "colab": {
          "base_uri": "https://localhost:8080/"
        },
        "id": "GZSO-aAez8i3",
        "outputId": "c9ce0121-7fe7-43bd-d371-156fe5c2c5fa"
      },
      "source": [
        "def greeting(a):\r\n",
        "  print(\"Hello, I am \" + a + \" years old!\")\r\n",
        "\r\n",
        "greeting('12')\r\n"
      ],
      "execution_count": 3,
      "outputs": [
        {
          "output_type": "stream",
          "text": [
            "Hello, I am 12 years old!\n"
          ],
          "name": "stdout"
        }
      ]
    },
    {
      "cell_type": "code",
      "metadata": {
        "colab": {
          "base_uri": "https://localhost:8080/"
        },
        "id": "2CaCpliw0d_N",
        "outputId": "f874712f-bd50-4d89-c1e5-9e120dd12c45"
      },
      "source": [
        "def greeting_2(first_name, last_name, agex):\r\n",
        "  print(\"Hello, \" + first_name + \" \" + last_name )\r\n",
        "  print(\"I am \" + agex + \" years old.\")\r\n",
        "\r\n",
        "greeting_2('Paul','Smith','50')\r\n"
      ],
      "execution_count": 4,
      "outputs": [
        {
          "output_type": "stream",
          "text": [
            "Hello, Paul Smith\n",
            "I am 50 years old.\n"
          ],
          "name": "stdout"
        }
      ]
    },
    {
      "cell_type": "code",
      "metadata": {
        "colab": {
          "base_uri": "https://localhost:8080/"
        },
        "id": "4TLJF2C31q7U",
        "outputId": "2ffa30a6-ba31-421d-b3ef-7a64e93125e2"
      },
      "source": [
        "greeting_2('Paul', 'Smith', '50')\r\n",
        "\r\n",
        "greeting_2('Dear', 'Henry', '100')"
      ],
      "execution_count": 5,
      "outputs": [
        {
          "output_type": "stream",
          "text": [
            "Hello, Paul Smith\n",
            "I am 50 years old.\n",
            "Hello, Dear Henry\n",
            "I am 100 years old.\n"
          ],
          "name": "stdout"
        }
      ]
    },
    {
      "cell_type": "code",
      "metadata": {
        "colab": {
          "base_uri": "https://localhost:8080/"
        },
        "id": "pZwB6iFk3bE9",
        "outputId": "cb9b0e9e-77a8-47c0-fefd-dc311ac71ab2"
      },
      "source": [
        "def greeting_2(first_name, last_name, agex):\r\n",
        "  print(\"Hello, \" + first_name + \" \" + last_name )\r\n",
        "  print(\"I am \" + agex + \" years old.\")\r\n",
        "\r\n",
        "greeting_2(first_name='Paul', last_name='Smith', agex='50')\r\n",
        "\r\n",
        "greeting_2(agex='50', last_name='Smith', first_name='Paul')"
      ],
      "execution_count": 7,
      "outputs": [
        {
          "output_type": "stream",
          "text": [
            "Hello, Paul Smith\n",
            "I am 50 years old.\n",
            "Hello, Paul Smith\n",
            "I am 50 years old.\n"
          ],
          "name": "stdout"
        }
      ]
    },
    {
      "cell_type": "code",
      "metadata": {
        "colab": {
          "base_uri": "https://localhost:8080/"
        },
        "id": "nNRBWG6566-w",
        "outputId": "1202223d-a748-4ad8-ef13-da1f38e99098"
      },
      "source": [
        "def location (city, country):\r\n",
        "  print(\"I like to explore \" + city + \", \" + country + \".\" )\r\n",
        "\r\n",
        "location('Brooklyn','USA')\r\n",
        "location(country= \"USA\", city = \"Manhattan\")\r\n",
        "location('Bronx','USA')"
      ],
      "execution_count": 13,
      "outputs": [
        {
          "output_type": "stream",
          "text": [
            "I like to explore Brooklyn, USA.\n",
            "I like to explore Manhattan, USA.\n",
            "I like to explore Bronx, USA.\n"
          ],
          "name": "stdout"
        }
      ]
    }
  ]
}